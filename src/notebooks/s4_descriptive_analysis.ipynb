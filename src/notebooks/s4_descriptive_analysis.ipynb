{
 "cells": [
  {
   "cell_type": "markdown",
   "source": [
    "# Descriptive analysis"
   ],
   "metadata": {
    "collapsed": false
   }
  },
  {
   "cell_type": "code",
   "execution_count": 1,
   "outputs": [],
   "source": [
    "%load_ext autoreload\n",
    "%autoreload 2"
   ],
   "metadata": {
    "collapsed": false,
    "pycharm": {
     "name": "#%%\n"
    }
   }
  },
  {
   "cell_type": "code",
   "execution_count": 63,
   "outputs": [],
   "source": [
    "import pandas as pd\n",
    "import os\n",
    "from pathlib import Path\n",
    "import json\n",
    "import numpy as np\n",
    "\n",
    "figure_path = os.path.join(Path(os.getcwd()).parent.parent, 'figures/')\n",
    "data_path = os.path.join(Path(os.getcwd()).parent.parent, 'data/')\n",
    "with open(os.path.join(data_path, 'value_mapping.txt'), encoding='utf-8') as json_file:\n",
    "    value_dict = json.load(json_file)"
   ],
   "metadata": {
    "collapsed": false,
    "pycharm": {
     "name": "#%%\n"
    }
   }
  },
  {
   "cell_type": "code",
   "execution_count": 3,
   "outputs": [
    {
     "name": "stdout",
     "output_type": "stream",
     "text": [
      "id [     1      2      3 ... 237253 237254 237255] \n",
      "\n",
      "type ['11' '35' '21' 'Others' '19' 'Unknown' '29' '12' '312' '36' '223' '38'\n",
      " '34' '33' '999'] \n",
      "\n",
      "weather ['1' '2' '3' 'Unknown' '4' '89'] \n",
      "\n",
      "reason ['1094' '1043' '1225' '1103' 'Others' 'Unknown' '1074' '2006' '1313'\n",
      " '2005' '1205' '2024' '1046' '1316' '2009' '2007' '2004' '1302' '3026'\n",
      " '1042'] \n",
      "\n",
      "road_type ['21' '11' '29' '10' '22' 'Unknown' '27' '25' '12' '26' '14' '13'] \n",
      "\n",
      "gender ['1' '0' 'Unknown'] \n",
      "\n",
      "age ['(45, 50]' '(60, 65]' '(25, 30]' '(18, 25]' '(30, 35]' '(35, 40]'\n",
      " '(50, 55]' '(40, 45]' 'Unknown' '(55, 60]' '< 18' '> 70' '(65, 70]'] \n",
      "\n",
      "edu ['Unknown' '2' '3' '5' '1' '4' '0' '6'] \n",
      "\n",
      "respon ['0' '1' '2' '3' '4' 'Unknown' '5'] \n",
      "\n",
      "veh_type ['2' '4' '3' '6' '1' 'Unknown' '5'] \n",
      "\n",
      "travel_mode ['3' '2' '1' 'Unknown' '4'] \n",
      "\n",
      "injs ['= 0' '(0, 4]' '(4, 9]' '> 9'] \n",
      "\n",
      "deaths ['= 0' '(0, 4]' '(4, 9]'] \n",
      "\n",
      "weekday [3 4 5 6 7 1 2] \n",
      "\n",
      "hour [ 0  1  2  3  4  5  6  7  8  9 10 11 12 13 14 15 16 17 18 19 20 21 22 23] \n",
      "\n",
      "injs_num [ 0  2  4  1  8  6 10  3  5  7 12 98 20 18 14 16  9 13 48 11 28 52 22 32] \n",
      "\n",
      "deaths_num [0 1 2 6 3 8] \n",
      "\n",
      "cluster ['2' '5' '3' '6' '4' '1' 'Unknown'] \n",
      "\n"
     ]
    }
   ],
   "source": [
    "# Load data\n",
    "df = pd.read_csv(os.path.join(data_path, 'data_s3.csv'), low_memory=False)\n",
    "\n",
    "for var in df.columns:\n",
    "    print(var, df[var].unique(), '\\n')"
   ],
   "metadata": {
    "collapsed": false,
    "pycharm": {
     "name": "#%%\n"
    }
   }
  },
  {
   "cell_type": "markdown",
   "source": [
    "## 1 Data summary: variables and levels\n",
    "### 1.1 Summarize variables and its levels"
   ],
   "metadata": {
    "collapsed": false,
    "pycharm": {
     "name": "#%% md\n"
    }
   }
  },
  {
   "cell_type": "code",
   "execution_count": 4,
   "outputs": [],
   "source": [
    "# Rename columns\n",
    "var_mapping = {'weekday': 'Day of week',\n",
    "               'hour': 'Time of day',\n",
    "               'weather': 'Weather',\n",
    "               'cluster': 'Land-use cluster',\n",
    "               'type': 'Crash type',\n",
    "               'reason': 'Crash causation',\n",
    "               'road_type': 'Road type',\n",
    "               'veh_type': 'Vehicle type',\n",
    "               'injs': 'Injuries (bin)',\n",
    "               'deaths': 'Deaths (bin)',\n",
    "               'injs_num': 'Injuries',\n",
    "               'deaths_num': 'Deaths',\n",
    "               'age': 'Age',\n",
    "               'edu': 'Education level',\n",
    "               'gender': 'Gender',\n",
    "               'respon': 'Responsibility',\n",
    "               'travel_mode': 'Travel method'}\n",
    "\n",
    "df = df.rename(columns={k: v for k, v in var_mapping.items()})"
   ],
   "metadata": {
    "collapsed": false,
    "pycharm": {
     "name": "#%%\n"
    }
   }
  },
  {
   "cell_type": "code",
   "execution_count": 5,
   "outputs": [
    {
     "data": {
      "text/plain": "id                         1\nCrash type                11\nWeather                    1\nCrash causation         1094\nRoad type                 21\nGender                     1\nAge                 (45, 50]\nEducation level      Unknown\nResponsibility             0\nVehicle type               2\nTravel method              3\nInjuries (bin)           = 0\nDeaths (bin)             = 0\nDay of week                3\nTime of day                0\nInjuries                   0\nDeaths                     0\nLand-use cluster           2\nName: 0, dtype: object"
     },
     "execution_count": 5,
     "metadata": {},
     "output_type": "execute_result"
    }
   ],
   "source": [
    "# Extract levels\n",
    "col_list = list(df.columns)\n",
    "col_list.remove('id')\n",
    "level_df_list = []\n",
    "for var in col_list:\n",
    "    level_df_list.append(pd.DataFrame([(var, x) for x in df[var].unique()], columns=['var', 'level']))\n",
    "df_level = pd.concat(level_df_list)\n",
    "df_level.to_clipboard(index=False)\n",
    "df.iloc[0]"
   ],
   "metadata": {
    "collapsed": false,
    "pycharm": {
     "name": "#%%\n"
    }
   }
  },
  {
   "cell_type": "markdown",
   "source": [
    "### 1.2 Manually define the translate of levels for each variable\n",
    "The file is stored in bn_var_level_translate.xlsx.\n"
   ],
   "metadata": {
    "collapsed": false,
    "pycharm": {
     "name": "#%% md\n"
    }
   }
  },
  {
   "cell_type": "code",
   "execution_count": 6,
   "outputs": [],
   "source": [
    "## Prepare table for write-up\n",
    "df_var_list = []\n",
    "df_lvs = pd.read_excel(os.path.join(Path(os.getcwd()).parent.parent, 'docs/var_level_translate.xlsx'))\n",
    "\n",
    "for var, frame in df_lvs.groupby('var'):\n",
    "    ld = '; '.join([' '.join([str(row['level_index']) + ')', str(row['en'])]) for _, row in frame.sort_values(by='level_index').iterrows()])\n",
    "    df_var_list.append(pd.DataFrame([(var, str(len(frame)), ld)], columns=('Variable', 'Level number', 'Level description')))\n",
    "df_var_tb = pd.concat(df_var_list)\n",
    "df_var_tb.to_clipboard(index=False)"
   ],
   "metadata": {
    "collapsed": false,
    "pycharm": {
     "name": "#%%\n"
    }
   }
  },
  {
   "cell_type": "markdown",
   "source": [
    "## 2 Replace numerical levels with English abbreviations for easy description"
   ],
   "metadata": {
    "collapsed": false,
    "pycharm": {
     "name": "#%% md\n"
    }
   }
  },
  {
   "cell_type": "code",
   "execution_count": 7,
   "outputs": [],
   "source": [
    "df_lvs = df_lvs.astype(str)"
   ],
   "metadata": {
    "collapsed": false,
    "pycharm": {
     "name": "#%%\n"
    }
   }
  },
  {
   "cell_type": "code",
   "execution_count": 8,
   "outputs": [
    {
     "data": {
      "text/plain": "   id Crash type Weather Crash causation Road type  Gender       Age  \\\n0   1        CT3   Sunny             CC8       RT6    Male  (45, 50]   \n1   1        CT3   Sunny             CC8       RT6  Female  (45, 50]   \n2   2        CT3   Sunny             CC2       RT2    Male  (60, 65]   \n3   2        CT3   Sunny             CC2       RT2    Male  (25, 30]   \n4   3        CT3   Sunny             CC9      RT11  Female  (18, 25]   \n\n  Education level Responsibility Vehicle type              Travel method  \\\n0         Unknown             No          Bus      Driving motor vehicle   \n1         Unknown           Full          Bus      Driving motor vehicle   \n2             EL3             No   Motorcycle      Driving motor vehicle   \n3             EL3           Full        Truck      Driving motor vehicle   \n4         Unknown          Equal       Others  Driving non-motor vehicle   \n\n  Injuries (bin) Deaths (bin) Day of week Time of day  Injuries  Deaths  \\\n0            = 0          = 0         Wed           0         0       0   \n1            = 0          = 0         Wed           0         0       0   \n2            = 0          = 0         Wed           0         0       0   \n3            = 0          = 0         Wed           0         0       0   \n4         (0, 4]          = 0         Wed           0         2       0   \n\n  Land-use cluster  \n0             LUC2  \n1             LUC2  \n2             LUC5  \n3             LUC5  \n4             LUC2  ",
      "text/html": "<div>\n<style scoped>\n    .dataframe tbody tr th:only-of-type {\n        vertical-align: middle;\n    }\n\n    .dataframe tbody tr th {\n        vertical-align: top;\n    }\n\n    .dataframe thead th {\n        text-align: right;\n    }\n</style>\n<table border=\"1\" class=\"dataframe\">\n  <thead>\n    <tr style=\"text-align: right;\">\n      <th></th>\n      <th>id</th>\n      <th>Crash type</th>\n      <th>Weather</th>\n      <th>Crash causation</th>\n      <th>Road type</th>\n      <th>Gender</th>\n      <th>Age</th>\n      <th>Education level</th>\n      <th>Responsibility</th>\n      <th>Vehicle type</th>\n      <th>Travel method</th>\n      <th>Injuries (bin)</th>\n      <th>Deaths (bin)</th>\n      <th>Day of week</th>\n      <th>Time of day</th>\n      <th>Injuries</th>\n      <th>Deaths</th>\n      <th>Land-use cluster</th>\n    </tr>\n  </thead>\n  <tbody>\n    <tr>\n      <th>0</th>\n      <td>1</td>\n      <td>CT3</td>\n      <td>Sunny</td>\n      <td>CC8</td>\n      <td>RT6</td>\n      <td>Male</td>\n      <td>(45, 50]</td>\n      <td>Unknown</td>\n      <td>No</td>\n      <td>Bus</td>\n      <td>Driving motor vehicle</td>\n      <td>= 0</td>\n      <td>= 0</td>\n      <td>Wed</td>\n      <td>0</td>\n      <td>0</td>\n      <td>0</td>\n      <td>LUC2</td>\n    </tr>\n    <tr>\n      <th>1</th>\n      <td>1</td>\n      <td>CT3</td>\n      <td>Sunny</td>\n      <td>CC8</td>\n      <td>RT6</td>\n      <td>Female</td>\n      <td>(45, 50]</td>\n      <td>Unknown</td>\n      <td>Full</td>\n      <td>Bus</td>\n      <td>Driving motor vehicle</td>\n      <td>= 0</td>\n      <td>= 0</td>\n      <td>Wed</td>\n      <td>0</td>\n      <td>0</td>\n      <td>0</td>\n      <td>LUC2</td>\n    </tr>\n    <tr>\n      <th>2</th>\n      <td>2</td>\n      <td>CT3</td>\n      <td>Sunny</td>\n      <td>CC2</td>\n      <td>RT2</td>\n      <td>Male</td>\n      <td>(60, 65]</td>\n      <td>EL3</td>\n      <td>No</td>\n      <td>Motorcycle</td>\n      <td>Driving motor vehicle</td>\n      <td>= 0</td>\n      <td>= 0</td>\n      <td>Wed</td>\n      <td>0</td>\n      <td>0</td>\n      <td>0</td>\n      <td>LUC5</td>\n    </tr>\n    <tr>\n      <th>3</th>\n      <td>2</td>\n      <td>CT3</td>\n      <td>Sunny</td>\n      <td>CC2</td>\n      <td>RT2</td>\n      <td>Male</td>\n      <td>(25, 30]</td>\n      <td>EL3</td>\n      <td>Full</td>\n      <td>Truck</td>\n      <td>Driving motor vehicle</td>\n      <td>= 0</td>\n      <td>= 0</td>\n      <td>Wed</td>\n      <td>0</td>\n      <td>0</td>\n      <td>0</td>\n      <td>LUC5</td>\n    </tr>\n    <tr>\n      <th>4</th>\n      <td>3</td>\n      <td>CT3</td>\n      <td>Sunny</td>\n      <td>CC9</td>\n      <td>RT11</td>\n      <td>Female</td>\n      <td>(18, 25]</td>\n      <td>Unknown</td>\n      <td>Equal</td>\n      <td>Others</td>\n      <td>Driving non-motor vehicle</td>\n      <td>(0, 4]</td>\n      <td>= 0</td>\n      <td>Wed</td>\n      <td>0</td>\n      <td>2</td>\n      <td>0</td>\n      <td>LUC2</td>\n    </tr>\n  </tbody>\n</table>\n</div>"
     },
     "execution_count": 8,
     "metadata": {},
     "output_type": "execute_result"
    }
   ],
   "source": [
    "for var in df.columns:\n",
    "    if var not in ['id', 'Injuries', 'Deaths']:\n",
    "        df.loc[:, var] = df.loc[:, var].astype(str)\n",
    "        lvs_dict = {row['level']: row['abbr'] for _, row in df_lvs.loc[df_lvs['var'] == var, :].iterrows()}\n",
    "        df.loc[:, var] = df.loc[:, var].apply(lambda x: lvs_dict[x])\n",
    "df.head()"
   ],
   "metadata": {
    "collapsed": false,
    "pycharm": {
     "name": "#%%\n"
    }
   }
  },
  {
   "cell_type": "code",
   "execution_count": 9,
   "outputs": [],
   "source": [
    "# Remove duplicated records to look at the crash attributes\n",
    "df_rec = df.drop_duplicates(subset=['id'])\n"
   ],
   "metadata": {
    "collapsed": false,
    "pycharm": {
     "name": "#%%\n"
    }
   }
  },
  {
   "cell_type": "markdown",
   "source": [
    "## 3 Statistics of different crash attributes\n",
    "This part of the results are summarised in docs/article_tables.xlsx."
   ],
   "metadata": {
    "collapsed": false,
    "pycharm": {
     "name": "#%% md\n"
    }
   }
  },
  {
   "cell_type": "code",
   "execution_count": 10,
   "outputs": [
    {
     "name": "stdout",
     "output_type": "stream",
     "text": [
      "Total number of crashes: 237255\n",
      "Total number of the involved traffic participants: 436412\n"
     ]
    }
   ],
   "source": [
    "print(f'Total number of crashes: {len(df_rec)}')\n",
    "print(f'Total number of the involved traffic participants: {len(df)}')"
   ],
   "metadata": {
    "collapsed": false,
    "pycharm": {
     "name": "#%%\n"
    }
   }
  },
  {
   "cell_type": "code",
   "execution_count": 40,
   "outputs": [],
   "source": [
    "def basic(data):\n",
    "    data = pd.merge(data, df_lvs.loc[df_lvs['var'] == var, ['en', 'abbr']],\n",
    "                    left_on=var, right_on='abbr')\n",
    "    num = len(data)\n",
    "    injs = data['Injuries'].sum()\n",
    "    deaths = data['Deaths'].sum()\n",
    "    return pd.Series({'Var en': data.iloc[0]['en'],\n",
    "                      'Crash number': num, 'Crash %': num / len(df_rec) * 100,\n",
    "                      'Deaths number': deaths, 'Deaths %': deaths / df_rec['Deaths'].sum() * 100,\n",
    "                      'Injuries number': injs, 'Injuries %': injs / df_rec['Injuries'].sum() * 100\n",
    "                      })"
   ],
   "metadata": {
    "collapsed": false,
    "pycharm": {
     "name": "#%%\n"
    }
   }
  },
  {
   "cell_type": "markdown",
   "source": [
    "### 3.1 Travel method (Travel method)\n",
    "Impact on: number of crashes, deaths, injuries."
   ],
   "metadata": {
    "collapsed": false,
    "pycharm": {
     "name": "#%% md\n"
    }
   }
  },
  {
   "cell_type": "code",
   "execution_count": 42,
   "outputs": [],
   "source": [
    "var = 'Travel method'\n",
    "df_rec.groupby(var).apply(basic).to_clipboard()"
   ],
   "metadata": {
    "collapsed": false,
    "pycharm": {
     "name": "#%%\n"
    }
   }
  },
  {
   "cell_type": "markdown",
   "source": [
    "### 3.2 Road type (Road type)\n",
    "Impact on: number of crashes, deaths, injuries."
   ],
   "metadata": {
    "collapsed": false,
    "pycharm": {
     "name": "#%% md\n"
    }
   }
  },
  {
   "cell_type": "code",
   "execution_count": 43,
   "outputs": [],
   "source": [
    "var = 'Road type'\n",
    "df_rec.groupby(var).apply(basic).to_clipboard()\n"
   ],
   "metadata": {
    "collapsed": false,
    "pycharm": {
     "name": "#%%\n"
    }
   }
  },
  {
   "cell_type": "markdown",
   "source": [
    "### 3.3 Crash type (Crash type)\n",
    "Impact on: number of crashes, deaths, injuries."
   ],
   "metadata": {
    "collapsed": false
   }
  },
  {
   "cell_type": "code",
   "execution_count": 36,
   "outputs": [],
   "source": [
    "var = 'Crash type'\n",
    "df_rec.groupby(var).apply(basic).to_clipboard()\n"
   ],
   "metadata": {
    "collapsed": false,
    "pycharm": {
     "name": "#%%\n"
    }
   }
  },
  {
   "cell_type": "markdown",
   "source": [
    "### 3.4 Weather (Weather)\n",
    "Impact on: number of crashes, deaths, injuries."
   ],
   "metadata": {
    "collapsed": false
   }
  },
  {
   "cell_type": "code",
   "execution_count": 37,
   "outputs": [],
   "source": [
    "var = 'Weather'\n",
    "df_rec.groupby(var).apply(basic).to_clipboard()"
   ],
   "metadata": {
    "collapsed": false,
    "pycharm": {
     "name": "#%%\n"
    }
   }
  },
  {
   "cell_type": "markdown",
   "source": [
    "#### 3.4.1 Compare with the overall weather\n",
    "Look at the weather records downloaded from OpenWeather."
   ],
   "metadata": {
    "collapsed": false,
    "pycharm": {
     "name": "#%% md\n"
    }
   }
  },
  {
   "cell_type": "code",
   "execution_count": 51,
   "outputs": [
    {
     "data": {
      "text/plain": "weather_main\nClear            3100\nClouds          16244\nHaze                5\nMist               22\nRain             6936\nThunderstorm        5\ndtype: int64"
     },
     "execution_count": 51,
     "metadata": {},
     "output_type": "execute_result"
    }
   ],
   "source": [
    "df_weather = pd.read_csv(os.path.join(data_path, 'weather_shenzhen_2014-2016.csv'),\n",
    "                         usecols=['dt_iso', 'weather_main'])\n",
    "df_weather.dt_iso = df_weather.dt_iso.apply(lambda x: x.split(' ')[0])\n",
    "df_weather.groupby('weather_main').size()"
   ],
   "metadata": {
    "collapsed": false,
    "pycharm": {
     "name": "#%%\n"
    }
   }
  },
  {
   "cell_type": "markdown",
   "source": [
    "### 3.5 Crash causation (Crash causation)\n",
    "Impact on: number of crashes, deaths, injuries."
   ],
   "metadata": {
    "collapsed": false,
    "pycharm": {
     "name": "#%% md\n"
    }
   }
  },
  {
   "cell_type": "code",
   "execution_count": 38,
   "outputs": [],
   "source": [
    "var = 'Crash causation'\n",
    "df_rec.groupby(var).apply(basic).to_clipboard()"
   ],
   "metadata": {
    "collapsed": false,
    "pycharm": {
     "name": "#%%\n"
    }
   }
  },
  {
   "cell_type": "markdown",
   "source": [
    "### 3.6 Impact of month of year, day of week, and time of day\n",
    "Impact on: number of crashes.\n",
    "\n",
    "Run scr/plot_crash_by_time.R will get the plots."
   ],
   "metadata": {
    "collapsed": false
   }
  },
  {
   "cell_type": "markdown",
   "source": [
    "### 3.7 Land-use cluster\n",
    "Impact on: number of crashes."
   ],
   "metadata": {
    "collapsed": false
   }
  },
  {
   "cell_type": "code",
   "execution_count": 45,
   "outputs": [],
   "source": [
    "var = 'Land-use cluster'\n",
    "df_rec.groupby(var).apply(basic).to_clipboard()"
   ],
   "metadata": {
    "collapsed": false,
    "pycharm": {
     "name": "#%%\n"
    }
   }
  },
  {
   "cell_type": "markdown",
   "source": [
    "## 4 Statistics of different crash attributes: traffic participants\n",
    "This part of the results are summarised in docs/article_tables.xlsx.\n",
    "This part only focuses on the traffic participants who were driving a motor vehicle."
   ],
   "metadata": {
    "collapsed": false,
    "pycharm": {
     "name": "#%% md\n"
    }
   }
  },
  {
   "cell_type": "code",
   "execution_count": 47,
   "outputs": [
    {
     "name": "stdout",
     "output_type": "stream",
     "text": [
      "Number of drivers involved in the crashes: 309194\n"
     ]
    }
   ],
   "source": [
    "# Select motor-vehicle drivers\n",
    "df = df.loc[df['Travel method'] == 'Driving motor vehicle', :]\n",
    "\n",
    "print(f'Number of drivers involved in the crashes: {len(df)}')"
   ],
   "metadata": {
    "collapsed": false,
    "pycharm": {
     "name": "#%%\n"
    }
   }
  },
  {
   "cell_type": "code",
   "execution_count": 56,
   "outputs": [],
   "source": [
    "tbl_head = ['Total', 'Full', 'Full%', 'Major', 'Major%', 'Equal', 'Equal%',\n",
    "            'Minor', 'Minor%', 'No', 'No%', 'Unknown', 'Unknown%']\n",
    "\n",
    "def res(data):\n",
    "    mn_get = df_lvs.loc[df_lvs['var'] == 'Responsibility', ['en', 'abbr']]\n",
    "    mn_get = mn_get.loc[mn_get['en'] != 'Unable to determine', :]\n",
    "    data = pd.merge(data, mn_get,\n",
    "                    left_on='Responsibility', right_on='abbr', how='left')\n",
    "    num = data.groupby('Responsibility')['id'].size().reset_index()\n",
    "    r = dict()\n",
    "    r['Total'] = len(data) / len(df) * 100\n",
    "    for _, row in num.iterrows():\n",
    "        r[row['Responsibility']] = row['id']\n",
    "        r[row['Responsibility']+ '%'] = row['id'] / len(data) * 100\n",
    "    respon = pd.Series(r)\n",
    "    for vr in tbl_head:\n",
    "        if vr not in respon.index:\n",
    "            respon[vr] = 0\n",
    "    respon = respon[tbl_head]\n",
    "    return respon"
   ],
   "metadata": {
    "collapsed": false,
    "pycharm": {
     "name": "#%%\n"
    }
   }
  },
  {
   "cell_type": "markdown",
   "source": [
    "### 4.1 Gender of involved traffic participants\n",
    "Impact on: responsibility."
   ],
   "metadata": {
    "collapsed": false
   }
  },
  {
   "cell_type": "code",
   "execution_count": 54,
   "outputs": [],
   "source": [
    "df.groupby('Gender').apply(res).to_clipboard()"
   ],
   "metadata": {
    "collapsed": false,
    "pycharm": {
     "name": "#%%\n"
    }
   }
  },
  {
   "cell_type": "markdown",
   "source": [
    "### 4.2 Age of involved traffic participants\n",
    "Impact on: responsibility."
   ],
   "metadata": {
    "collapsed": false,
    "pycharm": {
     "name": "#%% md\n"
    }
   }
  },
  {
   "cell_type": "code",
   "execution_count": 58,
   "outputs": [],
   "source": [
    "df.groupby('Age').apply(res).to_clipboard()"
   ],
   "metadata": {
    "collapsed": false,
    "pycharm": {
     "name": "#%%\n"
    }
   }
  },
  {
   "cell_type": "markdown",
   "source": [
    "### 4.3 Education level of involved traffic participants\n",
    "Impact on: responsibility."
   ],
   "metadata": {
    "collapsed": false
   }
  },
  {
   "cell_type": "code",
   "execution_count": 59,
   "outputs": [],
   "source": [
    "df.groupby('Education level').apply(res).to_clipboard()"
   ],
   "metadata": {
    "collapsed": false,
    "pycharm": {
     "name": "#%%\n"
    }
   }
  },
  {
   "cell_type": "markdown",
   "source": [
    "### 4.4 Vehicle type of involved traffic participants\n",
    "Impact on: responsibility."
   ],
   "metadata": {
    "collapsed": false
   }
  },
  {
   "cell_type": "code",
   "execution_count": 61,
   "outputs": [],
   "source": [
    "df.groupby('Vehicle type').apply(res).to_clipboard()"
   ],
   "metadata": {
    "collapsed": false,
    "pycharm": {
     "name": "#%%\n"
    }
   }
  },
  {
   "cell_type": "markdown",
   "source": [
    "## 5 Prepare data for Bayesian network modelling\n",
    "1 Focus on motor-vehicle drivers and their crashes like data used in the section 4 of this notebook.\n",
    "\n",
    "2 Drop Education level because of too many missing values.\n",
    "\n",
    "3 Merge injuries and deaths for the ease of interpretation.\n",
    "\n",
    "4 Keep the crash records with clear information, i.e., no unknown and others fields."
   ],
   "metadata": {
    "collapsed": false,
    "pycharm": {
     "name": "#%% md\n"
    }
   }
  },
  {
   "cell_type": "code",
   "execution_count": 69,
   "outputs": [],
   "source": [
    "# Drop Education level\n",
    "df2bn = df.drop(columns=['Education level'])"
   ],
   "metadata": {
    "collapsed": false,
    "pycharm": {
     "name": "#%%\n"
    }
   }
  },
  {
   "cell_type": "code",
   "execution_count": 70,
   "outputs": [],
   "source": [
    "# Merge injuries and deaths\n",
    "var = 'Injuries and deaths'\n",
    "df2bn.loc[:, var] = df2bn['Injuries'] + df2bn['Deaths']\n",
    "df2bn.loc[:, var] = pd.cut(df2bn[var], bins=[-1, 0, 4, 9, 1000])\n",
    "cat_dict = {'(-1, 0]': '= 0', '(9, 1000]': '> 9'}\n",
    "df2bn.loc[:, var] = df2bn.loc[:, var].apply(lambda x: cat_dict[str(x)] if str(x) in cat_dict else str(x))\n",
    "df2bn.loc[:, var].cat.add_categories(\"Unknown\", inplace=True)\n",
    "df2bn.loc[:, var].fillna(\"Unknown\", inplace=True)"
   ],
   "metadata": {
    "collapsed": false,
    "pycharm": {
     "name": "#%%\n"
    }
   }
  },
  {
   "cell_type": "code",
   "execution_count": 71,
   "outputs": [],
   "source": [
    "# Keep the crash records with complete information\n",
    "df2bn.replace(to_replace = ['Unknown', 'Others'], value = np.nan, inplace = True)\n",
    "df2bn.dropna(inplace=True)"
   ],
   "metadata": {
    "collapsed": false,
    "pycharm": {
     "name": "#%%\n"
    }
   }
  },
  {
   "cell_type": "code",
   "execution_count": 72,
   "outputs": [
    {
     "name": "stdout",
     "output_type": "stream",
     "text": [
      "Number of crashes/drivers to construct the Bayesian network: 235901\n"
     ]
    }
   ],
   "source": [
    "# Save it\n",
    "print(f'Number of crashes/drivers to construct the Bayesian network: {len(df2bn)}')\n",
    "df2bn.to_csv(os.path.join(data_path, 'data_s4.csv'), index=False)"
   ],
   "metadata": {
    "collapsed": false,
    "pycharm": {
     "name": "#%%\n"
    }
   }
  }
 ],
 "metadata": {
  "kernelspec": {
   "display_name": "Python 3",
   "language": "python",
   "name": "python3"
  },
  "language_info": {
   "codemirror_mode": {
    "name": "ipython",
    "version": 2
   },
   "file_extension": ".py",
   "mimetype": "text/x-python",
   "name": "python",
   "nbconvert_exporter": "python",
   "pygments_lexer": "ipython2",
   "version": "2.7.6"
  }
 },
 "nbformat": 4,
 "nbformat_minor": 0
}