{
 "cells": [
  {
   "cell_type": "markdown",
   "metadata": {
    "collapsed": true,
    "pycharm": {
     "name": "#%% md\n"
    }
   },
   "source": [
    "# Data preprocessing\n",
    "\n",
    "Input: data/data_s1.csv"
   ]
  },
  {
   "cell_type": "code",
   "execution_count": 1,
   "outputs": [],
   "source": [
    "%load_ext autoreload\n",
    "%autoreload 2"
   ],
   "metadata": {
    "collapsed": false,
    "pycharm": {
     "name": "#%%\n"
    }
   }
  },
  {
   "cell_type": "code",
   "execution_count": 2,
   "outputs": [],
   "source": [
    "import pandas as pd\n",
    "import numpy as np\n",
    "import os\n",
    "from pathlib import Path\n",
    "import json\n",
    "from datetime import datetime\n",
    "\n",
    "data_path = os.path.join(Path(os.getcwd()).parent.parent, 'data/')\n",
    "with open(os.path.join(data_path, 'value_mapping.txt'), encoding='utf-8') as json_file:\n",
    "    value_dict = json.load(json_file)"
   ],
   "metadata": {
    "collapsed": false,
    "pycharm": {
     "name": "#%%\n"
    }
   }
  },
  {
   "cell_type": "code",
   "execution_count": 3,
   "outputs": [
    {
     "name": "stdout",
     "output_type": "stream",
     "text": [
      "<class 'pandas.core.frame.DataFrame'>\n",
      "RangeIndex: 436412 entries, 0 to 436411\n",
      "Data columns (total 19 columns):\n",
      " #   Column       Non-Null Count   Dtype  \n",
      "---  ------       --------------   -----  \n",
      " 0   id           436412 non-null  int64  \n",
      " 1   time         436412 non-null  object \n",
      " 2   type         395731 non-null  float64\n",
      " 3   weather      436412 non-null  int64  \n",
      " 4   reason       432503 non-null  float64\n",
      " 5   lat          431092 non-null  float64\n",
      " 6   long         431092 non-null  float64\n",
      " 7   road_type    396141 non-null  float64\n",
      " 8   death        436412 non-null  int64  \n",
      " 9   death_s      436412 non-null  int64  \n",
      " 10  inj_b        436412 non-null  int64  \n",
      " 11  inj_l        436412 non-null  int64  \n",
      " 12  inj          436412 non-null  int64  \n",
      " 13  gender       352636 non-null  object \n",
      " 14  age          388715 non-null  float64\n",
      " 15  edu          87774 non-null   object \n",
      " 16  respon       358072 non-null  object \n",
      " 17  veh_type     392369 non-null  object \n",
      " 18  travel_mode  392369 non-null  object \n",
      "dtypes: float64(6), int64(7), object(6)\n",
      "memory usage: 63.3+ MB\n"
     ]
    }
   ],
   "source": [
    "# Load data\n",
    "df = pd.read_csv(os.path.join(data_path, \"data_s1.csv\"))\n",
    "# Drop the below columns for being out of interest\n",
    "df.drop(columns=['road_name', 'distr', 'miss', 'acc_id'], inplace=True)\n",
    "df.info()"
   ],
   "metadata": {
    "collapsed": false,
    "pycharm": {
     "name": "#%%\n"
    }
   }
  },
  {
   "cell_type": "markdown",
   "source": [
    "## 1 Process gender, edu, veh_type, deaths & injuries, and time\n",
    "data/value_mapping.txt"
   ],
   "metadata": {
    "collapsed": false,
    "pycharm": {
     "name": "#%% md\n"
    }
   }
  },
  {
   "cell_type": "markdown",
   "source": [
    "### 1.1 Prepare for veh_type mapping rules"
   ],
   "metadata": {
    "collapsed": false,
    "pycharm": {
     "name": "#%% md\n"
    }
   }
  },
  {
   "cell_type": "code",
   "execution_count": 4,
   "outputs": [],
   "source": [
    "df_veh_type = pd.DataFrame(list(df.veh_type.unique()), columns=['veh_type'])\n",
    "df_veh_type.dropna(inplace=True)\n",
    "def cate_func(x):\n",
    "    if '轿车' in x:\n",
    "        return 1\n",
    "    elif ('货车' in x) or ('牵引' in x) or ('挂车' in x) or ('厢车' in x):\n",
    "        return 3\n",
    "    elif '客车' in x:\n",
    "        return 2\n",
    "    elif '摩托车' in x:\n",
    "        return 4\n",
    "    elif 'F' in x:\n",
    "        return 5\n",
    "    else:\n",
    "        return 6\n",
    "\n",
    "df_veh_type.loc[:, 'cate'] = df_veh_type.loc[:, 'veh_type'].apply(lambda x: cate_func(x) if x != np.nan else x)\n",
    "veh_type_dict = {row['veh_type']: row['cate'] for _, row in df_veh_type.iterrows()}"
   ],
   "metadata": {
    "collapsed": false,
    "pycharm": {
     "name": "#%%\n"
    }
   }
  },
  {
   "cell_type": "markdown",
   "source": [
    "### 1.2 Prepare for travel_mode mapping rules"
   ],
   "metadata": {
    "collapsed": false,
    "pycharm": {
     "name": "#%% md\n"
    }
   }
  },
  {
   "cell_type": "code",
   "execution_count": 5,
   "outputs": [],
   "source": [
    "df_travel_mode = pd.DataFrame(list(df.travel_mode.unique()), columns=['travel_mode'])\n",
    "df_travel_mode.dropna(inplace=True)\n",
    "def cate_func_m(x):\n",
    "    if '步行' in x:\n",
    "        return 1\n",
    "    elif ('三轮车' in x) or ('自行车' in x) or ('手推车' in x) or ('电动自行车' in x) or ('其它非机动车' in x):\n",
    "        return 2\n",
    "    elif '其它' in x:\n",
    "        return 4\n",
    "    else:\n",
    "        return 3\n",
    "df_travel_mode.loc[:, 'cate'] = df_travel_mode.loc[:, 'travel_mode'].apply(lambda x: cate_func_m(x) if x != np.nan else x)\n",
    "travel_mode_dict = {row['travel_mode']: row['cate'] for _, row in df_travel_mode.iterrows()}"
   ],
   "metadata": {
    "collapsed": false,
    "pycharm": {
     "name": "#%%\n"
    }
   }
  },
  {
   "cell_type": "markdown",
   "source": [
    "### 1.3 Process gender, edu, respon, and veh_type\n",
    "gender, edu, respon from externally defined mapping rules: value_dict."
   ],
   "metadata": {
    "collapsed": false
   }
  },
  {
   "cell_type": "code",
   "execution_count": 6,
   "outputs": [
    {
     "name": "stdout",
     "output_type": "stream",
     "text": [
      "gender ['1' '0' 'Unknown'] \n",
      "\n",
      "edu ['Unknown' '2' '3' '5' '1' '4' '0' '6'] \n",
      "\n",
      "veh_type ['2' '4' '3' '6' '1' 'Unknown' '5'] \n",
      "\n",
      "respon ['0' '1' '2' '3' '4' 'Unknown' '5'] \n",
      "\n",
      "travel_mode ['3' '2' '1' 'Unknown' '4'] \n",
      "\n"
     ]
    }
   ],
   "source": [
    "# Driver gender\n",
    "df.loc[:, 'gender'] = df.loc[:, 'gender'].apply(lambda x: str(int(value_dict['gender'][x])) if x in value_dict['gender'] else np.nan)\n",
    "df.loc[:, 'gender'].fillna(\"Unknown\", inplace=True)\n",
    "\n",
    "# Driver edu\n",
    "df.loc[:, 'edu'] = df.loc[:, 'edu'].apply(lambda x: str(int(value_dict['edu'][x])) if x in value_dict['edu'] else np.nan)\n",
    "df.loc[:, 'edu'].fillna(\"Unknown\", inplace=True)\n",
    "\n",
    "# Driver respon\n",
    "df.loc[:, 'respon'] = df.loc[:, 'respon'].apply(lambda x: str(int(value_dict['respon'][x])) if x in value_dict['respon'] else np.nan)\n",
    "df.loc[:, 'respon'].fillna(\"Unknown\", inplace=True)\n",
    "\n",
    "# Driver vehicle type\n",
    "df.loc[:, 'veh_type'] = df.loc[:, 'veh_type'].apply(lambda x: str(int(veh_type_dict[x])) if x in veh_type_dict else np.nan)\n",
    "df.loc[:, 'veh_type'].fillna(\"Unknown\", inplace=True)\n",
    "\n",
    "# Driver vehicle type\n",
    "df.loc[:, 'travel_mode'] = df.loc[:, 'travel_mode'].apply(lambda x: str(int(travel_mode_dict[x])) if x in travel_mode_dict else np.nan)\n",
    "df.loc[:, 'travel_mode'].fillna(\"Unknown\", inplace=True)\n",
    "\n",
    "# convert_dict = {'gender': pd.Int64Dtype(), 'edu': pd.Int64Dtype(), 'veh_type': pd.Int64Dtype()}\n",
    "# df = df.astype(convert_dict)\n",
    "for var in ['gender', 'edu', 'veh_type', 'respon', 'travel_mode']:\n",
    "    print(var, df[var].unique(), '\\n')"
   ],
   "metadata": {
    "collapsed": false,
    "pycharm": {
     "name": "#%%\n"
    }
   }
  },
  {
   "cell_type": "markdown",
   "source": [
    "### 1.4 Merge deaths and injuries"
   ],
   "metadata": {
    "collapsed": false,
    "pycharm": {
     "name": "#%% md\n"
    }
   }
  },
  {
   "cell_type": "code",
   "execution_count": 7,
   "outputs": [
    {
     "data": {
      "text/plain": "                               0                    1                    2\nid                             1                    1                    2\ntime         2014-01-01 00:00:00  2014-01-01 00:00:00  2014-01-01 00:00:00\ntype                          11                   11                   11\nweather                        1                    1                    1\nreason                      1094                 1094                 1043\nlat                      22.5931              22.5931              22.7825\nlong                     114.016              114.016              113.839\nroad_type                     21                   21                   11\ngender                         1                    0                    1\nage                           46                   47                   62\nedu                      Unknown              Unknown                    2\nrespon                         0                    1                    0\nveh_type                       2                    2                    4\ntravel_mode                    3                    3                    3\ninjs                           0                    0                    0\ndeaths                         0                    0                    0",
      "text/html": "<div>\n<style scoped>\n    .dataframe tbody tr th:only-of-type {\n        vertical-align: middle;\n    }\n\n    .dataframe tbody tr th {\n        vertical-align: top;\n    }\n\n    .dataframe thead th {\n        text-align: right;\n    }\n</style>\n<table border=\"1\" class=\"dataframe\">\n  <thead>\n    <tr style=\"text-align: right;\">\n      <th></th>\n      <th>0</th>\n      <th>1</th>\n      <th>2</th>\n    </tr>\n  </thead>\n  <tbody>\n    <tr>\n      <th>id</th>\n      <td>1</td>\n      <td>1</td>\n      <td>2</td>\n    </tr>\n    <tr>\n      <th>time</th>\n      <td>2014-01-01 00:00:00</td>\n      <td>2014-01-01 00:00:00</td>\n      <td>2014-01-01 00:00:00</td>\n    </tr>\n    <tr>\n      <th>type</th>\n      <td>11</td>\n      <td>11</td>\n      <td>11</td>\n    </tr>\n    <tr>\n      <th>weather</th>\n      <td>1</td>\n      <td>1</td>\n      <td>1</td>\n    </tr>\n    <tr>\n      <th>reason</th>\n      <td>1094</td>\n      <td>1094</td>\n      <td>1043</td>\n    </tr>\n    <tr>\n      <th>lat</th>\n      <td>22.5931</td>\n      <td>22.5931</td>\n      <td>22.7825</td>\n    </tr>\n    <tr>\n      <th>long</th>\n      <td>114.016</td>\n      <td>114.016</td>\n      <td>113.839</td>\n    </tr>\n    <tr>\n      <th>road_type</th>\n      <td>21</td>\n      <td>21</td>\n      <td>11</td>\n    </tr>\n    <tr>\n      <th>gender</th>\n      <td>1</td>\n      <td>0</td>\n      <td>1</td>\n    </tr>\n    <tr>\n      <th>age</th>\n      <td>46</td>\n      <td>47</td>\n      <td>62</td>\n    </tr>\n    <tr>\n      <th>edu</th>\n      <td>Unknown</td>\n      <td>Unknown</td>\n      <td>2</td>\n    </tr>\n    <tr>\n      <th>respon</th>\n      <td>0</td>\n      <td>1</td>\n      <td>0</td>\n    </tr>\n    <tr>\n      <th>veh_type</th>\n      <td>2</td>\n      <td>2</td>\n      <td>4</td>\n    </tr>\n    <tr>\n      <th>travel_mode</th>\n      <td>3</td>\n      <td>3</td>\n      <td>3</td>\n    </tr>\n    <tr>\n      <th>injs</th>\n      <td>0</td>\n      <td>0</td>\n      <td>0</td>\n    </tr>\n    <tr>\n      <th>deaths</th>\n      <td>0</td>\n      <td>0</td>\n      <td>0</td>\n    </tr>\n  </tbody>\n</table>\n</div>"
     },
     "execution_count": 7,
     "metadata": {},
     "output_type": "execute_result"
    }
   ],
   "source": [
    "df.loc[:, 'injs'] = df.loc[:, ['inj', 'inj_b', 'inj_l']].sum(axis=1)\n",
    "df.loc[:, 'deaths'] = df.loc[:, ['death', 'death_s']].sum(axis=1)\n",
    "df.drop(columns=['inj', 'inj_b', 'inj_l', 'death', 'death_s'], inplace=True)\n",
    "df.iloc[0:3].transpose()"
   ],
   "metadata": {
    "collapsed": false,
    "pycharm": {
     "name": "#%%\n"
    }
   }
  },
  {
   "cell_type": "markdown",
   "source": [
    "### 1.5 Process time to get weekday (0 for weekend, 1 for weekday), time of day"
   ],
   "metadata": {
    "collapsed": false,
    "pycharm": {
     "name": "#%% md\n"
    }
   }
  },
  {
   "cell_type": "code",
   "execution_count": 8,
   "outputs": [
    {
     "data": {
      "text/plain": "                   0        1        2\nid                 1        1        2\ntype              11       11       11\nweather            1        1        1\nreason          1094     1094     1043\nlat          22.5931  22.5931  22.7825\nlong         114.016  114.016  113.839\nroad_type         21       21       11\ngender             1        0        1\nage               46       47       62\nedu          Unknown  Unknown        2\nrespon             0        1        0\nveh_type           2        2        4\ntravel_mode        3        3        3\ninjs               0        0        0\ndeaths             0        0        0\nweekday            3        3        3\nhour               0        0        0",
      "text/html": "<div>\n<style scoped>\n    .dataframe tbody tr th:only-of-type {\n        vertical-align: middle;\n    }\n\n    .dataframe tbody tr th {\n        vertical-align: top;\n    }\n\n    .dataframe thead th {\n        text-align: right;\n    }\n</style>\n<table border=\"1\" class=\"dataframe\">\n  <thead>\n    <tr style=\"text-align: right;\">\n      <th></th>\n      <th>0</th>\n      <th>1</th>\n      <th>2</th>\n    </tr>\n  </thead>\n  <tbody>\n    <tr>\n      <th>id</th>\n      <td>1</td>\n      <td>1</td>\n      <td>2</td>\n    </tr>\n    <tr>\n      <th>type</th>\n      <td>11</td>\n      <td>11</td>\n      <td>11</td>\n    </tr>\n    <tr>\n      <th>weather</th>\n      <td>1</td>\n      <td>1</td>\n      <td>1</td>\n    </tr>\n    <tr>\n      <th>reason</th>\n      <td>1094</td>\n      <td>1094</td>\n      <td>1043</td>\n    </tr>\n    <tr>\n      <th>lat</th>\n      <td>22.5931</td>\n      <td>22.5931</td>\n      <td>22.7825</td>\n    </tr>\n    <tr>\n      <th>long</th>\n      <td>114.016</td>\n      <td>114.016</td>\n      <td>113.839</td>\n    </tr>\n    <tr>\n      <th>road_type</th>\n      <td>21</td>\n      <td>21</td>\n      <td>11</td>\n    </tr>\n    <tr>\n      <th>gender</th>\n      <td>1</td>\n      <td>0</td>\n      <td>1</td>\n    </tr>\n    <tr>\n      <th>age</th>\n      <td>46</td>\n      <td>47</td>\n      <td>62</td>\n    </tr>\n    <tr>\n      <th>edu</th>\n      <td>Unknown</td>\n      <td>Unknown</td>\n      <td>2</td>\n    </tr>\n    <tr>\n      <th>respon</th>\n      <td>0</td>\n      <td>1</td>\n      <td>0</td>\n    </tr>\n    <tr>\n      <th>veh_type</th>\n      <td>2</td>\n      <td>2</td>\n      <td>4</td>\n    </tr>\n    <tr>\n      <th>travel_mode</th>\n      <td>3</td>\n      <td>3</td>\n      <td>3</td>\n    </tr>\n    <tr>\n      <th>injs</th>\n      <td>0</td>\n      <td>0</td>\n      <td>0</td>\n    </tr>\n    <tr>\n      <th>deaths</th>\n      <td>0</td>\n      <td>0</td>\n      <td>0</td>\n    </tr>\n    <tr>\n      <th>weekday</th>\n      <td>3</td>\n      <td>3</td>\n      <td>3</td>\n    </tr>\n    <tr>\n      <th>hour</th>\n      <td>0</td>\n      <td>0</td>\n      <td>0</td>\n    </tr>\n  </tbody>\n</table>\n</div>"
     },
     "execution_count": 8,
     "metadata": {},
     "output_type": "execute_result"
    }
   ],
   "source": [
    "df.loc[:, 'time'] = df.loc[:, 'time'].apply(lambda x: datetime.strptime(x.strip(), '%Y-%m-%d %H:%M:%S'))\n",
    "df.loc[:, 'weekday'] = df.loc[:, 'time'].apply(lambda x: x.weekday() + 1)\n",
    "df.loc[:, 'hour'] = df.loc[:, 'time'].apply(lambda x: x.hour)\n",
    "df.drop(columns=['time'], inplace=True)\n",
    "df.iloc[0:3].transpose()"
   ],
   "metadata": {
    "collapsed": false,
    "pycharm": {
     "name": "#%%\n"
    }
   }
  },
  {
   "cell_type": "markdown",
   "source": [
    "## 2 Clean up the categories for further analysis\n",
    "### 2.1 age\n",
    "Break it into age groups and label missing fields as Unknown."
   ],
   "metadata": {
    "collapsed": false,
    "pycharm": {
     "name": "#%% md\n"
    }
   }
  },
  {
   "cell_type": "code",
   "execution_count": 9,
   "outputs": [
    {
     "name": "stdout",
     "output_type": "stream",
     "text": [
      "age [(45, 50], (60, 65], (25, 30], (18, 25], (30, 35], ..., Unknown, (55, 60], < 18, > 70, (65, 70]]\n",
      "Length: 13\n",
      "Categories (13, object): [< 18 < (18, 25] < (25, 30] < (30, 35] ... (60, 65] < (65, 70] < > 70 < Unknown] \n",
      "\n"
     ]
    }
   ],
   "source": [
    "df.loc[:, 'age'] = pd.cut(df.age, bins=[0, 18, 25, 30, 35, 40, 45, 50, 55, 60, 65, 70, 150])\n",
    "age_cat_dict = {'(0, 18]': '< 18', '(70, 150]': '> 70'}\n",
    "df.loc[:, 'age'] = df.loc[:, 'age'].apply(lambda x: age_cat_dict[str(x)] if str(x) in age_cat_dict else str(x))\n",
    "df.loc[:, 'age'].cat.add_categories(\"Unknown\", inplace=True)\n",
    "df.loc[:, 'age'].fillna(\"Unknown\", inplace=True)\n",
    "print('age', df['age'].unique(), '\\n')"
   ],
   "metadata": {
    "collapsed": false,
    "pycharm": {
     "name": "#%%\n"
    }
   }
  },
  {
   "cell_type": "markdown",
   "source": [
    "### 2.2 reason\n",
    "Select top reasons, set the rest as Others, and label missing fields as Unknown."
   ],
   "metadata": {
    "collapsed": false,
    "pycharm": {
     "name": "#%% md\n"
    }
   }
  },
  {
   "cell_type": "code",
   "execution_count": 10,
   "outputs": [],
   "source": [
    "## Merge two categories that are essentially the same (1301, 2004 -> 2004)\n",
    "df.loc[:, 'reason'] = df.loc[:, 'reason'].apply(lambda x: 2004 if x == 1301 else x)\n",
    "\n",
    "# Check the top 20 reasons\n",
    "acc_reason = df.drop_duplicates(subset=[\"id\"]).groupby('reason')[['id']].count()/len(df.drop_duplicates(subset=[\"id\"]))*100\n",
    "acc_reason = acc_reason.reset_index().sort_values(by='id', ascending=False).rename(columns={'id': 'freq'})\n",
    "acc_reason.loc[:, 'cum_freq'] = acc_reason.loc[:, 'freq'].cumsum()"
   ],
   "metadata": {
    "collapsed": false,
    "pycharm": {
     "name": "#%%\n"
    }
   }
  },
  {
   "cell_type": "code",
   "execution_count": 11,
   "outputs": [
    {
     "name": "stdout",
     "output_type": "stream",
     "text": [
      "reason ['1094' '1043' '1225' '1103' 'Others' 'Unknown' '1074' '2006' '1313'\n",
      " '2005' '1205' '2024' '1046' '1316' '2009' '2007' '2004' '1302' '3026'\n",
      " '1042'] \n",
      "\n"
     ]
    }
   ],
   "source": [
    "# Set the top 18 reasons and set nan to Unknown\n",
    "reason_list = [int(x) for x in acc_reason.head(20).reason if x not in (9901, 9009)]\n",
    "df.loc[:, 'reason'].fillna(\"Unknown\", inplace=True)\n",
    "\n",
    "# Convert the rest into str and set the rest as others\n",
    "df.loc[df['reason'].isin(reason_list), 'reason'] = df.loc[df['reason'].isin(reason_list), 'reason'].apply(lambda x: str(int(x)))\n",
    "reason_list = [str(int(x)) for x in reason_list] + ['Unknown']\n",
    "df.loc[~df['reason'].isin(reason_list), 'reason'] = 'Others'\n",
    "\n",
    "print('reason', df['reason'].unique(), '\\n')"
   ],
   "metadata": {
    "collapsed": false,
    "pycharm": {
     "name": "#%%\n"
    }
   }
  },
  {
   "cell_type": "markdown",
   "source": [
    "### 2.3 type\n",
    "1. Merge type 31 and 32 into one, coded as 312 (Rollover)\n",
    "\n",
    "2. Merge type 22 and 23 into one, coded as 223 (Crushing pedestrians)\n",
    "\n",
    "3. Selected types: 11, 35, 19, 21, 12, 36, 312, 223, 38, 999, 29, 34, 33. Set the rest as Others.\n",
    "Missing values set to Unknown."
   ],
   "metadata": {
    "collapsed": false,
    "pycharm": {
     "name": "#%% md\n"
    }
   }
  },
  {
   "cell_type": "code",
   "execution_count": 12,
   "outputs": [
    {
     "data": {
      "text/plain": "     type       freq   cum_freq  type_name\n0    11.0  36.139015  36.139015     碰撞运动车辆\n13   35.0   4.142874  40.281890       撞固定物\n3    19.0   4.044343  44.326233    其他车辆间事故\n4    21.0   3.683675  48.009908       刮撞行人\n1    12.0   0.481884  48.491792     碰撞静止车辆\n14   36.0   0.192479  48.684271      撞非固定物\n9    31.0   0.148254  48.832525         侧翻\n20   70.0   0.118008  48.950533    unknown\n16   38.0   0.072180  49.022712    乘员跌落或抛出\n24  999.0   0.066909  49.089622   其他车辆与人事故\n23  223.0   0.057744  49.147365       碾压行人\n6    23.0   0.037808  49.185174    碰撞后碾压行人\n22   99.0   0.031392  49.216566         未知\n7    29.0   0.015352  49.231918  其他车辆与行人事故\n12   34.0   0.012603  49.244521         失火\n5    22.0   0.012144  49.256666       碾压行人\n17   40.0   0.010311  49.266977    unknown\n2    13.0   0.008937  49.275914    unknown\n15   37.0   0.008707  49.284621       自身摺叠\n11   33.0   0.007333  49.291953         坠车\n18   50.0   0.005499  49.297453    unknown\n10   32.0   0.004125  49.301577         翻滚\n8    30.0   0.003437  49.305015    unknown\n21   80.0   0.001604  49.306619    unknown\n19   60.0   0.000229  49.306848    unknown",
      "text/html": "<div>\n<style scoped>\n    .dataframe tbody tr th:only-of-type {\n        vertical-align: middle;\n    }\n\n    .dataframe tbody tr th {\n        vertical-align: top;\n    }\n\n    .dataframe thead th {\n        text-align: right;\n    }\n</style>\n<table border=\"1\" class=\"dataframe\">\n  <thead>\n    <tr style=\"text-align: right;\">\n      <th></th>\n      <th>type</th>\n      <th>freq</th>\n      <th>cum_freq</th>\n      <th>type_name</th>\n    </tr>\n  </thead>\n  <tbody>\n    <tr>\n      <th>0</th>\n      <td>11.0</td>\n      <td>36.139015</td>\n      <td>36.139015</td>\n      <td>碰撞运动车辆</td>\n    </tr>\n    <tr>\n      <th>13</th>\n      <td>35.0</td>\n      <td>4.142874</td>\n      <td>40.281890</td>\n      <td>撞固定物</td>\n    </tr>\n    <tr>\n      <th>3</th>\n      <td>19.0</td>\n      <td>4.044343</td>\n      <td>44.326233</td>\n      <td>其他车辆间事故</td>\n    </tr>\n    <tr>\n      <th>4</th>\n      <td>21.0</td>\n      <td>3.683675</td>\n      <td>48.009908</td>\n      <td>刮撞行人</td>\n    </tr>\n    <tr>\n      <th>1</th>\n      <td>12.0</td>\n      <td>0.481884</td>\n      <td>48.491792</td>\n      <td>碰撞静止车辆</td>\n    </tr>\n    <tr>\n      <th>14</th>\n      <td>36.0</td>\n      <td>0.192479</td>\n      <td>48.684271</td>\n      <td>撞非固定物</td>\n    </tr>\n    <tr>\n      <th>9</th>\n      <td>31.0</td>\n      <td>0.148254</td>\n      <td>48.832525</td>\n      <td>侧翻</td>\n    </tr>\n    <tr>\n      <th>20</th>\n      <td>70.0</td>\n      <td>0.118008</td>\n      <td>48.950533</td>\n      <td>unknown</td>\n    </tr>\n    <tr>\n      <th>16</th>\n      <td>38.0</td>\n      <td>0.072180</td>\n      <td>49.022712</td>\n      <td>乘员跌落或抛出</td>\n    </tr>\n    <tr>\n      <th>24</th>\n      <td>999.0</td>\n      <td>0.066909</td>\n      <td>49.089622</td>\n      <td>其他车辆与人事故</td>\n    </tr>\n    <tr>\n      <th>23</th>\n      <td>223.0</td>\n      <td>0.057744</td>\n      <td>49.147365</td>\n      <td>碾压行人</td>\n    </tr>\n    <tr>\n      <th>6</th>\n      <td>23.0</td>\n      <td>0.037808</td>\n      <td>49.185174</td>\n      <td>碰撞后碾压行人</td>\n    </tr>\n    <tr>\n      <th>22</th>\n      <td>99.0</td>\n      <td>0.031392</td>\n      <td>49.216566</td>\n      <td>未知</td>\n    </tr>\n    <tr>\n      <th>7</th>\n      <td>29.0</td>\n      <td>0.015352</td>\n      <td>49.231918</td>\n      <td>其他车辆与行人事故</td>\n    </tr>\n    <tr>\n      <th>12</th>\n      <td>34.0</td>\n      <td>0.012603</td>\n      <td>49.244521</td>\n      <td>失火</td>\n    </tr>\n    <tr>\n      <th>5</th>\n      <td>22.0</td>\n      <td>0.012144</td>\n      <td>49.256666</td>\n      <td>碾压行人</td>\n    </tr>\n    <tr>\n      <th>17</th>\n      <td>40.0</td>\n      <td>0.010311</td>\n      <td>49.266977</td>\n      <td>unknown</td>\n    </tr>\n    <tr>\n      <th>2</th>\n      <td>13.0</td>\n      <td>0.008937</td>\n      <td>49.275914</td>\n      <td>unknown</td>\n    </tr>\n    <tr>\n      <th>15</th>\n      <td>37.0</td>\n      <td>0.008707</td>\n      <td>49.284621</td>\n      <td>自身摺叠</td>\n    </tr>\n    <tr>\n      <th>11</th>\n      <td>33.0</td>\n      <td>0.007333</td>\n      <td>49.291953</td>\n      <td>坠车</td>\n    </tr>\n    <tr>\n      <th>18</th>\n      <td>50.0</td>\n      <td>0.005499</td>\n      <td>49.297453</td>\n      <td>unknown</td>\n    </tr>\n    <tr>\n      <th>10</th>\n      <td>32.0</td>\n      <td>0.004125</td>\n      <td>49.301577</td>\n      <td>翻滚</td>\n    </tr>\n    <tr>\n      <th>8</th>\n      <td>30.0</td>\n      <td>0.003437</td>\n      <td>49.305015</td>\n      <td>unknown</td>\n    </tr>\n    <tr>\n      <th>21</th>\n      <td>80.0</td>\n      <td>0.001604</td>\n      <td>49.306619</td>\n      <td>unknown</td>\n    </tr>\n    <tr>\n      <th>19</th>\n      <td>60.0</td>\n      <td>0.000229</td>\n      <td>49.306848</td>\n      <td>unknown</td>\n    </tr>\n  </tbody>\n</table>\n</div>"
     },
     "execution_count": 12,
     "metadata": {},
     "output_type": "execute_result"
    }
   ],
   "source": [
    "# Check the top 20 types\n",
    "acc_type = df.drop_duplicates(subset=[\"id\"]).groupby('type')[['id']].count()/len(df)*100\n",
    "acc_type = acc_type.reset_index().sort_values(by='id', ascending=False).rename(columns={'id': 'freq'})\n",
    "acc_type.loc[:, 'cum_freq'] = acc_type.loc[:, 'freq'].cumsum()\n",
    "acc_type.loc[:, 'type_name'] = acc_type.loc[:, 'type'].apply(lambda x: value_dict['acc_type'][str(int(x))] if str(int(x)) in value_dict['acc_type'] else 'unknown')\n",
    "acc_type.head(30)\n"
   ],
   "metadata": {
    "collapsed": false,
    "pycharm": {
     "name": "#%%\n"
    }
   }
  },
  {
   "cell_type": "code",
   "execution_count": 13,
   "outputs": [
    {
     "name": "stdout",
     "output_type": "stream",
     "text": [
      "type ['11' '35' '21' 'Others' '19' 'Unknown' '29' '12' '312' '36' '223' '38'\n",
      " '34' '33' '999'] \n",
      "\n"
     ]
    }
   ],
   "source": [
    "# 1 Merge type 31 and 32 into 312\n",
    "df.loc[:, 'type'] = df.loc[:, 'type'].apply(lambda x: 312 if x in (31, 32) else x)\n",
    "\n",
    "# 2 Merge type 22 and 23 into 223\n",
    "df.loc[:, 'type'] = df.loc[:, 'type'].apply(lambda x: 223 if x in (22, 23) else x)\n",
    "\n",
    "# 3 Select a few types\n",
    "df.loc[:, 'type'].fillna(\"Unknown\", inplace=True)\n",
    "type_list = [11, 35, 19, 21, 12, 36, 312, 223, 38, 999, 29, 34, 33]\n",
    "df.loc[df.type != 'Unknown', 'type'] = df.loc[df.type != 'Unknown', 'type'].apply(lambda x: str(int(x)) if x in type_list else \"Others\")\n",
    "\n",
    "print('type', df['type'].unique(), '\\n')"
   ],
   "metadata": {
    "collapsed": false,
    "pycharm": {
     "name": "#%%\n"
    }
   }
  },
  {
   "cell_type": "markdown",
   "source": [
    "### 2.4 injs\n",
    "Break it into groups and label missing fields as Unknown."
   ],
   "metadata": {
    "collapsed": false,
    "pycharm": {
     "name": "#%% md\n"
    }
   }
  },
  {
   "cell_type": "code",
   "execution_count": 14,
   "outputs": [],
   "source": [
    "df.loc[:, 'injs'].min(), df.loc[:, 'injs'].max()\n",
    "df.loc[:, 'injs_num'] = df.loc[:, 'injs'].copy()"
   ],
   "metadata": {
    "collapsed": false,
    "pycharm": {
     "name": "#%%\n"
    }
   }
  },
  {
   "cell_type": "code",
   "execution_count": 15,
   "outputs": [],
   "source": [
    "df.loc[:, 'injs'] = pd.cut(df.injs, bins=[-1, 0, 4, 9, 100])\n",
    "injs_cat_dict = {'(-1, 0]': '= 0', '(9, 100]': '> 9'}\n",
    "df.loc[:, 'injs'] = df.loc[:, 'injs'].apply(lambda x: injs_cat_dict[str(x)] if str(x) in injs_cat_dict else str(x))\n",
    "df.loc[:, 'injs'].cat.add_categories(\"Unknown\", inplace=True)\n",
    "df.loc[:, 'injs'].fillna(\"Unknown\", inplace=True)"
   ],
   "metadata": {
    "collapsed": false,
    "pycharm": {
     "name": "#%%\n"
    }
   }
  },
  {
   "cell_type": "markdown",
   "source": [
    "### 2.5 deaths\n",
    "Break it into groups and label missing fields as Unknown."
   ],
   "metadata": {
    "collapsed": false
   }
  },
  {
   "cell_type": "code",
   "execution_count": 16,
   "outputs": [],
   "source": [
    "df.loc[:, 'deaths'].min(), df.loc[:, 'deaths'].max()\n",
    "df.loc[:, 'deaths_num'] = df.loc[:, 'deaths'].copy()"
   ],
   "metadata": {
    "collapsed": false,
    "pycharm": {
     "name": "#%%\n"
    }
   }
  },
  {
   "cell_type": "code",
   "execution_count": 17,
   "outputs": [],
   "source": [
    "df.loc[:, 'deaths'] = pd.cut(df.deaths, bins=[-1, 0, 4, 9, 100])\n",
    "deaths_cat_dict = {'(-1, 0]': '= 0', '(9, 100]': '> 9'}\n",
    "df.loc[:, 'deaths'] = df.loc[:, 'deaths'].apply(lambda x: deaths_cat_dict[str(x)] if str(x) in deaths_cat_dict else str(x))\n",
    "df.loc[:, 'deaths'].cat.add_categories(\"Unknown\", inplace=True)\n",
    "df.loc[:, 'deaths'].fillna(\"Unknown\", inplace=True)"
   ],
   "metadata": {
    "collapsed": false,
    "pycharm": {
     "name": "#%%\n"
    }
   }
  },
  {
   "cell_type": "markdown",
   "source": [
    "### 2.6 road_type"
   ],
   "metadata": {
    "collapsed": false,
    "pycharm": {
     "name": "#%% md\n"
    }
   }
  },
  {
   "cell_type": "code",
   "execution_count": 18,
   "outputs": [],
   "source": [
    "df.loc[:, 'road_type'].fillna(\"Unknown\", inplace=True)\n",
    "df.loc[:, 'road_type'] = df.loc[:, 'road_type'].apply(lambda x: str(int(x)) if x != \"Unknown\" else x)"
   ],
   "metadata": {
    "collapsed": false,
    "pycharm": {
     "name": "#%%\n"
    }
   }
  },
  {
   "cell_type": "markdown",
   "source": [
    "### 2.7 weather\n",
    "1. Merge 8 and 9 into 89 (Haze or fog).\n",
    "\n",
    "2. Remove 5 and 6 because there is no way Shenzhen will observe a weather like snow and blizzard. Label them as Unknown."
   ],
   "metadata": {
    "collapsed": false,
    "pycharm": {
     "name": "#%% md\n"
    }
   }
  },
  {
   "cell_type": "code",
   "execution_count": 19,
   "outputs": [
    {
     "name": "stdout",
     "output_type": "stream",
     "text": [
      "weather ['1' '2' '3' 'Unknown' '4' '89'] \n",
      "\n"
     ]
    }
   ],
   "source": [
    "df.loc[:, 'weather'].fillna(\"Unknown\", inplace=True)\n",
    "df.loc[:, 'weather'] = df.loc[:, 'weather'].apply(lambda x: \"89\" if x in [8, 9] else x)\n",
    "df.loc[:, 'weather'] = df.loc[:, 'weather'].apply(lambda x: \"Unknown\" if x in [5, 6] else x)\n",
    "\n",
    "df.loc[df.weather.isin([1,2,3,4]), 'weather'] = df.loc[df.weather.isin([1,2,3,4]), 'weather'].apply(lambda x: str(int(x)))\n",
    "\n",
    "print('weather', df['weather'].unique(), '\\n')"
   ],
   "metadata": {
    "collapsed": false,
    "pycharm": {
     "name": "#%%\n"
    }
   }
  },
  {
   "cell_type": "code",
   "execution_count": 20,
   "outputs": [],
   "source": [
    "# Save data\n",
    "df.to_csv(os.path.join(data_path, 'data_s2.csv'), index=False, encoding='utf-8-sig')"
   ],
   "metadata": {
    "collapsed": false,
    "pycharm": {
     "name": "#%%\n"
    }
   }
  }
 ],
 "metadata": {
  "kernelspec": {
   "display_name": "Python 3",
   "language": "python",
   "name": "python3"
  },
  "language_info": {
   "codemirror_mode": {
    "name": "ipython",
    "version": 2
   },
   "file_extension": ".py",
   "mimetype": "text/x-python",
   "name": "python",
   "nbconvert_exporter": "python",
   "pygments_lexer": "ipython2",
   "version": "2.7.6"
  }
 },
 "nbformat": 4,
 "nbformat_minor": 0
}