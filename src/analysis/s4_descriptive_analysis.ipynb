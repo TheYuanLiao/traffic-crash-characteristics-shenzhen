{
 "cells": [
  {
   "cell_type": "markdown",
   "source": [
    "# Descriptive analysis\n",
    "\n",
    "Input: data/data_s3.csv\n",
    "\n",
    "1. Translate (map) numerical levels of variables into readable English version.\n",
    "\n",
    "2. Generate statistics tables for all the crash records.\n",
    "\n",
    "3. Generate statistics tables for all the crash records' participants.\n",
    "\n",
    "4. Process to generate data for Bayesian network analysis.\n",
    "\n",
    "Output: data/data_s4.csv"
   ],
   "metadata": {
    "collapsed": false
   }
  },
  {
   "cell_type": "code",
   "execution_count": 1,
   "outputs": [],
   "source": [
    "%load_ext autoreload\n",
    "%autoreload 2"
   ],
   "metadata": {
    "collapsed": false,
    "pycharm": {
     "name": "#%%\n"
    }
   }
  },
  {
   "cell_type": "code",
   "execution_count": 2,
   "outputs": [],
   "source": [
    "import pandas as pd\n",
    "import scipy.stats as stats\n",
    "import os\n",
    "from pathlib import Path\n",
    "import json\n",
    "import numpy as np\n",
    "import matplotlib.pyplot as plt\n",
    "\n",
    "figure_path = os.path.join(Path(os.getcwd()).parent.parent, 'figures/')\n",
    "data_path = os.path.join(Path(os.getcwd()).parent.parent, 'data/')\n",
    "with open(os.path.join(data_path, 'value_mapping.txt'), encoding='utf-8') as json_file:\n",
    "    value_dict = json.load(json_file)"
   ],
   "metadata": {
    "collapsed": false,
    "pycharm": {
     "name": "#%%\n"
    }
   }
  },
  {
   "cell_type": "code",
   "execution_count": 3,
   "outputs": [],
   "source": [
    "# Load data\n",
    "df = pd.read_csv(os.path.join(data_path, 'data_s3.csv'), low_memory=False)"
   ],
   "metadata": {
    "collapsed": false,
    "pycharm": {
     "name": "#%%\n"
    }
   }
  },
  {
   "cell_type": "markdown",
   "source": [
    "## 1 Data summary: variables and levels\n",
    "### 1.1 Summarize variables and its levels"
   ],
   "metadata": {
    "collapsed": false,
    "pycharm": {
     "name": "#%% md\n"
    }
   }
  },
  {
   "cell_type": "code",
   "execution_count": 4,
   "outputs": [],
   "source": [
    "# Rename columns\n",
    "var_mapping = {'weekday': 'Day of week',\n",
    "               'hour': 'Time of day',\n",
    "               'weather': 'Weather',\n",
    "               'cluster': 'Land-use cluster',\n",
    "               'type': 'Crash type',\n",
    "               'reason': 'Crash causation',\n",
    "               'road_type': 'Road type',\n",
    "               'veh_type': 'Vehicle type',\n",
    "               'injs': 'Injuries (bin)',\n",
    "               'deaths': 'Deaths (bin)',\n",
    "               'injs_num': 'Injuries',\n",
    "               'deaths_num': 'Deaths',\n",
    "               'age': 'Age',\n",
    "               'edu': 'Education level',\n",
    "               'gender': 'Gender',\n",
    "               'respon': 'Responsibility',\n",
    "               'travel_mode': 'Travel method'}\n",
    "\n",
    "df = df.rename(columns={k: v for k, v in var_mapping.items()})"
   ],
   "metadata": {
    "collapsed": false,
    "pycharm": {
     "name": "#%%\n"
    }
   }
  },
  {
   "cell_type": "code",
   "execution_count": 5,
   "outputs": [
    {
     "data": {
      "text/plain": "id                         1\nCrash type                11\nWeather                    1\nCrash causation         1094\nRoad type                 21\nGender                     1\nAge                 (45, 50]\nEducation level      Unknown\nResponsibility             0\nVehicle type               2\nTravel method              3\nInjuries (bin)           = 0\nDeaths (bin)             = 0\nDay of week                3\nTime of day                0\nInjuries                   0\nDeaths                     0\nLand-use cluster           2\nName: 0, dtype: object"
     },
     "execution_count": 5,
     "metadata": {},
     "output_type": "execute_result"
    }
   ],
   "source": [
    "# Extract levels\n",
    "col_list = list(df.columns)\n",
    "col_list.remove('id')\n",
    "level_df_list = []\n",
    "for var in col_list:\n",
    "    level_df_list.append(pd.DataFrame([(var, x) for x in df[var].unique()], columns=['var', 'level']))\n",
    "df_level = pd.concat(level_df_list)\n",
    "df_level.to_clipboard(index=False)\n",
    "df.iloc[0]"
   ],
   "metadata": {
    "collapsed": false,
    "pycharm": {
     "name": "#%%\n"
    }
   }
  },
  {
   "cell_type": "markdown",
   "source": [
    "### 1.2 Manually define the translate of levels for each variable\n",
    "The file is stored in bn_var_level_translate.xlsx.\n"
   ],
   "metadata": {
    "collapsed": false,
    "pycharm": {
     "name": "#%% md\n"
    }
   }
  },
  {
   "cell_type": "code",
   "execution_count": 6,
   "outputs": [],
   "source": [
    "## Prepare table for write-up\n",
    "df_var_list = []\n",
    "df_lvs = pd.read_excel(os.path.join(Path(os.getcwd()).parent.parent, 'docs/var_level_translate.xlsx'))\n",
    "\n",
    "for var, frame in df_lvs.groupby('var'):\n",
    "    ld = '; '.join([' '.join([str(row['level_index']) + ')', str(row['en'])]) for _, row in frame.sort_values(by='level_index').iterrows()])\n",
    "    df_var_list.append(pd.DataFrame([(var, str(len(frame)), ld)], columns=('Variable', 'Level number', 'Level description')))\n",
    "df_var_tb = pd.concat(df_var_list)\n",
    "df_var_tb.to_clipboard(index=False)"
   ],
   "metadata": {
    "collapsed": false,
    "pycharm": {
     "name": "#%%\n"
    }
   }
  },
  {
   "cell_type": "markdown",
   "source": [
    "## 2 Replace numerical levels with English abbreviations for easy description"
   ],
   "metadata": {
    "collapsed": false,
    "pycharm": {
     "name": "#%% md\n"
    }
   }
  },
  {
   "cell_type": "code",
   "execution_count": 7,
   "outputs": [],
   "source": [
    "df_lvs = df_lvs.astype(str)"
   ],
   "metadata": {
    "collapsed": false,
    "pycharm": {
     "name": "#%%\n"
    }
   }
  },
  {
   "cell_type": "code",
   "execution_count": 8,
   "outputs": [],
   "source": [
    "for var in df.columns:\n",
    "    if var not in ['id', 'Injuries', 'Deaths']:\n",
    "        df.loc[:, var] = df.loc[:, var].astype(str)\n",
    "        lvs_dict = {row['level']: row['abbr'] for _, row in df_lvs.loc[df_lvs['var'] == var, :].iterrows()}\n",
    "        df.loc[:, var] = df.loc[:, var].apply(lambda x: lvs_dict[x])"
   ],
   "metadata": {
    "collapsed": false,
    "pycharm": {
     "name": "#%%\n"
    }
   }
  },
  {
   "cell_type": "code",
   "execution_count": 9,
   "outputs": [
    {
     "name": "stdout",
     "output_type": "stream",
     "text": [
      "id [     1      2      3 ... 237253 237254 237255] \n",
      "\n",
      "Crash type ['CT3' 'CT1' 'CT6' 'Others' 'CT5' 'Unknown' 'CT7' 'CT4' 'CT12' 'CT2'\n",
      " 'CT11' 'CT10' 'CT9' 'CT8' 'CT13'] \n",
      "\n",
      "Weather ['Sunny' 'Cloudy' 'Light rain' 'Unknown' 'Heavy rain' 'Haze or fog'] \n",
      "\n",
      "Crash causation ['CC8' 'CC2' 'CC9' 'CC10' 'Others' 'Unknown' 'CC7' 'CC14' 'CC5' 'CC13'\n",
      " 'CC18' 'CC17' 'CC3' 'CC6' 'CC16' 'CC15' 'CC12' 'CC4' 'CC11' 'CC1'] \n",
      "\n",
      "Road type ['RT6' 'RT2' 'RT11' 'RT1' 'RT7' 'Unknown' 'RT10' 'RT8' 'RT3' 'RT9' 'RT5'\n",
      " 'RT4'] \n",
      "\n",
      "Gender ['Male' 'Female' 'Unknown'] \n",
      "\n",
      "Age ['(45, 50]' '(60, 65]' '(25, 30]' '(18, 25]' '(30, 35]' '(35, 40]'\n",
      " '(50, 55]' '(40, 45]' 'Unknown' '(55, 60]' '< 18' '> 70' '(65, 70]'] \n",
      "\n",
      "Education level ['Unknown' 'EL3' 'EL4' 'EL6' 'EL2' 'EL5' 'EL1' 'EL7'] \n",
      "\n",
      "Responsibility ['No' 'Full' 'Equal' 'Major' 'Minor' 'Unknown'] \n",
      "\n",
      "Vehicle type ['Bus' 'Motorcycle' 'Truck' 'Others' 'Car' 'Unknown' 'Non-motor vehicle'] \n",
      "\n",
      "Travel method ['Driving motor vehicle' 'Driving non-motor vehicle' 'Walking' 'Unknown'\n",
      " 'Others'] \n",
      "\n",
      "Injuries (bin) ['= 0' '(0, 4]' '(4, 9]' '> 9'] \n",
      "\n",
      "Deaths (bin) ['= 0' '(0, 4]' '(4, 9]'] \n",
      "\n",
      "Day of week ['Wed' 'Thu' 'Fri' 'Sat' 'Sun' 'Mon' 'Tue'] \n",
      "\n",
      "Time of day ['0' '1' '2' '3' '4' '5' '6' '7' '8' '9' '10' '11' '12' '13' '14' '15'\n",
      " '16' '17' '18' '19' '20' '21' '22' '23'] \n",
      "\n",
      "Injuries [ 0  2  4  1  8  6 10  3  5  7 12 98 20 18 14 16  9 13 48 11 28 52 22 32] \n",
      "\n",
      "Deaths [0 1 2 6 3 8] \n",
      "\n",
      "Land-use cluster ['LUC2' 'LUC5' 'LUC3' 'LUC6' 'LUC4' 'LUC1' 'Unknown'] \n",
      "\n"
     ]
    }
   ],
   "source": [
    "for var in df.columns:\n",
    "    print(var, df[var].unique(), '\\n')"
   ],
   "metadata": {
    "collapsed": false,
    "pycharm": {
     "name": "#%%\n"
    }
   }
  },
  {
   "cell_type": "code",
   "execution_count": 10,
   "outputs": [],
   "source": [
    "# Remove duplicated records to look at the crash attributes\n",
    "df_rec = df.drop_duplicates(subset=['id'])\n"
   ],
   "metadata": {
    "collapsed": false,
    "pycharm": {
     "name": "#%%\n"
    }
   }
  },
  {
   "cell_type": "markdown",
   "source": [
    "## 3 Statistics of different crash attributes\n",
    "This part of the results are summarised in docs/article_tables.xlsx."
   ],
   "metadata": {
    "collapsed": false,
    "pycharm": {
     "name": "#%% md\n"
    }
   }
  },
  {
   "cell_type": "code",
   "execution_count": 11,
   "outputs": [
    {
     "name": "stdout",
     "output_type": "stream",
     "text": [
      "Total number of crashes: 237255\n",
      "Total number of the involved traffic participants: 436412\n"
     ]
    }
   ],
   "source": [
    "print(f'Total number of crashes: {len(df_rec)}')\n",
    "print(f'Total number of the involved traffic participants: {len(df)}')"
   ],
   "metadata": {
    "collapsed": false,
    "pycharm": {
     "name": "#%%\n"
    }
   }
  },
  {
   "cell_type": "code",
   "execution_count": 12,
   "outputs": [],
   "source": [
    "def basic(data):\n",
    "    data = pd.merge(data, df_lvs.loc[df_lvs['var'] == var, ['en', 'abbr']],\n",
    "                    left_on=var, right_on='abbr')\n",
    "    num = len(data)\n",
    "    injs = data['Injuries'].sum()\n",
    "    deaths = data['Deaths'].sum()\n",
    "    return pd.Series({'Var en': data.iloc[0]['en'],\n",
    "                      'Crash number': num, 'Crash %': num / len(df_rec) * 100,\n",
    "                      'Deaths number': deaths, 'Deaths %': deaths / df_rec['Deaths'].sum() * 100,\n",
    "                      'Injuries number': injs, 'Injuries %': injs / df_rec['Injuries'].sum() * 100\n",
    "                      })"
   ],
   "metadata": {
    "collapsed": false,
    "pycharm": {
     "name": "#%%\n"
    }
   }
  },
  {
   "cell_type": "markdown",
   "source": [
    "### 3.1 Travel method (Travel method)\n",
    "Impact on: number of crashes, deaths, injuries."
   ],
   "metadata": {
    "collapsed": false,
    "pycharm": {
     "name": "#%% md\n"
    }
   }
  },
  {
   "cell_type": "code",
   "execution_count": 13,
   "outputs": [
    {
     "data": {
      "text/plain": "                                              Var en  Crash number    Crash %  \\\nTravel method                                                                   \nDriving motor vehicle          Driving motor vehicle        154163  64.977767   \nDriving non-motor vehicle  Driving non-motor vehicle         28216  11.892689   \nOthers                                        Others           392   0.165223   \nUnknown                                      Unknown         43893  18.500348   \nWalking                                      Walking         10591   4.463973   \n\n                           Deaths number   Deaths %  Injuries number  \\\nTravel method                                                          \nDriving motor vehicle                859  55.241158           103246   \nDriving non-motor vehicle            272  17.491961            47684   \nOthers                                17   1.093248              105   \nUnknown                              180  11.575563            13376   \nWalking                              227  14.598071            17670   \n\n                           Injuries %  \nTravel method                          \nDriving motor vehicle       56.703335  \nDriving non-motor vehicle   26.188345  \nOthers                       0.057667  \nUnknown                      7.346181  \nWalking                      9.704472  ",
      "text/html": "<div>\n<style scoped>\n    .dataframe tbody tr th:only-of-type {\n        vertical-align: middle;\n    }\n\n    .dataframe tbody tr th {\n        vertical-align: top;\n    }\n\n    .dataframe thead th {\n        text-align: right;\n    }\n</style>\n<table border=\"1\" class=\"dataframe\">\n  <thead>\n    <tr style=\"text-align: right;\">\n      <th></th>\n      <th>Var en</th>\n      <th>Crash number</th>\n      <th>Crash %</th>\n      <th>Deaths number</th>\n      <th>Deaths %</th>\n      <th>Injuries number</th>\n      <th>Injuries %</th>\n    </tr>\n    <tr>\n      <th>Travel method</th>\n      <th></th>\n      <th></th>\n      <th></th>\n      <th></th>\n      <th></th>\n      <th></th>\n      <th></th>\n    </tr>\n  </thead>\n  <tbody>\n    <tr>\n      <th>Driving motor vehicle</th>\n      <td>Driving motor vehicle</td>\n      <td>154163</td>\n      <td>64.977767</td>\n      <td>859</td>\n      <td>55.241158</td>\n      <td>103246</td>\n      <td>56.703335</td>\n    </tr>\n    <tr>\n      <th>Driving non-motor vehicle</th>\n      <td>Driving non-motor vehicle</td>\n      <td>28216</td>\n      <td>11.892689</td>\n      <td>272</td>\n      <td>17.491961</td>\n      <td>47684</td>\n      <td>26.188345</td>\n    </tr>\n    <tr>\n      <th>Others</th>\n      <td>Others</td>\n      <td>392</td>\n      <td>0.165223</td>\n      <td>17</td>\n      <td>1.093248</td>\n      <td>105</td>\n      <td>0.057667</td>\n    </tr>\n    <tr>\n      <th>Unknown</th>\n      <td>Unknown</td>\n      <td>43893</td>\n      <td>18.500348</td>\n      <td>180</td>\n      <td>11.575563</td>\n      <td>13376</td>\n      <td>7.346181</td>\n    </tr>\n    <tr>\n      <th>Walking</th>\n      <td>Walking</td>\n      <td>10591</td>\n      <td>4.463973</td>\n      <td>227</td>\n      <td>14.598071</td>\n      <td>17670</td>\n      <td>9.704472</td>\n    </tr>\n  </tbody>\n</table>\n</div>"
     },
     "execution_count": 13,
     "metadata": {},
     "output_type": "execute_result"
    }
   ],
   "source": [
    "var = 'Travel method'\n",
    "df_rec.groupby(var).apply(basic).to_clipboard()\n",
    "df_rec.groupby(var).apply(basic)"
   ],
   "metadata": {
    "collapsed": false,
    "pycharm": {
     "name": "#%%\n"
    }
   }
  },
  {
   "cell_type": "markdown",
   "source": [
    "### 3.2 Road type (Road type)\n",
    "Impact on: number of crashes, deaths, injuries."
   ],
   "metadata": {
    "collapsed": false,
    "pycharm": {
     "name": "#%% md\n"
    }
   }
  },
  {
   "cell_type": "code",
   "execution_count": 14,
   "outputs": [
    {
     "data": {
      "text/plain": "                                                  Var en  Crash number  \\\nRoad type                                                                \nRT1                                              Highway         39137   \nRT10                                       Public square          1509   \nRT11                                          Other road         26005   \nRT2                                       1st class road          8961   \nRT3                                       2nd class road           215   \nRT4                                       3rd class road           238   \nRT5                                       4th class road             7   \nRT6                                      City expressway         12360   \nRT7                             Normal urban road/street        126047   \nRT8        Road in residential or industrial communities           821   \nRT9                                   Public parking lot            98   \nUnknown                                          Unknown         21857   \n\n             Crash %  Deaths number   Deaths %  Injuries number  Injuries %  \nRoad type                                                                    \nRT1        16.495754            108   6.945338             4293    2.357742  \nRT10        0.636025             11   0.707395             1428    0.784266  \nRT11       10.960781            240  15.434084            23812   13.077696  \nRT2         3.776949             67   4.308682             6150    3.377618  \nRT3         0.090620              0   0.000000               68    0.037346  \nRT4         0.100314              3   0.192926              261    0.143343  \nRT5         0.002950              0   0.000000               18    0.009886  \nRT6         5.209585             62   3.987138             4081    2.241310  \nRT7        53.127226           1045  67.202572           130566   71.707647  \nRT8         0.346041             14   0.900322              891    0.489343  \nRT9         0.041306              5   0.321543               82    0.045035  \nUnknown     9.212451              0   0.000000            10431    5.728769  ",
      "text/html": "<div>\n<style scoped>\n    .dataframe tbody tr th:only-of-type {\n        vertical-align: middle;\n    }\n\n    .dataframe tbody tr th {\n        vertical-align: top;\n    }\n\n    .dataframe thead th {\n        text-align: right;\n    }\n</style>\n<table border=\"1\" class=\"dataframe\">\n  <thead>\n    <tr style=\"text-align: right;\">\n      <th></th>\n      <th>Var en</th>\n      <th>Crash number</th>\n      <th>Crash %</th>\n      <th>Deaths number</th>\n      <th>Deaths %</th>\n      <th>Injuries number</th>\n      <th>Injuries %</th>\n    </tr>\n    <tr>\n      <th>Road type</th>\n      <th></th>\n      <th></th>\n      <th></th>\n      <th></th>\n      <th></th>\n      <th></th>\n      <th></th>\n    </tr>\n  </thead>\n  <tbody>\n    <tr>\n      <th>RT1</th>\n      <td>Highway</td>\n      <td>39137</td>\n      <td>16.495754</td>\n      <td>108</td>\n      <td>6.945338</td>\n      <td>4293</td>\n      <td>2.357742</td>\n    </tr>\n    <tr>\n      <th>RT10</th>\n      <td>Public square</td>\n      <td>1509</td>\n      <td>0.636025</td>\n      <td>11</td>\n      <td>0.707395</td>\n      <td>1428</td>\n      <td>0.784266</td>\n    </tr>\n    <tr>\n      <th>RT11</th>\n      <td>Other road</td>\n      <td>26005</td>\n      <td>10.960781</td>\n      <td>240</td>\n      <td>15.434084</td>\n      <td>23812</td>\n      <td>13.077696</td>\n    </tr>\n    <tr>\n      <th>RT2</th>\n      <td>1st class road</td>\n      <td>8961</td>\n      <td>3.776949</td>\n      <td>67</td>\n      <td>4.308682</td>\n      <td>6150</td>\n      <td>3.377618</td>\n    </tr>\n    <tr>\n      <th>RT3</th>\n      <td>2nd class road</td>\n      <td>215</td>\n      <td>0.090620</td>\n      <td>0</td>\n      <td>0.000000</td>\n      <td>68</td>\n      <td>0.037346</td>\n    </tr>\n    <tr>\n      <th>RT4</th>\n      <td>3rd class road</td>\n      <td>238</td>\n      <td>0.100314</td>\n      <td>3</td>\n      <td>0.192926</td>\n      <td>261</td>\n      <td>0.143343</td>\n    </tr>\n    <tr>\n      <th>RT5</th>\n      <td>4th class road</td>\n      <td>7</td>\n      <td>0.002950</td>\n      <td>0</td>\n      <td>0.000000</td>\n      <td>18</td>\n      <td>0.009886</td>\n    </tr>\n    <tr>\n      <th>RT6</th>\n      <td>City expressway</td>\n      <td>12360</td>\n      <td>5.209585</td>\n      <td>62</td>\n      <td>3.987138</td>\n      <td>4081</td>\n      <td>2.241310</td>\n    </tr>\n    <tr>\n      <th>RT7</th>\n      <td>Normal urban road/street</td>\n      <td>126047</td>\n      <td>53.127226</td>\n      <td>1045</td>\n      <td>67.202572</td>\n      <td>130566</td>\n      <td>71.707647</td>\n    </tr>\n    <tr>\n      <th>RT8</th>\n      <td>Road in residential or industrial communities</td>\n      <td>821</td>\n      <td>0.346041</td>\n      <td>14</td>\n      <td>0.900322</td>\n      <td>891</td>\n      <td>0.489343</td>\n    </tr>\n    <tr>\n      <th>RT9</th>\n      <td>Public parking lot</td>\n      <td>98</td>\n      <td>0.041306</td>\n      <td>5</td>\n      <td>0.321543</td>\n      <td>82</td>\n      <td>0.045035</td>\n    </tr>\n    <tr>\n      <th>Unknown</th>\n      <td>Unknown</td>\n      <td>21857</td>\n      <td>9.212451</td>\n      <td>0</td>\n      <td>0.000000</td>\n      <td>10431</td>\n      <td>5.728769</td>\n    </tr>\n  </tbody>\n</table>\n</div>"
     },
     "execution_count": 14,
     "metadata": {},
     "output_type": "execute_result"
    }
   ],
   "source": [
    "var = 'Road type'\n",
    "df_rec.groupby(var).apply(basic).to_clipboard()\n",
    "df_rec.groupby(var).apply(basic)"
   ],
   "metadata": {
    "collapsed": false,
    "pycharm": {
     "name": "#%%\n"
    }
   }
  },
  {
   "cell_type": "markdown",
   "source": [
    "### 3.3 Crash type (Crash type)\n",
    "Impact on: number of crashes, deaths, injuries."
   ],
   "metadata": {
    "collapsed": false
   }
  },
  {
   "cell_type": "code",
   "execution_count": 15,
   "outputs": [
    {
     "data": {
      "text/plain": "                                                       Var en  Crash number  \\\nCrash type                                                                    \nCT1                              Collision with fixed objects         18080   \nCT10                        Passenger falling out of vehicles           315   \nCT11                                     Crushing pedestrians           470   \nCT12                                                 Rollover           665   \nCT13         Other collision type between vehicles and humans           292   \nCT2                          Collision with non-fixed objects           840   \nCT3                Collision with motor vehicles in transport        157715   \nCT4                           Collision with stopped vehicles          2103   \nCT5                     Other collision type between vehicles         17650   \nCT6                                    Scratching pedestrians         16076   \nCT7         Other collision type between vehicles and pede...            67   \nCT8                               Vehicle falling down cliffs            32   \nCT9                                                      Fire            55   \nOthers                                                 Others           821   \nUnknown                                               Unknown         22074   \n\n              Crash %  Deaths number   Deaths %  Injuries number  Injuries %  \nCrash type                                                                    \nCT1          7.620493             10   0.643087             3749    2.058974  \nCT10         0.132769              0   0.000000              579    0.317990  \nCT11         0.198099            173  11.125402              559    0.307006  \nCT12         0.280289              1   0.064309              650    0.356984  \nCT13         0.123074              0   0.000000              214    0.117530  \nCT2          0.354049              0   0.000000               86    0.047232  \nCT3         66.474890            793  50.996785           120561   66.212839  \nCT4          0.886388             85   5.466238             1382    0.759003  \nCT5          7.439253              2   0.128617            14665    8.054108  \nCT6          6.775832            302  19.421222            28167   15.469489  \nCT7          0.028240              0   0.000000               30    0.016476  \nCT8          0.013488              0   0.000000               37    0.020321  \nCT9          0.023182              0   0.000000                2    0.001098  \nOthers       0.346041            181  11.639871              712    0.391035  \nUnknown      9.303914              8   0.514469            10688    5.869915  ",
      "text/html": "<div>\n<style scoped>\n    .dataframe tbody tr th:only-of-type {\n        vertical-align: middle;\n    }\n\n    .dataframe tbody tr th {\n        vertical-align: top;\n    }\n\n    .dataframe thead th {\n        text-align: right;\n    }\n</style>\n<table border=\"1\" class=\"dataframe\">\n  <thead>\n    <tr style=\"text-align: right;\">\n      <th></th>\n      <th>Var en</th>\n      <th>Crash number</th>\n      <th>Crash %</th>\n      <th>Deaths number</th>\n      <th>Deaths %</th>\n      <th>Injuries number</th>\n      <th>Injuries %</th>\n    </tr>\n    <tr>\n      <th>Crash type</th>\n      <th></th>\n      <th></th>\n      <th></th>\n      <th></th>\n      <th></th>\n      <th></th>\n      <th></th>\n    </tr>\n  </thead>\n  <tbody>\n    <tr>\n      <th>CT1</th>\n      <td>Collision with fixed objects</td>\n      <td>18080</td>\n      <td>7.620493</td>\n      <td>10</td>\n      <td>0.643087</td>\n      <td>3749</td>\n      <td>2.058974</td>\n    </tr>\n    <tr>\n      <th>CT10</th>\n      <td>Passenger falling out of vehicles</td>\n      <td>315</td>\n      <td>0.132769</td>\n      <td>0</td>\n      <td>0.000000</td>\n      <td>579</td>\n      <td>0.317990</td>\n    </tr>\n    <tr>\n      <th>CT11</th>\n      <td>Crushing pedestrians</td>\n      <td>470</td>\n      <td>0.198099</td>\n      <td>173</td>\n      <td>11.125402</td>\n      <td>559</td>\n      <td>0.307006</td>\n    </tr>\n    <tr>\n      <th>CT12</th>\n      <td>Rollover</td>\n      <td>665</td>\n      <td>0.280289</td>\n      <td>1</td>\n      <td>0.064309</td>\n      <td>650</td>\n      <td>0.356984</td>\n    </tr>\n    <tr>\n      <th>CT13</th>\n      <td>Other collision type between vehicles and humans</td>\n      <td>292</td>\n      <td>0.123074</td>\n      <td>0</td>\n      <td>0.000000</td>\n      <td>214</td>\n      <td>0.117530</td>\n    </tr>\n    <tr>\n      <th>CT2</th>\n      <td>Collision with non-fixed objects</td>\n      <td>840</td>\n      <td>0.354049</td>\n      <td>0</td>\n      <td>0.000000</td>\n      <td>86</td>\n      <td>0.047232</td>\n    </tr>\n    <tr>\n      <th>CT3</th>\n      <td>Collision with motor vehicles in transport</td>\n      <td>157715</td>\n      <td>66.474890</td>\n      <td>793</td>\n      <td>50.996785</td>\n      <td>120561</td>\n      <td>66.212839</td>\n    </tr>\n    <tr>\n      <th>CT4</th>\n      <td>Collision with stopped vehicles</td>\n      <td>2103</td>\n      <td>0.886388</td>\n      <td>85</td>\n      <td>5.466238</td>\n      <td>1382</td>\n      <td>0.759003</td>\n    </tr>\n    <tr>\n      <th>CT5</th>\n      <td>Other collision type between vehicles</td>\n      <td>17650</td>\n      <td>7.439253</td>\n      <td>2</td>\n      <td>0.128617</td>\n      <td>14665</td>\n      <td>8.054108</td>\n    </tr>\n    <tr>\n      <th>CT6</th>\n      <td>Scratching pedestrians</td>\n      <td>16076</td>\n      <td>6.775832</td>\n      <td>302</td>\n      <td>19.421222</td>\n      <td>28167</td>\n      <td>15.469489</td>\n    </tr>\n    <tr>\n      <th>CT7</th>\n      <td>Other collision type between vehicles and pede...</td>\n      <td>67</td>\n      <td>0.028240</td>\n      <td>0</td>\n      <td>0.000000</td>\n      <td>30</td>\n      <td>0.016476</td>\n    </tr>\n    <tr>\n      <th>CT8</th>\n      <td>Vehicle falling down cliffs</td>\n      <td>32</td>\n      <td>0.013488</td>\n      <td>0</td>\n      <td>0.000000</td>\n      <td>37</td>\n      <td>0.020321</td>\n    </tr>\n    <tr>\n      <th>CT9</th>\n      <td>Fire</td>\n      <td>55</td>\n      <td>0.023182</td>\n      <td>0</td>\n      <td>0.000000</td>\n      <td>2</td>\n      <td>0.001098</td>\n    </tr>\n    <tr>\n      <th>Others</th>\n      <td>Others</td>\n      <td>821</td>\n      <td>0.346041</td>\n      <td>181</td>\n      <td>11.639871</td>\n      <td>712</td>\n      <td>0.391035</td>\n    </tr>\n    <tr>\n      <th>Unknown</th>\n      <td>Unknown</td>\n      <td>22074</td>\n      <td>9.303914</td>\n      <td>8</td>\n      <td>0.514469</td>\n      <td>10688</td>\n      <td>5.869915</td>\n    </tr>\n  </tbody>\n</table>\n</div>"
     },
     "execution_count": 15,
     "metadata": {},
     "output_type": "execute_result"
    }
   ],
   "source": [
    "var = 'Crash type'\n",
    "df_rec.groupby(var).apply(basic).to_clipboard()\n",
    "df_rec.groupby(var).apply(basic)"
   ],
   "metadata": {
    "collapsed": false,
    "pycharm": {
     "name": "#%%\n"
    }
   }
  },
  {
   "cell_type": "markdown",
   "source": [
    "### 3.4 Weather (Weather)\n",
    "Impact on: number of crashes, deaths, injuries."
   ],
   "metadata": {
    "collapsed": false
   }
  },
  {
   "cell_type": "code",
   "execution_count": 16,
   "outputs": [
    {
     "data": {
      "text/plain": "                  Var en  Crash number    Crash %  Deaths number   Deaths %  \\\nWeather                                                                       \nCloudy            Cloudy         12869   5.424122            146   9.389068   \nHaze or fog  Haze or fog           102   0.042992              2   0.128617   \nHeavy rain    Heavy rain            54   0.022760              0   0.000000   \nLight rain    Light rain         27120  11.430739            182  11.704180   \nSunny              Sunny        197075  83.064635           1225  78.778135   \nUnknown          Unknown            35   0.014752              0   0.000000   \n\n             Injuries number  Injuries %  \nWeather                                   \nCloudy                  8022    4.405732  \nHaze or fog               29    0.015927  \nHeavy rain                23    0.012632  \nLight rain             15505    8.515441  \nSunny                 158482   87.039285  \nUnknown                   20    0.010984  ",
      "text/html": "<div>\n<style scoped>\n    .dataframe tbody tr th:only-of-type {\n        vertical-align: middle;\n    }\n\n    .dataframe tbody tr th {\n        vertical-align: top;\n    }\n\n    .dataframe thead th {\n        text-align: right;\n    }\n</style>\n<table border=\"1\" class=\"dataframe\">\n  <thead>\n    <tr style=\"text-align: right;\">\n      <th></th>\n      <th>Var en</th>\n      <th>Crash number</th>\n      <th>Crash %</th>\n      <th>Deaths number</th>\n      <th>Deaths %</th>\n      <th>Injuries number</th>\n      <th>Injuries %</th>\n    </tr>\n    <tr>\n      <th>Weather</th>\n      <th></th>\n      <th></th>\n      <th></th>\n      <th></th>\n      <th></th>\n      <th></th>\n      <th></th>\n    </tr>\n  </thead>\n  <tbody>\n    <tr>\n      <th>Cloudy</th>\n      <td>Cloudy</td>\n      <td>12869</td>\n      <td>5.424122</td>\n      <td>146</td>\n      <td>9.389068</td>\n      <td>8022</td>\n      <td>4.405732</td>\n    </tr>\n    <tr>\n      <th>Haze or fog</th>\n      <td>Haze or fog</td>\n      <td>102</td>\n      <td>0.042992</td>\n      <td>2</td>\n      <td>0.128617</td>\n      <td>29</td>\n      <td>0.015927</td>\n    </tr>\n    <tr>\n      <th>Heavy rain</th>\n      <td>Heavy rain</td>\n      <td>54</td>\n      <td>0.022760</td>\n      <td>0</td>\n      <td>0.000000</td>\n      <td>23</td>\n      <td>0.012632</td>\n    </tr>\n    <tr>\n      <th>Light rain</th>\n      <td>Light rain</td>\n      <td>27120</td>\n      <td>11.430739</td>\n      <td>182</td>\n      <td>11.704180</td>\n      <td>15505</td>\n      <td>8.515441</td>\n    </tr>\n    <tr>\n      <th>Sunny</th>\n      <td>Sunny</td>\n      <td>197075</td>\n      <td>83.064635</td>\n      <td>1225</td>\n      <td>78.778135</td>\n      <td>158482</td>\n      <td>87.039285</td>\n    </tr>\n    <tr>\n      <th>Unknown</th>\n      <td>Unknown</td>\n      <td>35</td>\n      <td>0.014752</td>\n      <td>0</td>\n      <td>0.000000</td>\n      <td>20</td>\n      <td>0.010984</td>\n    </tr>\n  </tbody>\n</table>\n</div>"
     },
     "execution_count": 16,
     "metadata": {},
     "output_type": "execute_result"
    }
   ],
   "source": [
    "var = 'Weather'\n",
    "df_rec.groupby(var).apply(basic).to_clipboard()\n",
    "df_rec.groupby(var).apply(basic)"
   ],
   "metadata": {
    "collapsed": false,
    "pycharm": {
     "name": "#%%\n"
    }
   }
  },
  {
   "cell_type": "markdown",
   "source": [
    "#### 3.4.1 Compare with the overall weather\n",
    "Look at the weather records downloaded from OpenWeather."
   ],
   "metadata": {
    "collapsed": false,
    "pycharm": {
     "name": "#%% md\n"
    }
   }
  },
  {
   "cell_type": "code",
   "execution_count": 17,
   "outputs": [
    {
     "data": {
      "text/plain": "weather_main\nClear            3100\nClouds          16244\nHaze                5\nMist               22\nRain             6936\nThunderstorm        5\ndtype: int64"
     },
     "execution_count": 17,
     "metadata": {},
     "output_type": "execute_result"
    }
   ],
   "source": [
    "df_weather = pd.read_csv(os.path.join(data_path, 'weather_shenzhen_2014-2016.csv'),\n",
    "                         usecols=['dt_iso', 'weather_main'])\n",
    "df_weather.dt_iso = df_weather.dt_iso.apply(lambda x: x.split(' ')[0])\n",
    "df_weather.groupby('weather_main').size()"
   ],
   "metadata": {
    "collapsed": false,
    "pycharm": {
     "name": "#%%\n"
    }
   }
  },
  {
   "cell_type": "markdown",
   "source": [
    "### 3.5 Crash causation (Crash causation)\n",
    "Impact on: number of crashes, deaths, injuries."
   ],
   "metadata": {
    "collapsed": false,
    "pycharm": {
     "name": "#%% md\n"
    }
   }
  },
  {
   "cell_type": "code",
   "execution_count": 18,
   "outputs": [
    {
     "data": {
      "text/plain": "                                                            Var en  \\\nCrash causation                                                      \nCC1                Motor vehicles not driving on the allowed lanes   \nCC10             Not passing vehicles driving in the opposite d...   \nCC11             Openning or closing doors to obstruct vehicles...   \nCC12                             Driving in the opposite direction   \nCC13                       Not driving on the right-side of a road   \nCC14                                Illegal use of dedicated lanes   \nCC15                                 Not following traffic signals   \nCC16             Non-motor vehicles not driving on the allowed ...   \nCC17             Illegal crossing of non-motor vehicles on lane...   \nCC18             Not yielding pedestrians at the zebra-crossing...   \nCC2                                             Unsafe lane change   \nCC3                                                  Unsafe U-turn   \nCC4              Not following traffic rules at signalized inte...   \nCC5              Not yielding pedestrians or straight-going veh...   \nCC6              Not yielding the right-hand-side vehicles at u...   \nCC7                      Not backing a car following traffic rules   \nCC8                             Not following with a safe distance   \nCC9                                   Other unsafe driver behavior   \nOthers                                                      Others   \nUnknown                                                    Unknown   \n\n                 Crash number    Crash %  Deaths number   Deaths %  \\\nCrash causation                                                      \nCC1                       582   0.245306              0   0.000000   \nCC10                     5635   2.375082             24   1.543408   \nCC11                      694   0.292512              0   0.000000   \nCC12                     1538   0.648248             15   0.964630   \nCC13                     1235   0.520537              5   0.321543   \nCC14                     1288   0.542876              1   0.064309   \nCC15                      366   0.154264             10   0.643087   \nCC16                     1672   0.704727             33   2.122186   \nCC17                     1226   0.516744              2   0.128617   \nCC18                      300   0.126446             17   1.093248   \nCC2                     23178   9.769236              9   0.578778   \nCC3                      1381   0.582074              4   0.257235   \nCC4                       362   0.152578              8   0.514469   \nCC5                      7832   3.301090             12   0.771704   \nCC6                      1930   0.813471              1   0.064309   \nCC7                      3616   1.524099             27   1.736334   \nCC8                     35879  15.122547             45   2.893891   \nCC9                    126263  53.218267            909  58.456592   \nOthers                  19760   8.328592            398  25.594855   \nUnknown                  2518   1.061305             35   2.250804   \n\n                 Injuries number  Injuries %  \nCrash causation                               \nCC1                          661    0.363025  \nCC10                        6236    3.424849  \nCC11                        1204    0.661244  \nCC12                        2817    1.547114  \nCC13                        2589    1.421895  \nCC14                        2776    1.524596  \nCC15                         669    0.367419  \nCC16                        2827    1.552606  \nCC17                        1602    0.879828  \nCC18                         492    0.270209  \nCC2                         4444    2.440672  \nCC3                         1581    0.868295  \nCC4                          595    0.326778  \nCC5                         8410    4.618823  \nCC6                         1569    0.861704  \nCC7                         2158    1.185187  \nCC8                        12733    6.993042  \nCC9                       111140   61.038768  \nOthers                     17396    9.553990  \nUnknown                      182    0.099956  ",
      "text/html": "<div>\n<style scoped>\n    .dataframe tbody tr th:only-of-type {\n        vertical-align: middle;\n    }\n\n    .dataframe tbody tr th {\n        vertical-align: top;\n    }\n\n    .dataframe thead th {\n        text-align: right;\n    }\n</style>\n<table border=\"1\" class=\"dataframe\">\n  <thead>\n    <tr style=\"text-align: right;\">\n      <th></th>\n      <th>Var en</th>\n      <th>Crash number</th>\n      <th>Crash %</th>\n      <th>Deaths number</th>\n      <th>Deaths %</th>\n      <th>Injuries number</th>\n      <th>Injuries %</th>\n    </tr>\n    <tr>\n      <th>Crash causation</th>\n      <th></th>\n      <th></th>\n      <th></th>\n      <th></th>\n      <th></th>\n      <th></th>\n      <th></th>\n    </tr>\n  </thead>\n  <tbody>\n    <tr>\n      <th>CC1</th>\n      <td>Motor vehicles not driving on the allowed lanes</td>\n      <td>582</td>\n      <td>0.245306</td>\n      <td>0</td>\n      <td>0.000000</td>\n      <td>661</td>\n      <td>0.363025</td>\n    </tr>\n    <tr>\n      <th>CC10</th>\n      <td>Not passing vehicles driving in the opposite d...</td>\n      <td>5635</td>\n      <td>2.375082</td>\n      <td>24</td>\n      <td>1.543408</td>\n      <td>6236</td>\n      <td>3.424849</td>\n    </tr>\n    <tr>\n      <th>CC11</th>\n      <td>Openning or closing doors to obstruct vehicles...</td>\n      <td>694</td>\n      <td>0.292512</td>\n      <td>0</td>\n      <td>0.000000</td>\n      <td>1204</td>\n      <td>0.661244</td>\n    </tr>\n    <tr>\n      <th>CC12</th>\n      <td>Driving in the opposite direction</td>\n      <td>1538</td>\n      <td>0.648248</td>\n      <td>15</td>\n      <td>0.964630</td>\n      <td>2817</td>\n      <td>1.547114</td>\n    </tr>\n    <tr>\n      <th>CC13</th>\n      <td>Not driving on the right-side of a road</td>\n      <td>1235</td>\n      <td>0.520537</td>\n      <td>5</td>\n      <td>0.321543</td>\n      <td>2589</td>\n      <td>1.421895</td>\n    </tr>\n    <tr>\n      <th>CC14</th>\n      <td>Illegal use of dedicated lanes</td>\n      <td>1288</td>\n      <td>0.542876</td>\n      <td>1</td>\n      <td>0.064309</td>\n      <td>2776</td>\n      <td>1.524596</td>\n    </tr>\n    <tr>\n      <th>CC15</th>\n      <td>Not following traffic signals</td>\n      <td>366</td>\n      <td>0.154264</td>\n      <td>10</td>\n      <td>0.643087</td>\n      <td>669</td>\n      <td>0.367419</td>\n    </tr>\n    <tr>\n      <th>CC16</th>\n      <td>Non-motor vehicles not driving on the allowed ...</td>\n      <td>1672</td>\n      <td>0.704727</td>\n      <td>33</td>\n      <td>2.122186</td>\n      <td>2827</td>\n      <td>1.552606</td>\n    </tr>\n    <tr>\n      <th>CC17</th>\n      <td>Illegal crossing of non-motor vehicles on lane...</td>\n      <td>1226</td>\n      <td>0.516744</td>\n      <td>2</td>\n      <td>0.128617</td>\n      <td>1602</td>\n      <td>0.879828</td>\n    </tr>\n    <tr>\n      <th>CC18</th>\n      <td>Not yielding pedestrians at the zebra-crossing...</td>\n      <td>300</td>\n      <td>0.126446</td>\n      <td>17</td>\n      <td>1.093248</td>\n      <td>492</td>\n      <td>0.270209</td>\n    </tr>\n    <tr>\n      <th>CC2</th>\n      <td>Unsafe lane change</td>\n      <td>23178</td>\n      <td>9.769236</td>\n      <td>9</td>\n      <td>0.578778</td>\n      <td>4444</td>\n      <td>2.440672</td>\n    </tr>\n    <tr>\n      <th>CC3</th>\n      <td>Unsafe U-turn</td>\n      <td>1381</td>\n      <td>0.582074</td>\n      <td>4</td>\n      <td>0.257235</td>\n      <td>1581</td>\n      <td>0.868295</td>\n    </tr>\n    <tr>\n      <th>CC4</th>\n      <td>Not following traffic rules at signalized inte...</td>\n      <td>362</td>\n      <td>0.152578</td>\n      <td>8</td>\n      <td>0.514469</td>\n      <td>595</td>\n      <td>0.326778</td>\n    </tr>\n    <tr>\n      <th>CC5</th>\n      <td>Not yielding pedestrians or straight-going veh...</td>\n      <td>7832</td>\n      <td>3.301090</td>\n      <td>12</td>\n      <td>0.771704</td>\n      <td>8410</td>\n      <td>4.618823</td>\n    </tr>\n    <tr>\n      <th>CC6</th>\n      <td>Not yielding the right-hand-side vehicles at u...</td>\n      <td>1930</td>\n      <td>0.813471</td>\n      <td>1</td>\n      <td>0.064309</td>\n      <td>1569</td>\n      <td>0.861704</td>\n    </tr>\n    <tr>\n      <th>CC7</th>\n      <td>Not backing a car following traffic rules</td>\n      <td>3616</td>\n      <td>1.524099</td>\n      <td>27</td>\n      <td>1.736334</td>\n      <td>2158</td>\n      <td>1.185187</td>\n    </tr>\n    <tr>\n      <th>CC8</th>\n      <td>Not following with a safe distance</td>\n      <td>35879</td>\n      <td>15.122547</td>\n      <td>45</td>\n      <td>2.893891</td>\n      <td>12733</td>\n      <td>6.993042</td>\n    </tr>\n    <tr>\n      <th>CC9</th>\n      <td>Other unsafe driver behavior</td>\n      <td>126263</td>\n      <td>53.218267</td>\n      <td>909</td>\n      <td>58.456592</td>\n      <td>111140</td>\n      <td>61.038768</td>\n    </tr>\n    <tr>\n      <th>Others</th>\n      <td>Others</td>\n      <td>19760</td>\n      <td>8.328592</td>\n      <td>398</td>\n      <td>25.594855</td>\n      <td>17396</td>\n      <td>9.553990</td>\n    </tr>\n    <tr>\n      <th>Unknown</th>\n      <td>Unknown</td>\n      <td>2518</td>\n      <td>1.061305</td>\n      <td>35</td>\n      <td>2.250804</td>\n      <td>182</td>\n      <td>0.099956</td>\n    </tr>\n  </tbody>\n</table>\n</div>"
     },
     "execution_count": 18,
     "metadata": {},
     "output_type": "execute_result"
    }
   ],
   "source": [
    "var = 'Crash causation'\n",
    "df_rec.groupby(var).apply(basic).to_clipboard()\n",
    "df_rec.groupby(var).apply(basic)"
   ],
   "metadata": {
    "collapsed": false,
    "pycharm": {
     "name": "#%%\n"
    }
   }
  },
  {
   "cell_type": "markdown",
   "source": [
    "### 3.6 Impact of month of year, day of week, and time of day\n",
    "Impact on: number of crashes.\n",
    "\n",
    "Run scr/plot_crash_by_time.R will get the plots."
   ],
   "metadata": {
    "collapsed": false
   }
  },
  {
   "cell_type": "markdown",
   "source": [
    "### 3.7 Land-use cluster\n",
    "Impact on: number of crashes."
   ],
   "metadata": {
    "collapsed": false
   }
  },
  {
   "cell_type": "code",
   "execution_count": 19,
   "outputs": [
    {
     "data": {
      "text/plain": "                   Var en  Crash number    Crash %  Deaths number   Deaths %  \\\nLand-use cluster                                                               \nLUC1                    1         30607  12.900466            178  11.446945   \nLUC2                    2         65691  27.687931            469  30.160772   \nLUC3                    3         38396  16.183431            310  19.935691   \nLUC4                    4         18220   7.679501             75   4.823151   \nLUC5                    5         56783  23.933321            386  24.823151   \nLUC6                    6         17207   7.252534            119   7.652733   \nUnknown           Unknown         10351   4.362816             18   1.157556   \n\n                  Injuries number  Injuries %  \nLand-use cluster                               \nLUC1                        29361   16.125241  \nLUC2                        41058   22.549305  \nLUC3                        32486   17.841510  \nLUC4                         9234    5.071369  \nLUC5                        47348   26.003811  \nLUC6                        16810    9.232155  \nUnknown                      5784    3.176608  ",
      "text/html": "<div>\n<style scoped>\n    .dataframe tbody tr th:only-of-type {\n        vertical-align: middle;\n    }\n\n    .dataframe tbody tr th {\n        vertical-align: top;\n    }\n\n    .dataframe thead th {\n        text-align: right;\n    }\n</style>\n<table border=\"1\" class=\"dataframe\">\n  <thead>\n    <tr style=\"text-align: right;\">\n      <th></th>\n      <th>Var en</th>\n      <th>Crash number</th>\n      <th>Crash %</th>\n      <th>Deaths number</th>\n      <th>Deaths %</th>\n      <th>Injuries number</th>\n      <th>Injuries %</th>\n    </tr>\n    <tr>\n      <th>Land-use cluster</th>\n      <th></th>\n      <th></th>\n      <th></th>\n      <th></th>\n      <th></th>\n      <th></th>\n      <th></th>\n    </tr>\n  </thead>\n  <tbody>\n    <tr>\n      <th>LUC1</th>\n      <td>1</td>\n      <td>30607</td>\n      <td>12.900466</td>\n      <td>178</td>\n      <td>11.446945</td>\n      <td>29361</td>\n      <td>16.125241</td>\n    </tr>\n    <tr>\n      <th>LUC2</th>\n      <td>2</td>\n      <td>65691</td>\n      <td>27.687931</td>\n      <td>469</td>\n      <td>30.160772</td>\n      <td>41058</td>\n      <td>22.549305</td>\n    </tr>\n    <tr>\n      <th>LUC3</th>\n      <td>3</td>\n      <td>38396</td>\n      <td>16.183431</td>\n      <td>310</td>\n      <td>19.935691</td>\n      <td>32486</td>\n      <td>17.841510</td>\n    </tr>\n    <tr>\n      <th>LUC4</th>\n      <td>4</td>\n      <td>18220</td>\n      <td>7.679501</td>\n      <td>75</td>\n      <td>4.823151</td>\n      <td>9234</td>\n      <td>5.071369</td>\n    </tr>\n    <tr>\n      <th>LUC5</th>\n      <td>5</td>\n      <td>56783</td>\n      <td>23.933321</td>\n      <td>386</td>\n      <td>24.823151</td>\n      <td>47348</td>\n      <td>26.003811</td>\n    </tr>\n    <tr>\n      <th>LUC6</th>\n      <td>6</td>\n      <td>17207</td>\n      <td>7.252534</td>\n      <td>119</td>\n      <td>7.652733</td>\n      <td>16810</td>\n      <td>9.232155</td>\n    </tr>\n    <tr>\n      <th>Unknown</th>\n      <td>Unknown</td>\n      <td>10351</td>\n      <td>4.362816</td>\n      <td>18</td>\n      <td>1.157556</td>\n      <td>5784</td>\n      <td>3.176608</td>\n    </tr>\n  </tbody>\n</table>\n</div>"
     },
     "execution_count": 19,
     "metadata": {},
     "output_type": "execute_result"
    }
   ],
   "source": [
    "var = 'Land-use cluster'\n",
    "df_rec.groupby(var).apply(basic).to_clipboard()\n",
    "df_rec.groupby(var).apply(basic)"
   ],
   "metadata": {
    "collapsed": false,
    "pycharm": {
     "name": "#%%\n"
    }
   }
  },
  {
   "cell_type": "code",
   "execution_count": 20,
   "outputs": [
    {
     "data": {
      "text/plain": "Land-use cluster       LUC1       LUC2       LUC3       LUC4       LUC5  \\\nRoad type                                                                 \nRT1                0.000000  32.877172  16.884813  54.387744   4.727928   \nRT10               0.000000   2.179022   0.000000   0.766025   0.018777   \nRT11              13.350748   8.826398  11.699319  11.141151  17.933456   \nRT2                1.957346   0.610702   0.144505   0.000000  14.983664   \nRT3                0.000000   0.329331   0.002779   0.000000   0.015021   \nRT4                0.529593   0.000000   0.000000   0.000000   0.016899   \nRT5                0.000000   0.000000   0.019453   0.000000   0.000000   \nRT6                0.572533   5.283689   9.176046   0.405542  10.317699   \nRT7               82.945681  49.674665  61.731277  32.522249  51.688009   \nRT8                0.454448   0.217423   0.294567   0.777290   0.291036   \nRT9                0.189651   0.001599   0.047242   0.000000   0.007511   \n\nLand-use cluster       LUC6  \nRoad type                    \nRT1                0.000000  \nRT10               0.000000  \nRT11               2.507172  \nRT2                0.000000  \nRT3                0.000000  \nRT4                0.505176  \nRT5                0.000000  \nRT6                0.143445  \nRT7               96.476238  \nRT8                0.224523  \nRT9                0.143445  ",
      "text/html": "<div>\n<style scoped>\n    .dataframe tbody tr th:only-of-type {\n        vertical-align: middle;\n    }\n\n    .dataframe tbody tr th {\n        vertical-align: top;\n    }\n\n    .dataframe thead th {\n        text-align: right;\n    }\n</style>\n<table border=\"1\" class=\"dataframe\">\n  <thead>\n    <tr style=\"text-align: right;\">\n      <th>Land-use cluster</th>\n      <th>LUC1</th>\n      <th>LUC2</th>\n      <th>LUC3</th>\n      <th>LUC4</th>\n      <th>LUC5</th>\n      <th>LUC6</th>\n    </tr>\n    <tr>\n      <th>Road type</th>\n      <th></th>\n      <th></th>\n      <th></th>\n      <th></th>\n      <th></th>\n      <th></th>\n    </tr>\n  </thead>\n  <tbody>\n    <tr>\n      <th>RT1</th>\n      <td>0.000000</td>\n      <td>32.877172</td>\n      <td>16.884813</td>\n      <td>54.387744</td>\n      <td>4.727928</td>\n      <td>0.000000</td>\n    </tr>\n    <tr>\n      <th>RT10</th>\n      <td>0.000000</td>\n      <td>2.179022</td>\n      <td>0.000000</td>\n      <td>0.766025</td>\n      <td>0.018777</td>\n      <td>0.000000</td>\n    </tr>\n    <tr>\n      <th>RT11</th>\n      <td>13.350748</td>\n      <td>8.826398</td>\n      <td>11.699319</td>\n      <td>11.141151</td>\n      <td>17.933456</td>\n      <td>2.507172</td>\n    </tr>\n    <tr>\n      <th>RT2</th>\n      <td>1.957346</td>\n      <td>0.610702</td>\n      <td>0.144505</td>\n      <td>0.000000</td>\n      <td>14.983664</td>\n      <td>0.000000</td>\n    </tr>\n    <tr>\n      <th>RT3</th>\n      <td>0.000000</td>\n      <td>0.329331</td>\n      <td>0.002779</td>\n      <td>0.000000</td>\n      <td>0.015021</td>\n      <td>0.000000</td>\n    </tr>\n    <tr>\n      <th>RT4</th>\n      <td>0.529593</td>\n      <td>0.000000</td>\n      <td>0.000000</td>\n      <td>0.000000</td>\n      <td>0.016899</td>\n      <td>0.505176</td>\n    </tr>\n    <tr>\n      <th>RT5</th>\n      <td>0.000000</td>\n      <td>0.000000</td>\n      <td>0.019453</td>\n      <td>0.000000</td>\n      <td>0.000000</td>\n      <td>0.000000</td>\n    </tr>\n    <tr>\n      <th>RT6</th>\n      <td>0.572533</td>\n      <td>5.283689</td>\n      <td>9.176046</td>\n      <td>0.405542</td>\n      <td>10.317699</td>\n      <td>0.143445</td>\n    </tr>\n    <tr>\n      <th>RT7</th>\n      <td>82.945681</td>\n      <td>49.674665</td>\n      <td>61.731277</td>\n      <td>32.522249</td>\n      <td>51.688009</td>\n      <td>96.476238</td>\n    </tr>\n    <tr>\n      <th>RT8</th>\n      <td>0.454448</td>\n      <td>0.217423</td>\n      <td>0.294567</td>\n      <td>0.777290</td>\n      <td>0.291036</td>\n      <td>0.224523</td>\n    </tr>\n    <tr>\n      <th>RT9</th>\n      <td>0.189651</td>\n      <td>0.001599</td>\n      <td>0.047242</td>\n      <td>0.000000</td>\n      <td>0.007511</td>\n      <td>0.143445</td>\n    </tr>\n  </tbody>\n</table>\n</div>"
     },
     "execution_count": 20,
     "metadata": {},
     "output_type": "execute_result"
    }
   ],
   "source": [
    "# Check the road type of LUC2 vs LUC5\n",
    "var1 = 'Land-use cluster'\n",
    "var2 = 'Road type'\n",
    "df_crs = df_rec.loc[:, [var1, var2]].pivot_table(index=var2, columns=var1, aggfunc=len, fill_value=0)\n",
    "df_crs.drop(columns=['Unknown'], index=['Unknown'], inplace=True)\n",
    "df_crs = df_crs/df_crs.sum(axis=0)*100\n",
    "\n",
    "df_crs"
   ],
   "metadata": {
    "collapsed": false,
    "pycharm": {
     "name": "#%%\n"
    }
   }
  },
  {
   "cell_type": "code",
   "execution_count": 21,
   "outputs": [
    {
     "name": "stdout",
     "output_type": "stream",
     "text": [
      "Deaths: LUC2 0.007139486383218401, LUC5 0.006797809203458782\n",
      "Ks_2sampResult(statistic=0.00016049780315907647, pvalue=1.0)\n",
      "Injuries: LUC2 0.6250171256336484, LUC5 0.8338411144180476\n",
      "Ks_2sampResult(statistic=0.09735227757096243, pvalue=1.7200415913676988e-251)\n"
     ]
    }
   ],
   "source": [
    "# Check the deaths + injuries of LUC2 - rural high-speed vs LUC5 - urban low-speed\n",
    "for var in ['Deaths', 'Injuries']:\n",
    "    var1 = 'Land-use cluster'\n",
    "    df_crs = df_rec.loc[df_rec[var1].isin(['LUC2', 'LUC5']), [var, var1]]\n",
    "    conseq_LUC2 = np.mean(df_crs.loc[df_crs[var1] == 'LUC2', var].values)\n",
    "    conseq_LUC5 = np.mean(df_crs.loc[df_crs[var1] == 'LUC5', var].values)\n",
    "\n",
    "    print(f\"{var}: LUC2 {conseq_LUC2}, LUC5 {conseq_LUC5}\")\n",
    "    print(stats.ks_2samp(df_crs.loc[df_crs[var1] == 'LUC2', var].values,\n",
    "                         df_crs.loc[df_crs[var1] == 'LUC5', var].values))"
   ],
   "metadata": {
    "collapsed": false,
    "pycharm": {
     "name": "#%%\n"
    }
   }
  },
  {
   "cell_type": "markdown",
   "source": [
    "### 3.8 Crash type x road type\n",
    "Impact on: number of crashes. How distribution of crash type differs between different road types."
   ],
   "metadata": {
    "collapsed": false
   }
  },
  {
   "cell_type": "code",
   "execution_count": 22,
   "outputs": [
    {
     "name": "stdout",
     "output_type": "stream",
     "text": [
      "19558.717114622104 0.0 120\n"
     ]
    },
    {
     "data": {
      "text/plain": "Crash type   CT1  CT10  CT11  CT12  CT13  CT2    CT3   CT4    CT5    CT6  CT7  \\\nRoad type                                                                       \nRT1         5559     2    12   222    92  476  32438    90     42     59   35   \nRT10         135     7     1    10     0    6   1222    11     11    103    0   \nRT11        2271    75    70    93    11   49  20285   330    386   2287    8   \nRT2          564    13    12    21     3   10   7901    39     94    280    2   \nRT3           25     0     0     0     0    1    185     2      1      1    0   \nRT4           15     0     1     2     0    0    174    11      2     32    0   \nRT5            0     0     0     1     0    0      6     0      0      0    0   \nRT6         1198     4    12    36    20   59   9869   101    676    268    3   \nRT7         8255   211   352   276   165  234  85171  1493  16314  12833   19   \nRT8           45     3     8     4     1    3    426    22    108    191    0   \nRT9           13     0     2     0     0    2     38     4     16     22    0   \n\nCrash type  CT8  CT9  \nRoad type             \nRT1           2   19  \nRT10          0    0  \nRT11          9    1  \nRT2           0    1  \nRT3           0    0  \nRT4           0    0  \nRT5           0    0  \nRT6           2    2  \nRT7          19   31  \nRT8           0    1  \nRT9           0    0  ",
      "text/html": "<div>\n<style scoped>\n    .dataframe tbody tr th:only-of-type {\n        vertical-align: middle;\n    }\n\n    .dataframe tbody tr th {\n        vertical-align: top;\n    }\n\n    .dataframe thead th {\n        text-align: right;\n    }\n</style>\n<table border=\"1\" class=\"dataframe\">\n  <thead>\n    <tr style=\"text-align: right;\">\n      <th>Crash type</th>\n      <th>CT1</th>\n      <th>CT10</th>\n      <th>CT11</th>\n      <th>CT12</th>\n      <th>CT13</th>\n      <th>CT2</th>\n      <th>CT3</th>\n      <th>CT4</th>\n      <th>CT5</th>\n      <th>CT6</th>\n      <th>CT7</th>\n      <th>CT8</th>\n      <th>CT9</th>\n    </tr>\n    <tr>\n      <th>Road type</th>\n      <th></th>\n      <th></th>\n      <th></th>\n      <th></th>\n      <th></th>\n      <th></th>\n      <th></th>\n      <th></th>\n      <th></th>\n      <th></th>\n      <th></th>\n      <th></th>\n      <th></th>\n    </tr>\n  </thead>\n  <tbody>\n    <tr>\n      <th>RT1</th>\n      <td>5559</td>\n      <td>2</td>\n      <td>12</td>\n      <td>222</td>\n      <td>92</td>\n      <td>476</td>\n      <td>32438</td>\n      <td>90</td>\n      <td>42</td>\n      <td>59</td>\n      <td>35</td>\n      <td>2</td>\n      <td>19</td>\n    </tr>\n    <tr>\n      <th>RT10</th>\n      <td>135</td>\n      <td>7</td>\n      <td>1</td>\n      <td>10</td>\n      <td>0</td>\n      <td>6</td>\n      <td>1222</td>\n      <td>11</td>\n      <td>11</td>\n      <td>103</td>\n      <td>0</td>\n      <td>0</td>\n      <td>0</td>\n    </tr>\n    <tr>\n      <th>RT11</th>\n      <td>2271</td>\n      <td>75</td>\n      <td>70</td>\n      <td>93</td>\n      <td>11</td>\n      <td>49</td>\n      <td>20285</td>\n      <td>330</td>\n      <td>386</td>\n      <td>2287</td>\n      <td>8</td>\n      <td>9</td>\n      <td>1</td>\n    </tr>\n    <tr>\n      <th>RT2</th>\n      <td>564</td>\n      <td>13</td>\n      <td>12</td>\n      <td>21</td>\n      <td>3</td>\n      <td>10</td>\n      <td>7901</td>\n      <td>39</td>\n      <td>94</td>\n      <td>280</td>\n      <td>2</td>\n      <td>0</td>\n      <td>1</td>\n    </tr>\n    <tr>\n      <th>RT3</th>\n      <td>25</td>\n      <td>0</td>\n      <td>0</td>\n      <td>0</td>\n      <td>0</td>\n      <td>1</td>\n      <td>185</td>\n      <td>2</td>\n      <td>1</td>\n      <td>1</td>\n      <td>0</td>\n      <td>0</td>\n      <td>0</td>\n    </tr>\n    <tr>\n      <th>RT4</th>\n      <td>15</td>\n      <td>0</td>\n      <td>1</td>\n      <td>2</td>\n      <td>0</td>\n      <td>0</td>\n      <td>174</td>\n      <td>11</td>\n      <td>2</td>\n      <td>32</td>\n      <td>0</td>\n      <td>0</td>\n      <td>0</td>\n    </tr>\n    <tr>\n      <th>RT5</th>\n      <td>0</td>\n      <td>0</td>\n      <td>0</td>\n      <td>1</td>\n      <td>0</td>\n      <td>0</td>\n      <td>6</td>\n      <td>0</td>\n      <td>0</td>\n      <td>0</td>\n      <td>0</td>\n      <td>0</td>\n      <td>0</td>\n    </tr>\n    <tr>\n      <th>RT6</th>\n      <td>1198</td>\n      <td>4</td>\n      <td>12</td>\n      <td>36</td>\n      <td>20</td>\n      <td>59</td>\n      <td>9869</td>\n      <td>101</td>\n      <td>676</td>\n      <td>268</td>\n      <td>3</td>\n      <td>2</td>\n      <td>2</td>\n    </tr>\n    <tr>\n      <th>RT7</th>\n      <td>8255</td>\n      <td>211</td>\n      <td>352</td>\n      <td>276</td>\n      <td>165</td>\n      <td>234</td>\n      <td>85171</td>\n      <td>1493</td>\n      <td>16314</td>\n      <td>12833</td>\n      <td>19</td>\n      <td>19</td>\n      <td>31</td>\n    </tr>\n    <tr>\n      <th>RT8</th>\n      <td>45</td>\n      <td>3</td>\n      <td>8</td>\n      <td>4</td>\n      <td>1</td>\n      <td>3</td>\n      <td>426</td>\n      <td>22</td>\n      <td>108</td>\n      <td>191</td>\n      <td>0</td>\n      <td>0</td>\n      <td>1</td>\n    </tr>\n    <tr>\n      <th>RT9</th>\n      <td>13</td>\n      <td>0</td>\n      <td>2</td>\n      <td>0</td>\n      <td>0</td>\n      <td>2</td>\n      <td>38</td>\n      <td>4</td>\n      <td>16</td>\n      <td>22</td>\n      <td>0</td>\n      <td>0</td>\n      <td>0</td>\n    </tr>\n  </tbody>\n</table>\n</div>"
     },
     "execution_count": 22,
     "metadata": {},
     "output_type": "execute_result"
    }
   ],
   "source": [
    "var1 = 'Crash type'\n",
    "var2 = 'Road type'\n",
    "df_crs = df_rec.loc[:, [var1, var2]].pivot_table(index=var2, columns=var1, aggfunc=len, fill_value=0)\n",
    "df_crs.drop(columns=['Others', 'Unknown'], index=['Unknown'], inplace=True)\n",
    "df_crs.to_csv(os.path.join(data_path, 'crash_x_road.csv'))\n",
    "\n",
    "g, p, dof, expctd = stats.chi2_contingency(df_crs)\n",
    "print(g, p, dof)\n",
    "df_crs"
   ],
   "metadata": {
    "collapsed": false,
    "pycharm": {
     "name": "#%%\n"
    }
   }
  },
  {
   "cell_type": "code",
   "execution_count": 23,
   "outputs": [],
   "source": [
    "crs_RT = df_crs.sum(axis=1)"
   ],
   "metadata": {
    "collapsed": false,
    "pycharm": {
     "name": "#%%\n"
    }
   }
  },
  {
   "cell_type": "markdown",
   "source": [
    "### 3.9 Crash causation x Crash type, Crash causation x road type\n",
    "Impact on: number of crashes. How distribution of crash type & road type differs between different Crash causation."
   ],
   "metadata": {
    "collapsed": false
   }
  },
  {
   "cell_type": "code",
   "execution_count": 24,
   "outputs": [
    {
     "name": "stdout",
     "output_type": "stream",
     "text": [
      "53237.52668483571 0.0 170\n"
     ]
    },
    {
     "data": {
      "text/plain": "Crash causation  CC1  CC10  CC11  CC12  CC13  CC14  CC15  CC16  CC17  CC18  \\\nRoad type                                                                    \nRT1                1     0     2     5     0     0     0     0     0     0   \nRT10               0     0     2    25    81     0     2     4     0     2   \nRT11              10   119    43   266   381   110    73   160    14    15   \nRT2                4   410    11   103    47     0     6    34    86     2   \nRT3                0     0     0     0     1     0     0     0     0     0   \nRT4                0     0     0     3     6     0     0     1     0     0   \nRT5                0     0     0     0     0     0     0     0     0     0   \nRT6                2     6    17    37     4    31     5    23     4     6   \nRT7              564  5100   615  1094   714  1142   278  1443  1122   274   \nRT8                1     0     1     5     1     4     2     7     0     1   \nRT9                0     0     3     0     0     1     0     0     0     0   \n\nCrash causation   CC2   CC3  CC4   CC5   CC6   CC7    CC8    CC9  \nRoad type                                                         \nRT1              8748    22    0     1     0   462  17471  12236  \nRT10              189    24    4    98    14    35    256    720  \nRT11             2341   194   61  1380   236   653   2234  16165  \nRT2               870    14    6   171    21    36    840   6227  \nRT3                 3     0    0     1     0     0      5    204  \nRT4                 7     2    0    11     3     9     17    174  \nRT5                 0     0    0     0     0     0      2      4  \nRT6              3150    48    5   131    17    78   4866   3286  \nRT7              7850  1070  286  6024  1637  2319  10170  67172  \nRT8                13     6    0    13     1    16     14    560  \nRT9                 7     1    0     2     1     8      4     63  ",
      "text/html": "<div>\n<style scoped>\n    .dataframe tbody tr th:only-of-type {\n        vertical-align: middle;\n    }\n\n    .dataframe tbody tr th {\n        vertical-align: top;\n    }\n\n    .dataframe thead th {\n        text-align: right;\n    }\n</style>\n<table border=\"1\" class=\"dataframe\">\n  <thead>\n    <tr style=\"text-align: right;\">\n      <th>Crash causation</th>\n      <th>CC1</th>\n      <th>CC10</th>\n      <th>CC11</th>\n      <th>CC12</th>\n      <th>CC13</th>\n      <th>CC14</th>\n      <th>CC15</th>\n      <th>CC16</th>\n      <th>CC17</th>\n      <th>CC18</th>\n      <th>CC2</th>\n      <th>CC3</th>\n      <th>CC4</th>\n      <th>CC5</th>\n      <th>CC6</th>\n      <th>CC7</th>\n      <th>CC8</th>\n      <th>CC9</th>\n    </tr>\n    <tr>\n      <th>Road type</th>\n      <th></th>\n      <th></th>\n      <th></th>\n      <th></th>\n      <th></th>\n      <th></th>\n      <th></th>\n      <th></th>\n      <th></th>\n      <th></th>\n      <th></th>\n      <th></th>\n      <th></th>\n      <th></th>\n      <th></th>\n      <th></th>\n      <th></th>\n      <th></th>\n    </tr>\n  </thead>\n  <tbody>\n    <tr>\n      <th>RT1</th>\n      <td>1</td>\n      <td>0</td>\n      <td>2</td>\n      <td>5</td>\n      <td>0</td>\n      <td>0</td>\n      <td>0</td>\n      <td>0</td>\n      <td>0</td>\n      <td>0</td>\n      <td>8748</td>\n      <td>22</td>\n      <td>0</td>\n      <td>1</td>\n      <td>0</td>\n      <td>462</td>\n      <td>17471</td>\n      <td>12236</td>\n    </tr>\n    <tr>\n      <th>RT10</th>\n      <td>0</td>\n      <td>0</td>\n      <td>2</td>\n      <td>25</td>\n      <td>81</td>\n      <td>0</td>\n      <td>2</td>\n      <td>4</td>\n      <td>0</td>\n      <td>2</td>\n      <td>189</td>\n      <td>24</td>\n      <td>4</td>\n      <td>98</td>\n      <td>14</td>\n      <td>35</td>\n      <td>256</td>\n      <td>720</td>\n    </tr>\n    <tr>\n      <th>RT11</th>\n      <td>10</td>\n      <td>119</td>\n      <td>43</td>\n      <td>266</td>\n      <td>381</td>\n      <td>110</td>\n      <td>73</td>\n      <td>160</td>\n      <td>14</td>\n      <td>15</td>\n      <td>2341</td>\n      <td>194</td>\n      <td>61</td>\n      <td>1380</td>\n      <td>236</td>\n      <td>653</td>\n      <td>2234</td>\n      <td>16165</td>\n    </tr>\n    <tr>\n      <th>RT2</th>\n      <td>4</td>\n      <td>410</td>\n      <td>11</td>\n      <td>103</td>\n      <td>47</td>\n      <td>0</td>\n      <td>6</td>\n      <td>34</td>\n      <td>86</td>\n      <td>2</td>\n      <td>870</td>\n      <td>14</td>\n      <td>6</td>\n      <td>171</td>\n      <td>21</td>\n      <td>36</td>\n      <td>840</td>\n      <td>6227</td>\n    </tr>\n    <tr>\n      <th>RT3</th>\n      <td>0</td>\n      <td>0</td>\n      <td>0</td>\n      <td>0</td>\n      <td>1</td>\n      <td>0</td>\n      <td>0</td>\n      <td>0</td>\n      <td>0</td>\n      <td>0</td>\n      <td>3</td>\n      <td>0</td>\n      <td>0</td>\n      <td>1</td>\n      <td>0</td>\n      <td>0</td>\n      <td>5</td>\n      <td>204</td>\n    </tr>\n    <tr>\n      <th>RT4</th>\n      <td>0</td>\n      <td>0</td>\n      <td>0</td>\n      <td>3</td>\n      <td>6</td>\n      <td>0</td>\n      <td>0</td>\n      <td>1</td>\n      <td>0</td>\n      <td>0</td>\n      <td>7</td>\n      <td>2</td>\n      <td>0</td>\n      <td>11</td>\n      <td>3</td>\n      <td>9</td>\n      <td>17</td>\n      <td>174</td>\n    </tr>\n    <tr>\n      <th>RT5</th>\n      <td>0</td>\n      <td>0</td>\n      <td>0</td>\n      <td>0</td>\n      <td>0</td>\n      <td>0</td>\n      <td>0</td>\n      <td>0</td>\n      <td>0</td>\n      <td>0</td>\n      <td>0</td>\n      <td>0</td>\n      <td>0</td>\n      <td>0</td>\n      <td>0</td>\n      <td>0</td>\n      <td>2</td>\n      <td>4</td>\n    </tr>\n    <tr>\n      <th>RT6</th>\n      <td>2</td>\n      <td>6</td>\n      <td>17</td>\n      <td>37</td>\n      <td>4</td>\n      <td>31</td>\n      <td>5</td>\n      <td>23</td>\n      <td>4</td>\n      <td>6</td>\n      <td>3150</td>\n      <td>48</td>\n      <td>5</td>\n      <td>131</td>\n      <td>17</td>\n      <td>78</td>\n      <td>4866</td>\n      <td>3286</td>\n    </tr>\n    <tr>\n      <th>RT7</th>\n      <td>564</td>\n      <td>5100</td>\n      <td>615</td>\n      <td>1094</td>\n      <td>714</td>\n      <td>1142</td>\n      <td>278</td>\n      <td>1443</td>\n      <td>1122</td>\n      <td>274</td>\n      <td>7850</td>\n      <td>1070</td>\n      <td>286</td>\n      <td>6024</td>\n      <td>1637</td>\n      <td>2319</td>\n      <td>10170</td>\n      <td>67172</td>\n    </tr>\n    <tr>\n      <th>RT8</th>\n      <td>1</td>\n      <td>0</td>\n      <td>1</td>\n      <td>5</td>\n      <td>1</td>\n      <td>4</td>\n      <td>2</td>\n      <td>7</td>\n      <td>0</td>\n      <td>1</td>\n      <td>13</td>\n      <td>6</td>\n      <td>0</td>\n      <td>13</td>\n      <td>1</td>\n      <td>16</td>\n      <td>14</td>\n      <td>560</td>\n    </tr>\n    <tr>\n      <th>RT9</th>\n      <td>0</td>\n      <td>0</td>\n      <td>3</td>\n      <td>0</td>\n      <td>0</td>\n      <td>1</td>\n      <td>0</td>\n      <td>0</td>\n      <td>0</td>\n      <td>0</td>\n      <td>7</td>\n      <td>1</td>\n      <td>0</td>\n      <td>2</td>\n      <td>1</td>\n      <td>8</td>\n      <td>4</td>\n      <td>63</td>\n    </tr>\n  </tbody>\n</table>\n</div>"
     },
     "execution_count": 24,
     "metadata": {},
     "output_type": "execute_result"
    }
   ],
   "source": [
    "var1 = 'Crash causation'\n",
    "var2 = 'Road type'\n",
    "df_crs = df_rec.loc[:, [var1, var2]].pivot_table(index=var2, columns=var1, aggfunc=len, fill_value=0)\n",
    "df_crs.drop(columns=['Others', 'Unknown'], index=['Unknown'], inplace=True)\n",
    "df_crs.to_csv(os.path.join(data_path, 'causation_x_road.csv'))\n",
    "\n",
    "g, p, dof, expctd = stats.chi2_contingency(df_crs)\n",
    "print(g, p, dof)\n",
    "df_crs"
   ],
   "metadata": {
    "collapsed": false,
    "pycharm": {
     "name": "#%%\n"
    }
   }
  },
  {
   "cell_type": "code",
   "execution_count": 26,
   "outputs": [
    {
     "name": "stdout",
     "output_type": "stream",
     "text": [
      "30340.29099434455 0.0 204\n"
     ]
    },
    {
     "data": {
      "text/plain": "Crash causation  CC1  CC10  CC11  CC12  CC13  CC14  CC15  CC16  CC17  CC18  \\\nCrash type                                                                   \nCT1               16   667     0     2    41    16     3    22    25     0   \nCT10               0    23     1     0    35     6     0     5    23     0   \nCT11               0     2     0     0     1     2     0     3     1    11   \nCT12               1    19     0     0    12    31     0    14     2     0   \nCT13               0     5     2     6     4     5     0     8     0     0   \nCT2                0    10     0     0     0     2     0     2     1     0   \nCT3              545  4048   584  1332   793   877   268  1149   871    77   \nCT4                4   110    10     3    18     7     1    30    14     1   \nCT5                5    34    84   115    68    93    63    65     8    34   \nCT6               10   701    11    75   256   244    28   347   279   177   \nCT7                0     2     1     0     0     0     0     0     0     0   \nCT8                0     2     0     1     0     2     0     2     0     0   \nCT9                0     0     0     0     0     0     0     0     0     0   \n\nCrash causation    CC2   CC3  CC4   CC5   CC6   CC7    CC8    CC9  \nCrash type                                                         \nCT1                 27     4    0     2     3   193     69  16056  \nCT10                 0     0    0     0     0     0      2    189  \nCT11                 0     1    1     0     0    29      1    292  \nCT12                 2     0    0     0     0     8      1    541  \nCT13                 4     1    0     1     0     1      8    219  \nCT2                  0     0    0     0     0     4      2    779  \nCT3              22347  1275  348  7411  1882  2380  34579  72183  \nCT4                 72     3    2    17     2   168    182   1243  \nCT5                669    71    7   276    32   135    789   2974  \nCT6                 28    25    4   115    10   685    194  11498  \nCT7                  0     0    0     0     1     0      0     54  \nCT8                  0     0    0     0     0     0      0     24  \nCT9                  0     0    0     0     0     0      0     54  ",
      "text/html": "<div>\n<style scoped>\n    .dataframe tbody tr th:only-of-type {\n        vertical-align: middle;\n    }\n\n    .dataframe tbody tr th {\n        vertical-align: top;\n    }\n\n    .dataframe thead th {\n        text-align: right;\n    }\n</style>\n<table border=\"1\" class=\"dataframe\">\n  <thead>\n    <tr style=\"text-align: right;\">\n      <th>Crash causation</th>\n      <th>CC1</th>\n      <th>CC10</th>\n      <th>CC11</th>\n      <th>CC12</th>\n      <th>CC13</th>\n      <th>CC14</th>\n      <th>CC15</th>\n      <th>CC16</th>\n      <th>CC17</th>\n      <th>CC18</th>\n      <th>CC2</th>\n      <th>CC3</th>\n      <th>CC4</th>\n      <th>CC5</th>\n      <th>CC6</th>\n      <th>CC7</th>\n      <th>CC8</th>\n      <th>CC9</th>\n    </tr>\n    <tr>\n      <th>Crash type</th>\n      <th></th>\n      <th></th>\n      <th></th>\n      <th></th>\n      <th></th>\n      <th></th>\n      <th></th>\n      <th></th>\n      <th></th>\n      <th></th>\n      <th></th>\n      <th></th>\n      <th></th>\n      <th></th>\n      <th></th>\n      <th></th>\n      <th></th>\n      <th></th>\n    </tr>\n  </thead>\n  <tbody>\n    <tr>\n      <th>CT1</th>\n      <td>16</td>\n      <td>667</td>\n      <td>0</td>\n      <td>2</td>\n      <td>41</td>\n      <td>16</td>\n      <td>3</td>\n      <td>22</td>\n      <td>25</td>\n      <td>0</td>\n      <td>27</td>\n      <td>4</td>\n      <td>0</td>\n      <td>2</td>\n      <td>3</td>\n      <td>193</td>\n      <td>69</td>\n      <td>16056</td>\n    </tr>\n    <tr>\n      <th>CT10</th>\n      <td>0</td>\n      <td>23</td>\n      <td>1</td>\n      <td>0</td>\n      <td>35</td>\n      <td>6</td>\n      <td>0</td>\n      <td>5</td>\n      <td>23</td>\n      <td>0</td>\n      <td>0</td>\n      <td>0</td>\n      <td>0</td>\n      <td>0</td>\n      <td>0</td>\n      <td>0</td>\n      <td>2</td>\n      <td>189</td>\n    </tr>\n    <tr>\n      <th>CT11</th>\n      <td>0</td>\n      <td>2</td>\n      <td>0</td>\n      <td>0</td>\n      <td>1</td>\n      <td>2</td>\n      <td>0</td>\n      <td>3</td>\n      <td>1</td>\n      <td>11</td>\n      <td>0</td>\n      <td>1</td>\n      <td>1</td>\n      <td>0</td>\n      <td>0</td>\n      <td>29</td>\n      <td>1</td>\n      <td>292</td>\n    </tr>\n    <tr>\n      <th>CT12</th>\n      <td>1</td>\n      <td>19</td>\n      <td>0</td>\n      <td>0</td>\n      <td>12</td>\n      <td>31</td>\n      <td>0</td>\n      <td>14</td>\n      <td>2</td>\n      <td>0</td>\n      <td>2</td>\n      <td>0</td>\n      <td>0</td>\n      <td>0</td>\n      <td>0</td>\n      <td>8</td>\n      <td>1</td>\n      <td>541</td>\n    </tr>\n    <tr>\n      <th>CT13</th>\n      <td>0</td>\n      <td>5</td>\n      <td>2</td>\n      <td>6</td>\n      <td>4</td>\n      <td>5</td>\n      <td>0</td>\n      <td>8</td>\n      <td>0</td>\n      <td>0</td>\n      <td>4</td>\n      <td>1</td>\n      <td>0</td>\n      <td>1</td>\n      <td>0</td>\n      <td>1</td>\n      <td>8</td>\n      <td>219</td>\n    </tr>\n    <tr>\n      <th>CT2</th>\n      <td>0</td>\n      <td>10</td>\n      <td>0</td>\n      <td>0</td>\n      <td>0</td>\n      <td>2</td>\n      <td>0</td>\n      <td>2</td>\n      <td>1</td>\n      <td>0</td>\n      <td>0</td>\n      <td>0</td>\n      <td>0</td>\n      <td>0</td>\n      <td>0</td>\n      <td>4</td>\n      <td>2</td>\n      <td>779</td>\n    </tr>\n    <tr>\n      <th>CT3</th>\n      <td>545</td>\n      <td>4048</td>\n      <td>584</td>\n      <td>1332</td>\n      <td>793</td>\n      <td>877</td>\n      <td>268</td>\n      <td>1149</td>\n      <td>871</td>\n      <td>77</td>\n      <td>22347</td>\n      <td>1275</td>\n      <td>348</td>\n      <td>7411</td>\n      <td>1882</td>\n      <td>2380</td>\n      <td>34579</td>\n      <td>72183</td>\n    </tr>\n    <tr>\n      <th>CT4</th>\n      <td>4</td>\n      <td>110</td>\n      <td>10</td>\n      <td>3</td>\n      <td>18</td>\n      <td>7</td>\n      <td>1</td>\n      <td>30</td>\n      <td>14</td>\n      <td>1</td>\n      <td>72</td>\n      <td>3</td>\n      <td>2</td>\n      <td>17</td>\n      <td>2</td>\n      <td>168</td>\n      <td>182</td>\n      <td>1243</td>\n    </tr>\n    <tr>\n      <th>CT5</th>\n      <td>5</td>\n      <td>34</td>\n      <td>84</td>\n      <td>115</td>\n      <td>68</td>\n      <td>93</td>\n      <td>63</td>\n      <td>65</td>\n      <td>8</td>\n      <td>34</td>\n      <td>669</td>\n      <td>71</td>\n      <td>7</td>\n      <td>276</td>\n      <td>32</td>\n      <td>135</td>\n      <td>789</td>\n      <td>2974</td>\n    </tr>\n    <tr>\n      <th>CT6</th>\n      <td>10</td>\n      <td>701</td>\n      <td>11</td>\n      <td>75</td>\n      <td>256</td>\n      <td>244</td>\n      <td>28</td>\n      <td>347</td>\n      <td>279</td>\n      <td>177</td>\n      <td>28</td>\n      <td>25</td>\n      <td>4</td>\n      <td>115</td>\n      <td>10</td>\n      <td>685</td>\n      <td>194</td>\n      <td>11498</td>\n    </tr>\n    <tr>\n      <th>CT7</th>\n      <td>0</td>\n      <td>2</td>\n      <td>1</td>\n      <td>0</td>\n      <td>0</td>\n      <td>0</td>\n      <td>0</td>\n      <td>0</td>\n      <td>0</td>\n      <td>0</td>\n      <td>0</td>\n      <td>0</td>\n      <td>0</td>\n      <td>0</td>\n      <td>1</td>\n      <td>0</td>\n      <td>0</td>\n      <td>54</td>\n    </tr>\n    <tr>\n      <th>CT8</th>\n      <td>0</td>\n      <td>2</td>\n      <td>0</td>\n      <td>1</td>\n      <td>0</td>\n      <td>2</td>\n      <td>0</td>\n      <td>2</td>\n      <td>0</td>\n      <td>0</td>\n      <td>0</td>\n      <td>0</td>\n      <td>0</td>\n      <td>0</td>\n      <td>0</td>\n      <td>0</td>\n      <td>0</td>\n      <td>24</td>\n    </tr>\n    <tr>\n      <th>CT9</th>\n      <td>0</td>\n      <td>0</td>\n      <td>0</td>\n      <td>0</td>\n      <td>0</td>\n      <td>0</td>\n      <td>0</td>\n      <td>0</td>\n      <td>0</td>\n      <td>0</td>\n      <td>0</td>\n      <td>0</td>\n      <td>0</td>\n      <td>0</td>\n      <td>0</td>\n      <td>0</td>\n      <td>0</td>\n      <td>54</td>\n    </tr>\n  </tbody>\n</table>\n</div>"
     },
     "execution_count": 26,
     "metadata": {},
     "output_type": "execute_result"
    }
   ],
   "source": [
    "var1 = 'Crash causation'\n",
    "var2 = 'Crash type'\n",
    "df_crs = df_rec.loc[:, [var1, var2]].pivot_table(index=var2, columns=var1, aggfunc=len, fill_value=0)\n",
    "df_crs.drop(columns=['Others', 'Unknown'], index=['Unknown', 'Others'], inplace=True)\n",
    "df_crs.to_csv(os.path.join(data_path, 'causation_x_type.csv'))\n",
    "\n",
    "g, p, dof, expctd = stats.chi2_contingency(df_crs)\n",
    "print(g, p, dof)\n",
    "df_crs"
   ],
   "metadata": {
    "collapsed": false,
    "pycharm": {
     "name": "#%%\n"
    }
   }
  },
  {
   "cell_type": "markdown",
   "source": [
    "## 4 Statistics of different crash attributes: traffic participants\n",
    "This part of the results are summarised in docs/article_tables.xlsx.\n",
    "This part only focuses on the traffic participants who were driving a motor vehicle."
   ],
   "metadata": {
    "collapsed": false,
    "pycharm": {
     "name": "#%% md\n"
    }
   }
  },
  {
   "cell_type": "code",
   "execution_count": 27,
   "outputs": [
    {
     "name": "stdout",
     "output_type": "stream",
     "text": [
      "Number of drivers involved in the crashes: 309194\n"
     ]
    }
   ],
   "source": [
    "# Select motor-vehicle drivers\n",
    "df = df.loc[df['Travel method'] == 'Driving motor vehicle', :]\n",
    "\n",
    "print(f'Number of drivers involved in the crashes: {len(df)}')"
   ],
   "metadata": {
    "collapsed": false,
    "pycharm": {
     "name": "#%%\n"
    }
   }
  },
  {
   "cell_type": "code",
   "execution_count": 28,
   "outputs": [],
   "source": [
    "tbl_head = ['Total', 'Full', 'Full%', 'Major', 'Major%', 'Equal', 'Equal%',\n",
    "            'Minor', 'Minor%', 'No', 'No%', 'Unknown', 'Unknown%']\n",
    "\n",
    "def res(data):\n",
    "    mn_get = df_lvs.loc[df_lvs['var'] == 'Responsibility', ['en', 'abbr']]\n",
    "    mn_get = mn_get.loc[mn_get['en'] != 'Unable to determine', :]\n",
    "    data = pd.merge(data, mn_get,\n",
    "                    left_on='Responsibility', right_on='abbr', how='left')\n",
    "    num = data.groupby('Responsibility')['id'].size().reset_index()\n",
    "    r = dict()\n",
    "    r['Total'] = len(data) / len(df) * 100\n",
    "    for _, row in num.iterrows():\n",
    "        r[row['Responsibility']] = row['id']\n",
    "        r[row['Responsibility']+ '%'] = row['id'] / len(data) * 100\n",
    "    respon = pd.Series(r)\n",
    "    for vr in tbl_head:\n",
    "        if vr not in respon.index:\n",
    "            respon[vr] = 0\n",
    "    respon = respon[tbl_head]\n",
    "    return respon"
   ],
   "metadata": {
    "collapsed": false,
    "pycharm": {
     "name": "#%%\n"
    }
   }
  },
  {
   "cell_type": "markdown",
   "source": [
    "### 4.1 Gender of involved traffic participants\n",
    "Impact on: responsibility."
   ],
   "metadata": {
    "collapsed": false
   }
  },
  {
   "cell_type": "code",
   "execution_count": 29,
   "outputs": [
    {
     "name": "stdout",
     "output_type": "stream",
     "text": [
      "7887.720027685953 0.0 4\n"
     ]
    },
    {
     "data": {
      "text/plain": "             Total     Full      Full%   Major    Major%    Equal    Equal%  \\\nGender                                                                        \nFemale   20.920199  40982.0  63.357244  2668.0  4.124668   3422.0  5.290335   \nMale     69.123916  95891.0  44.866114  7451.0  3.486223  11743.0  5.494392   \nUnknown   9.955885   3371.0  10.950849   205.0  0.665952    233.0  0.756911   \n\n          Minor    Minor%       No        No%  Unknown   Unknown%  \nGender                                                             \nFemale    566.0  0.875023  16930.0  26.173397    116.0   0.179333  \nMale     5474.0  2.561211  92674.0  43.360923    494.0   0.231136  \nUnknown    26.0  0.084462    642.0   2.085567  26306.0  85.456258  ",
      "text/html": "<div>\n<style scoped>\n    .dataframe tbody tr th:only-of-type {\n        vertical-align: middle;\n    }\n\n    .dataframe tbody tr th {\n        vertical-align: top;\n    }\n\n    .dataframe thead th {\n        text-align: right;\n    }\n</style>\n<table border=\"1\" class=\"dataframe\">\n  <thead>\n    <tr style=\"text-align: right;\">\n      <th></th>\n      <th>Total</th>\n      <th>Full</th>\n      <th>Full%</th>\n      <th>Major</th>\n      <th>Major%</th>\n      <th>Equal</th>\n      <th>Equal%</th>\n      <th>Minor</th>\n      <th>Minor%</th>\n      <th>No</th>\n      <th>No%</th>\n      <th>Unknown</th>\n      <th>Unknown%</th>\n    </tr>\n    <tr>\n      <th>Gender</th>\n      <th></th>\n      <th></th>\n      <th></th>\n      <th></th>\n      <th></th>\n      <th></th>\n      <th></th>\n      <th></th>\n      <th></th>\n      <th></th>\n      <th></th>\n      <th></th>\n      <th></th>\n    </tr>\n  </thead>\n  <tbody>\n    <tr>\n      <th>Female</th>\n      <td>20.920199</td>\n      <td>40982.0</td>\n      <td>63.357244</td>\n      <td>2668.0</td>\n      <td>4.124668</td>\n      <td>3422.0</td>\n      <td>5.290335</td>\n      <td>566.0</td>\n      <td>0.875023</td>\n      <td>16930.0</td>\n      <td>26.173397</td>\n      <td>116.0</td>\n      <td>0.179333</td>\n    </tr>\n    <tr>\n      <th>Male</th>\n      <td>69.123916</td>\n      <td>95891.0</td>\n      <td>44.866114</td>\n      <td>7451.0</td>\n      <td>3.486223</td>\n      <td>11743.0</td>\n      <td>5.494392</td>\n      <td>5474.0</td>\n      <td>2.561211</td>\n      <td>92674.0</td>\n      <td>43.360923</td>\n      <td>494.0</td>\n      <td>0.231136</td>\n    </tr>\n    <tr>\n      <th>Unknown</th>\n      <td>9.955885</td>\n      <td>3371.0</td>\n      <td>10.950849</td>\n      <td>205.0</td>\n      <td>0.665952</td>\n      <td>233.0</td>\n      <td>0.756911</td>\n      <td>26.0</td>\n      <td>0.084462</td>\n      <td>642.0</td>\n      <td>2.085567</td>\n      <td>26306.0</td>\n      <td>85.456258</td>\n    </tr>\n  </tbody>\n</table>\n</div>"
     },
     "execution_count": 29,
     "metadata": {},
     "output_type": "execute_result"
    }
   ],
   "source": [
    "df2test = df.groupby('Gender').apply(res)\n",
    "df2test.drop(columns=['Total', 'Full%', 'Major%', 'Equal%', 'Minor%', 'No%', 'Unknown', 'Unknown%'],\n",
    "             index=['Unknown'], inplace=True)\n",
    "g, p, dof, _ = stats.chi2_contingency(df2test)\n",
    "print(g, p, dof)\n",
    "\n",
    "# Prepare data for the paper\n",
    "df.groupby('Gender').apply(res).to_clipboard()\n",
    "df.groupby('Gender').apply(res)"
   ],
   "metadata": {
    "collapsed": false,
    "pycharm": {
     "name": "#%%\n"
    }
   }
  },
  {
   "cell_type": "markdown",
   "source": [
    "### 4.2 Age of involved traffic participants\n",
    "Impact on: responsibility."
   ],
   "metadata": {
    "collapsed": false,
    "pycharm": {
     "name": "#%% md\n"
    }
   }
  },
  {
   "cell_type": "code",
   "execution_count": 30,
   "outputs": [
    {
     "name": "stdout",
     "output_type": "stream",
     "text": [
      "2506.114848547541 0.0 44\n"
     ]
    },
    {
     "data": {
      "text/plain": "              Total     Full      Full%   Major    Major%   Equal    Equal%  \\\nAge                                                                           \n(18, 25]  10.938763  17690.0  52.303235  1351.0  3.994441  1712.0  5.061794   \n(25, 30]  18.358700  29256.0  51.539708  2152.0  3.791135  3062.0  5.394264   \n(30, 35]  19.570561  30149.0  49.823999  2211.0  3.653881  3295.0  5.445291   \n(35, 40]  15.654896  23652.0  48.863730  1774.0  3.664986  2723.0  5.625568   \n(40, 45]  13.119595  19568.0  48.238629  1464.0  3.609023  2304.0  5.679773   \n(45, 50]   7.475242  11062.0  47.860511   803.0  3.474235  1319.0  5.706745   \n(50, 55]   2.986475   4448.0  48.169807   310.0  3.357158   517.0  5.598874   \n(55, 60]   1.044975   1400.0  43.330238   102.0  3.156917   204.0  6.313835   \n(60, 65]   0.342503    435.0  41.076487    45.0  4.249292    65.0  6.137866   \n(65, 70]   0.121930    138.0  36.604775    14.0  3.713528    20.0  5.305040   \n< 18       0.795617    237.0   9.634146    65.0  2.642276    63.0  2.560976   \n> 70       0.135837    137.0  32.619048    15.0  3.571429    14.0  3.333333   \nUnknown    9.454905   2072.0   7.087638    18.0  0.061572   100.0  0.342067   \n\n           Minor    Minor%       No        No%  Unknown   Unknown%  \nAge                                                                 \n(18, 25]   738.0  2.182012  12257.0  36.239726     74.0   0.218793  \n(25, 30]  1196.0  2.106969  20981.0  36.961807    117.0   0.206117  \n(30, 35]  1243.0  2.054172  23491.0  38.821041    122.0   0.201616  \n(35, 40]  1034.0  2.136187  19112.0  39.484340    109.0   0.225188  \n(40, 45]   916.0  2.258104  16231.0  40.012326     82.0   0.202145  \n(45, 50]   514.0  2.223857   9385.0  40.604854     30.0   0.129797  \n(50, 55]   228.0  2.469136   3706.0  40.134286     25.0   0.270739  \n(55, 60]    73.0  2.259362   1443.0  44.661096      9.0   0.278552  \n(60, 65]    25.0  2.360718    489.0  46.175637      0.0   0.000000  \n(65, 70]    12.0  3.183024    192.0  50.928382      1.0   0.265252  \n< 18        70.0  2.845528   1998.0  81.219512     27.0   1.097561  \n> 70         7.0  1.666667    246.0  58.571429      1.0   0.238095  \nUnknown     10.0  0.034207    715.0   2.445782  26319.0  90.028734  ",
      "text/html": "<div>\n<style scoped>\n    .dataframe tbody tr th:only-of-type {\n        vertical-align: middle;\n    }\n\n    .dataframe tbody tr th {\n        vertical-align: top;\n    }\n\n    .dataframe thead th {\n        text-align: right;\n    }\n</style>\n<table border=\"1\" class=\"dataframe\">\n  <thead>\n    <tr style=\"text-align: right;\">\n      <th></th>\n      <th>Total</th>\n      <th>Full</th>\n      <th>Full%</th>\n      <th>Major</th>\n      <th>Major%</th>\n      <th>Equal</th>\n      <th>Equal%</th>\n      <th>Minor</th>\n      <th>Minor%</th>\n      <th>No</th>\n      <th>No%</th>\n      <th>Unknown</th>\n      <th>Unknown%</th>\n    </tr>\n    <tr>\n      <th>Age</th>\n      <th></th>\n      <th></th>\n      <th></th>\n      <th></th>\n      <th></th>\n      <th></th>\n      <th></th>\n      <th></th>\n      <th></th>\n      <th></th>\n      <th></th>\n      <th></th>\n      <th></th>\n    </tr>\n  </thead>\n  <tbody>\n    <tr>\n      <th>(18, 25]</th>\n      <td>10.938763</td>\n      <td>17690.0</td>\n      <td>52.303235</td>\n      <td>1351.0</td>\n      <td>3.994441</td>\n      <td>1712.0</td>\n      <td>5.061794</td>\n      <td>738.0</td>\n      <td>2.182012</td>\n      <td>12257.0</td>\n      <td>36.239726</td>\n      <td>74.0</td>\n      <td>0.218793</td>\n    </tr>\n    <tr>\n      <th>(25, 30]</th>\n      <td>18.358700</td>\n      <td>29256.0</td>\n      <td>51.539708</td>\n      <td>2152.0</td>\n      <td>3.791135</td>\n      <td>3062.0</td>\n      <td>5.394264</td>\n      <td>1196.0</td>\n      <td>2.106969</td>\n      <td>20981.0</td>\n      <td>36.961807</td>\n      <td>117.0</td>\n      <td>0.206117</td>\n    </tr>\n    <tr>\n      <th>(30, 35]</th>\n      <td>19.570561</td>\n      <td>30149.0</td>\n      <td>49.823999</td>\n      <td>2211.0</td>\n      <td>3.653881</td>\n      <td>3295.0</td>\n      <td>5.445291</td>\n      <td>1243.0</td>\n      <td>2.054172</td>\n      <td>23491.0</td>\n      <td>38.821041</td>\n      <td>122.0</td>\n      <td>0.201616</td>\n    </tr>\n    <tr>\n      <th>(35, 40]</th>\n      <td>15.654896</td>\n      <td>23652.0</td>\n      <td>48.863730</td>\n      <td>1774.0</td>\n      <td>3.664986</td>\n      <td>2723.0</td>\n      <td>5.625568</td>\n      <td>1034.0</td>\n      <td>2.136187</td>\n      <td>19112.0</td>\n      <td>39.484340</td>\n      <td>109.0</td>\n      <td>0.225188</td>\n    </tr>\n    <tr>\n      <th>(40, 45]</th>\n      <td>13.119595</td>\n      <td>19568.0</td>\n      <td>48.238629</td>\n      <td>1464.0</td>\n      <td>3.609023</td>\n      <td>2304.0</td>\n      <td>5.679773</td>\n      <td>916.0</td>\n      <td>2.258104</td>\n      <td>16231.0</td>\n      <td>40.012326</td>\n      <td>82.0</td>\n      <td>0.202145</td>\n    </tr>\n    <tr>\n      <th>(45, 50]</th>\n      <td>7.475242</td>\n      <td>11062.0</td>\n      <td>47.860511</td>\n      <td>803.0</td>\n      <td>3.474235</td>\n      <td>1319.0</td>\n      <td>5.706745</td>\n      <td>514.0</td>\n      <td>2.223857</td>\n      <td>9385.0</td>\n      <td>40.604854</td>\n      <td>30.0</td>\n      <td>0.129797</td>\n    </tr>\n    <tr>\n      <th>(50, 55]</th>\n      <td>2.986475</td>\n      <td>4448.0</td>\n      <td>48.169807</td>\n      <td>310.0</td>\n      <td>3.357158</td>\n      <td>517.0</td>\n      <td>5.598874</td>\n      <td>228.0</td>\n      <td>2.469136</td>\n      <td>3706.0</td>\n      <td>40.134286</td>\n      <td>25.0</td>\n      <td>0.270739</td>\n    </tr>\n    <tr>\n      <th>(55, 60]</th>\n      <td>1.044975</td>\n      <td>1400.0</td>\n      <td>43.330238</td>\n      <td>102.0</td>\n      <td>3.156917</td>\n      <td>204.0</td>\n      <td>6.313835</td>\n      <td>73.0</td>\n      <td>2.259362</td>\n      <td>1443.0</td>\n      <td>44.661096</td>\n      <td>9.0</td>\n      <td>0.278552</td>\n    </tr>\n    <tr>\n      <th>(60, 65]</th>\n      <td>0.342503</td>\n      <td>435.0</td>\n      <td>41.076487</td>\n      <td>45.0</td>\n      <td>4.249292</td>\n      <td>65.0</td>\n      <td>6.137866</td>\n      <td>25.0</td>\n      <td>2.360718</td>\n      <td>489.0</td>\n      <td>46.175637</td>\n      <td>0.0</td>\n      <td>0.000000</td>\n    </tr>\n    <tr>\n      <th>(65, 70]</th>\n      <td>0.121930</td>\n      <td>138.0</td>\n      <td>36.604775</td>\n      <td>14.0</td>\n      <td>3.713528</td>\n      <td>20.0</td>\n      <td>5.305040</td>\n      <td>12.0</td>\n      <td>3.183024</td>\n      <td>192.0</td>\n      <td>50.928382</td>\n      <td>1.0</td>\n      <td>0.265252</td>\n    </tr>\n    <tr>\n      <th>&lt; 18</th>\n      <td>0.795617</td>\n      <td>237.0</td>\n      <td>9.634146</td>\n      <td>65.0</td>\n      <td>2.642276</td>\n      <td>63.0</td>\n      <td>2.560976</td>\n      <td>70.0</td>\n      <td>2.845528</td>\n      <td>1998.0</td>\n      <td>81.219512</td>\n      <td>27.0</td>\n      <td>1.097561</td>\n    </tr>\n    <tr>\n      <th>&gt; 70</th>\n      <td>0.135837</td>\n      <td>137.0</td>\n      <td>32.619048</td>\n      <td>15.0</td>\n      <td>3.571429</td>\n      <td>14.0</td>\n      <td>3.333333</td>\n      <td>7.0</td>\n      <td>1.666667</td>\n      <td>246.0</td>\n      <td>58.571429</td>\n      <td>1.0</td>\n      <td>0.238095</td>\n    </tr>\n    <tr>\n      <th>Unknown</th>\n      <td>9.454905</td>\n      <td>2072.0</td>\n      <td>7.087638</td>\n      <td>18.0</td>\n      <td>0.061572</td>\n      <td>100.0</td>\n      <td>0.342067</td>\n      <td>10.0</td>\n      <td>0.034207</td>\n      <td>715.0</td>\n      <td>2.445782</td>\n      <td>26319.0</td>\n      <td>90.028734</td>\n    </tr>\n  </tbody>\n</table>\n</div>"
     },
     "execution_count": 30,
     "metadata": {},
     "output_type": "execute_result"
    }
   ],
   "source": [
    "df2test = df.groupby('Age').apply(res)\n",
    "df2test.drop(columns=['Total', 'Full%', 'Major%', 'Equal%', 'Minor%', 'No%', 'Unknown', 'Unknown%'],\n",
    "             index=['Unknown'], inplace=True)\n",
    "g, p, dof, _ = stats.chi2_contingency(df2test)\n",
    "print(g, p, dof)\n",
    "\n",
    "df.groupby('Age').apply(res).to_clipboard()\n",
    "df.groupby('Age').apply(res)"
   ],
   "metadata": {
    "collapsed": false,
    "pycharm": {
     "name": "#%%\n"
    }
   }
  },
  {
   "cell_type": "markdown",
   "source": [
    "### 4.3 Education level of involved traffic participants\n",
    "Impact on: responsibility."
   ],
   "metadata": {
    "collapsed": false
   }
  },
  {
   "cell_type": "code",
   "execution_count": 31,
   "outputs": [
    {
     "data": {
      "text/plain": "                     Total      Full      Full%   Major    Major%    Equal  \\\nEducation level                                                              \nEL1               0.023610       4.0   5.479452     3.0  4.109589      2.0   \nEL2               0.149421     130.0  28.138528    38.0  8.225108     47.0   \nEL3               8.578756   12650.0  47.690858  1381.0  5.206409   1869.0   \nEL4               5.802829    8699.0  48.484004   917.0  5.110913   1045.0   \nEL5               0.385195     568.0  47.691016    70.0  5.877414     99.0   \nEL6               7.170256   11365.0  51.262968   574.0  2.589084    879.0   \nEL7               0.011320      17.0  48.571429     2.0  5.714286      4.0   \nUnknown          77.878613  106811.0  44.357464  7339.0  3.047808  11453.0   \n\n                    Equal%   Minor    Minor%       No        No%  Unknown  \\\nEducation level                                                             \nEL1               2.739726     2.0  2.739726     60.0  82.191781      2.0   \nEL2              10.173160    25.0  5.411255    215.0  46.536797      7.0   \nEL3               7.046183   911.0  3.434496   9551.0  36.007540    163.0   \nEL4               5.824323   578.0  3.221491   6623.0  36.913388     80.0   \nEL5               8.312343    47.0  3.946264    388.0  32.577666     19.0   \nEL6               3.964817   300.0  1.353180   9020.0  40.685611     32.0   \nEL7              11.428571     1.0  2.857143     10.0  28.571429      1.0   \nUnknown           4.756308  4202.0  1.745046  84379.0  35.041695  26612.0   \n\n                  Unknown%  \nEducation level             \nEL1               2.739726  \nEL2               1.515152  \nEL3               0.614515  \nEL4               0.445881  \nEL5               1.595298  \nEL6               0.144339  \nEL7               2.857143  \nUnknown          11.051679  ",
      "text/html": "<div>\n<style scoped>\n    .dataframe tbody tr th:only-of-type {\n        vertical-align: middle;\n    }\n\n    .dataframe tbody tr th {\n        vertical-align: top;\n    }\n\n    .dataframe thead th {\n        text-align: right;\n    }\n</style>\n<table border=\"1\" class=\"dataframe\">\n  <thead>\n    <tr style=\"text-align: right;\">\n      <th></th>\n      <th>Total</th>\n      <th>Full</th>\n      <th>Full%</th>\n      <th>Major</th>\n      <th>Major%</th>\n      <th>Equal</th>\n      <th>Equal%</th>\n      <th>Minor</th>\n      <th>Minor%</th>\n      <th>No</th>\n      <th>No%</th>\n      <th>Unknown</th>\n      <th>Unknown%</th>\n    </tr>\n    <tr>\n      <th>Education level</th>\n      <th></th>\n      <th></th>\n      <th></th>\n      <th></th>\n      <th></th>\n      <th></th>\n      <th></th>\n      <th></th>\n      <th></th>\n      <th></th>\n      <th></th>\n      <th></th>\n      <th></th>\n    </tr>\n  </thead>\n  <tbody>\n    <tr>\n      <th>EL1</th>\n      <td>0.023610</td>\n      <td>4.0</td>\n      <td>5.479452</td>\n      <td>3.0</td>\n      <td>4.109589</td>\n      <td>2.0</td>\n      <td>2.739726</td>\n      <td>2.0</td>\n      <td>2.739726</td>\n      <td>60.0</td>\n      <td>82.191781</td>\n      <td>2.0</td>\n      <td>2.739726</td>\n    </tr>\n    <tr>\n      <th>EL2</th>\n      <td>0.149421</td>\n      <td>130.0</td>\n      <td>28.138528</td>\n      <td>38.0</td>\n      <td>8.225108</td>\n      <td>47.0</td>\n      <td>10.173160</td>\n      <td>25.0</td>\n      <td>5.411255</td>\n      <td>215.0</td>\n      <td>46.536797</td>\n      <td>7.0</td>\n      <td>1.515152</td>\n    </tr>\n    <tr>\n      <th>EL3</th>\n      <td>8.578756</td>\n      <td>12650.0</td>\n      <td>47.690858</td>\n      <td>1381.0</td>\n      <td>5.206409</td>\n      <td>1869.0</td>\n      <td>7.046183</td>\n      <td>911.0</td>\n      <td>3.434496</td>\n      <td>9551.0</td>\n      <td>36.007540</td>\n      <td>163.0</td>\n      <td>0.614515</td>\n    </tr>\n    <tr>\n      <th>EL4</th>\n      <td>5.802829</td>\n      <td>8699.0</td>\n      <td>48.484004</td>\n      <td>917.0</td>\n      <td>5.110913</td>\n      <td>1045.0</td>\n      <td>5.824323</td>\n      <td>578.0</td>\n      <td>3.221491</td>\n      <td>6623.0</td>\n      <td>36.913388</td>\n      <td>80.0</td>\n      <td>0.445881</td>\n    </tr>\n    <tr>\n      <th>EL5</th>\n      <td>0.385195</td>\n      <td>568.0</td>\n      <td>47.691016</td>\n      <td>70.0</td>\n      <td>5.877414</td>\n      <td>99.0</td>\n      <td>8.312343</td>\n      <td>47.0</td>\n      <td>3.946264</td>\n      <td>388.0</td>\n      <td>32.577666</td>\n      <td>19.0</td>\n      <td>1.595298</td>\n    </tr>\n    <tr>\n      <th>EL6</th>\n      <td>7.170256</td>\n      <td>11365.0</td>\n      <td>51.262968</td>\n      <td>574.0</td>\n      <td>2.589084</td>\n      <td>879.0</td>\n      <td>3.964817</td>\n      <td>300.0</td>\n      <td>1.353180</td>\n      <td>9020.0</td>\n      <td>40.685611</td>\n      <td>32.0</td>\n      <td>0.144339</td>\n    </tr>\n    <tr>\n      <th>EL7</th>\n      <td>0.011320</td>\n      <td>17.0</td>\n      <td>48.571429</td>\n      <td>2.0</td>\n      <td>5.714286</td>\n      <td>4.0</td>\n      <td>11.428571</td>\n      <td>1.0</td>\n      <td>2.857143</td>\n      <td>10.0</td>\n      <td>28.571429</td>\n      <td>1.0</td>\n      <td>2.857143</td>\n    </tr>\n    <tr>\n      <th>Unknown</th>\n      <td>77.878613</td>\n      <td>106811.0</td>\n      <td>44.357464</td>\n      <td>7339.0</td>\n      <td>3.047808</td>\n      <td>11453.0</td>\n      <td>4.756308</td>\n      <td>4202.0</td>\n      <td>1.745046</td>\n      <td>84379.0</td>\n      <td>35.041695</td>\n      <td>26612.0</td>\n      <td>11.051679</td>\n    </tr>\n  </tbody>\n</table>\n</div>"
     },
     "execution_count": 31,
     "metadata": {},
     "output_type": "execute_result"
    }
   ],
   "source": [
    "df.groupby('Education level').apply(res).to_clipboard()\n",
    "df.groupby('Education level').apply(res)"
   ],
   "metadata": {
    "collapsed": false,
    "pycharm": {
     "name": "#%%\n"
    }
   }
  },
  {
   "cell_type": "markdown",
   "source": [
    "### 4.4 Vehicle type of involved traffic participants\n",
    "Impact on: responsibility."
   ],
   "metadata": {
    "collapsed": false
   }
  },
  {
   "cell_type": "code",
   "execution_count": 32,
   "outputs": [
    {
     "name": "stdout",
     "output_type": "stream",
     "text": [
      "23879.549125132315 0.0 30\n"
     ]
    },
    {
     "data": {
      "text/plain": "                       Total     Full      Full%   Major    Major%   Equal  \\\nVehicle type                                                                 \nBus                34.718009  58575.0  54.566542  4193.0  3.906061  5747.0   \nCar                48.961493  63143.0  41.709934  4789.0  3.163437  7530.0   \nMotorcycle          1.605788    790.0  15.911380   397.0  7.995972   457.0   \nNon-motor vehicle   0.008409      8.0  30.769231     2.0  7.692308     1.0   \nOthers              4.508496   1693.0  12.144907    89.0  0.638451   146.0   \nTruck              10.197805  16035.0  50.854714   854.0  2.708446  1517.0   \n\n                     Equal%   Minor     Minor%       No        No%  Unknown  \\\nVehicle type                                                                  \nBus                5.353716  1747.0   1.627448  32889.0  30.638310   4195.0   \nCar                4.974040  3023.0   1.996882  56186.0  37.114396  16715.0   \nMotorcycle         9.204431   600.0  12.084592   1918.0  38.630413    803.0   \nNon-motor vehicle  3.846154     5.0  19.230769     10.0  38.461538      0.0   \nOthers             1.047346    89.0   0.638451  10570.0  75.824964   1353.0   \nTruck              4.811138   602.0   1.909232   8673.0  27.506264   3850.0   \n\n                    Unknown%  \nVehicle type                  \nBus                 3.907924  \nCar                11.041312  \nMotorcycle         16.173212  \nNon-motor vehicle   0.000000  \nOthers              9.705882  \nTruck              12.210206  ",
      "text/html": "<div>\n<style scoped>\n    .dataframe tbody tr th:only-of-type {\n        vertical-align: middle;\n    }\n\n    .dataframe tbody tr th {\n        vertical-align: top;\n    }\n\n    .dataframe thead th {\n        text-align: right;\n    }\n</style>\n<table border=\"1\" class=\"dataframe\">\n  <thead>\n    <tr style=\"text-align: right;\">\n      <th></th>\n      <th>Total</th>\n      <th>Full</th>\n      <th>Full%</th>\n      <th>Major</th>\n      <th>Major%</th>\n      <th>Equal</th>\n      <th>Equal%</th>\n      <th>Minor</th>\n      <th>Minor%</th>\n      <th>No</th>\n      <th>No%</th>\n      <th>Unknown</th>\n      <th>Unknown%</th>\n    </tr>\n    <tr>\n      <th>Vehicle type</th>\n      <th></th>\n      <th></th>\n      <th></th>\n      <th></th>\n      <th></th>\n      <th></th>\n      <th></th>\n      <th></th>\n      <th></th>\n      <th></th>\n      <th></th>\n      <th></th>\n      <th></th>\n    </tr>\n  </thead>\n  <tbody>\n    <tr>\n      <th>Bus</th>\n      <td>34.718009</td>\n      <td>58575.0</td>\n      <td>54.566542</td>\n      <td>4193.0</td>\n      <td>3.906061</td>\n      <td>5747.0</td>\n      <td>5.353716</td>\n      <td>1747.0</td>\n      <td>1.627448</td>\n      <td>32889.0</td>\n      <td>30.638310</td>\n      <td>4195.0</td>\n      <td>3.907924</td>\n    </tr>\n    <tr>\n      <th>Car</th>\n      <td>48.961493</td>\n      <td>63143.0</td>\n      <td>41.709934</td>\n      <td>4789.0</td>\n      <td>3.163437</td>\n      <td>7530.0</td>\n      <td>4.974040</td>\n      <td>3023.0</td>\n      <td>1.996882</td>\n      <td>56186.0</td>\n      <td>37.114396</td>\n      <td>16715.0</td>\n      <td>11.041312</td>\n    </tr>\n    <tr>\n      <th>Motorcycle</th>\n      <td>1.605788</td>\n      <td>790.0</td>\n      <td>15.911380</td>\n      <td>397.0</td>\n      <td>7.995972</td>\n      <td>457.0</td>\n      <td>9.204431</td>\n      <td>600.0</td>\n      <td>12.084592</td>\n      <td>1918.0</td>\n      <td>38.630413</td>\n      <td>803.0</td>\n      <td>16.173212</td>\n    </tr>\n    <tr>\n      <th>Non-motor vehicle</th>\n      <td>0.008409</td>\n      <td>8.0</td>\n      <td>30.769231</td>\n      <td>2.0</td>\n      <td>7.692308</td>\n      <td>1.0</td>\n      <td>3.846154</td>\n      <td>5.0</td>\n      <td>19.230769</td>\n      <td>10.0</td>\n      <td>38.461538</td>\n      <td>0.0</td>\n      <td>0.000000</td>\n    </tr>\n    <tr>\n      <th>Others</th>\n      <td>4.508496</td>\n      <td>1693.0</td>\n      <td>12.144907</td>\n      <td>89.0</td>\n      <td>0.638451</td>\n      <td>146.0</td>\n      <td>1.047346</td>\n      <td>89.0</td>\n      <td>0.638451</td>\n      <td>10570.0</td>\n      <td>75.824964</td>\n      <td>1353.0</td>\n      <td>9.705882</td>\n    </tr>\n    <tr>\n      <th>Truck</th>\n      <td>10.197805</td>\n      <td>16035.0</td>\n      <td>50.854714</td>\n      <td>854.0</td>\n      <td>2.708446</td>\n      <td>1517.0</td>\n      <td>4.811138</td>\n      <td>602.0</td>\n      <td>1.909232</td>\n      <td>8673.0</td>\n      <td>27.506264</td>\n      <td>3850.0</td>\n      <td>12.210206</td>\n    </tr>\n  </tbody>\n</table>\n</div>"
     },
     "execution_count": 32,
     "metadata": {},
     "output_type": "execute_result"
    }
   ],
   "source": [
    "df2test = df.groupby('Vehicle type').apply(res)\n",
    "df2test.drop(columns=['Total', 'Full%', 'Major%', 'Equal%', 'Minor%', 'No%'], inplace=True)\n",
    "g, p, dof, _ = stats.chi2_contingency(df2test)\n",
    "print(g, p, dof)\n",
    "\n",
    "df.groupby('Vehicle type').apply(res).to_clipboard()\n",
    "df.groupby('Vehicle type').apply(res)"
   ],
   "metadata": {
    "collapsed": false,
    "pycharm": {
     "name": "#%%\n"
    }
   }
  },
  {
   "cell_type": "markdown",
   "source": [
    "## 5 Prepare data for Bayesian network modelling\n",
    "1 Focus on motor-vehicle drivers and their crashes like data used in the section 4 of this notebook.\n",
    "\n",
    "2 Drop Education level because of too many missing values.\n",
    "\n",
    "3 Merge injuries and deaths for the ease of interpretation.\n",
    "\n",
    "4 Keep the crash records with clear information, i.e., no unknown and others fields."
   ],
   "metadata": {
    "collapsed": false,
    "pycharm": {
     "name": "#%% md\n"
    }
   }
  },
  {
   "cell_type": "code",
   "execution_count": 33,
   "outputs": [],
   "source": [
    "# Drop Education level\n",
    "df2bn = df.drop(columns=['Education level'])"
   ],
   "metadata": {
    "collapsed": false,
    "pycharm": {
     "name": "#%%\n"
    }
   }
  },
  {
   "cell_type": "code",
   "execution_count": 34,
   "outputs": [],
   "source": [
    "# Merge injuries and deaths\n",
    "var = 'Injuries and deaths'\n",
    "df2bn.loc[:, var] = df2bn['Injuries'] + df2bn['Deaths']"
   ],
   "metadata": {
    "collapsed": false,
    "pycharm": {
     "name": "#%%\n"
    }
   }
  },
  {
   "cell_type": "code",
   "execution_count": 35,
   "outputs": [
    {
     "data": {
      "text/plain": "   Injuries and deaths   count  cum_count      cum_p          p\n0                    0  208446     208446  67.415927  67.415927\n1                    1   13390     221836  71.746541   4.330614\n2                    2   67195     289031  93.478851  21.732310\n3                    3    1262     290293  93.887009   0.408158\n4                    4   13521     303814  98.259992   4.372983\n5                    5     294     304108  98.355078   0.095086\n6                    6    3358     307466  99.441128   1.086050\n7                    7     101     307567  99.473793   0.032666\n8                    8     840     308407  99.745467   0.271674\n9                    9      54     308461  99.762932   0.017465",
      "text/html": "<div>\n<style scoped>\n    .dataframe tbody tr th:only-of-type {\n        vertical-align: middle;\n    }\n\n    .dataframe tbody tr th {\n        vertical-align: top;\n    }\n\n    .dataframe thead th {\n        text-align: right;\n    }\n</style>\n<table border=\"1\" class=\"dataframe\">\n  <thead>\n    <tr style=\"text-align: right;\">\n      <th></th>\n      <th>Injuries and deaths</th>\n      <th>count</th>\n      <th>cum_count</th>\n      <th>cum_p</th>\n      <th>p</th>\n    </tr>\n  </thead>\n  <tbody>\n    <tr>\n      <th>0</th>\n      <td>0</td>\n      <td>208446</td>\n      <td>208446</td>\n      <td>67.415927</td>\n      <td>67.415927</td>\n    </tr>\n    <tr>\n      <th>1</th>\n      <td>1</td>\n      <td>13390</td>\n      <td>221836</td>\n      <td>71.746541</td>\n      <td>4.330614</td>\n    </tr>\n    <tr>\n      <th>2</th>\n      <td>2</td>\n      <td>67195</td>\n      <td>289031</td>\n      <td>93.478851</td>\n      <td>21.732310</td>\n    </tr>\n    <tr>\n      <th>3</th>\n      <td>3</td>\n      <td>1262</td>\n      <td>290293</td>\n      <td>93.887009</td>\n      <td>0.408158</td>\n    </tr>\n    <tr>\n      <th>4</th>\n      <td>4</td>\n      <td>13521</td>\n      <td>303814</td>\n      <td>98.259992</td>\n      <td>4.372983</td>\n    </tr>\n    <tr>\n      <th>5</th>\n      <td>5</td>\n      <td>294</td>\n      <td>304108</td>\n      <td>98.355078</td>\n      <td>0.095086</td>\n    </tr>\n    <tr>\n      <th>6</th>\n      <td>6</td>\n      <td>3358</td>\n      <td>307466</td>\n      <td>99.441128</td>\n      <td>1.086050</td>\n    </tr>\n    <tr>\n      <th>7</th>\n      <td>7</td>\n      <td>101</td>\n      <td>307567</td>\n      <td>99.473793</td>\n      <td>0.032666</td>\n    </tr>\n    <tr>\n      <th>8</th>\n      <td>8</td>\n      <td>840</td>\n      <td>308407</td>\n      <td>99.745467</td>\n      <td>0.271674</td>\n    </tr>\n    <tr>\n      <th>9</th>\n      <td>9</td>\n      <td>54</td>\n      <td>308461</td>\n      <td>99.762932</td>\n      <td>0.017465</td>\n    </tr>\n  </tbody>\n</table>\n</div>"
     },
     "execution_count": 35,
     "metadata": {},
     "output_type": "execute_result"
    }
   ],
   "source": [
    "# Check the distribution\n",
    "df2bn_injdeaths = df2bn.groupby(var).size()\n",
    "df2bn_injdeaths.name = 'count'\n",
    "df2bn_injdeaths = df2bn_injdeaths.reset_index()\n",
    "df2bn_injdeaths.loc[:, 'cum_count'] = df2bn_injdeaths['count'].cumsum()\n",
    "df2bn_injdeaths.loc[:, 'cum_p'] = df2bn_injdeaths['count'].cumsum() / df2bn_injdeaths['count'].sum() * 100\n",
    "df2bn_injdeaths.loc[:, 'p'] = df2bn_injdeaths['count'] / df2bn_injdeaths['count'].sum() * 100\n",
    "df2bn_injdeaths.head(10)"
   ],
   "metadata": {
    "collapsed": false,
    "pycharm": {
     "name": "#%%\n"
    }
   }
  },
  {
   "cell_type": "code",
   "execution_count": 36,
   "outputs": [],
   "source": [
    "df2bn.loc[:, var] = pd.cut(df2bn[var], bins=[-1, 0, 4, 9, 1000])\n",
    "cat_dict = {'(-1, 0]': '= 0', '(9, 1000]': '> 9'}\n",
    "df2bn.loc[:, var] = df2bn.loc[:, var].apply(lambda x: cat_dict[str(x)] if str(x) in cat_dict else str(x))\n",
    "df2bn.loc[:, var].cat.add_categories(\"Unknown\", inplace=True)\n",
    "df2bn.loc[:, var].fillna(\"Unknown\", inplace=True)"
   ],
   "metadata": {
    "collapsed": false,
    "pycharm": {
     "name": "#%%\n"
    }
   }
  },
  {
   "cell_type": "code",
   "execution_count": 37,
   "outputs": [],
   "source": [
    "# Keep the crash records with complete information\n",
    "df2bn.replace(to_replace = ['Unknown', 'Others'], value = np.nan, inplace = True)\n",
    "df2bn.dropna(inplace=True)"
   ],
   "metadata": {
    "collapsed": false,
    "pycharm": {
     "name": "#%%\n"
    }
   }
  },
  {
   "cell_type": "markdown",
   "source": [
    "### 5.1 Check crash type, driver responsibility -> injuries and deaths"
   ],
   "metadata": {
    "collapsed": false,
    "pycharm": {
     "name": "#%% md\n"
    }
   }
  },
  {
   "cell_type": "code",
   "execution_count": 38,
   "outputs": [
    {
     "data": {
      "text/plain": "id                                         1\nCrash type                               CT3\nWeather                                Sunny\nCrash causation                          CC8\nRoad type                                RT6\nGender                                  Male\nAge                                 (45, 50]\nResponsibility                            No\nVehicle type                             Bus\nTravel method          Driving motor vehicle\nInjuries (bin)                           = 0\nDeaths (bin)                             = 0\nDay of week                              Wed\nTime of day                                0\nInjuries                                   0\nDeaths                                     0\nLand-use cluster                        LUC2\nInjuries and deaths                      = 0\nName: 0, dtype: object"
     },
     "execution_count": 38,
     "metadata": {},
     "output_type": "execute_result"
    }
   ],
   "source": [
    "df2bn.iloc[0]"
   ],
   "metadata": {
    "collapsed": false,
    "pycharm": {
     "name": "#%%\n"
    }
   }
  },
  {
   "cell_type": "code",
   "execution_count": 47,
   "outputs": [
    {
     "data": {
      "text/plain": "Crash type\nCT1     0.006541\nCT10    0.000000\nCT11    0.000000\nCT12    0.027855\nCT13    0.000000\nCT2     0.000000\nCT3     0.015167\nCT4     0.027614\nCT5     0.017471\nCT6     0.005439\nCT7     0.000000\nCT8     0.000000\nCT9     0.000000\ndtype: float64"
     },
     "execution_count": 47,
     "metadata": {},
     "output_type": "execute_result"
    }
   ],
   "source": [
    "var1 = 'Crash type'\n",
    "var2 = 'Injuries and deaths'\n",
    "df_crs = df2bn.loc[:, [var1, var2]].pivot_table(index=var2, columns=var1, aggfunc=len, fill_value=0)\n",
    "df_crs = df_crs / df_crs.sum(axis=0)\n",
    "df_crs.loc[['(4, 9]', '> 9'], :].sum()"
   ],
   "metadata": {
    "collapsed": false,
    "pycharm": {
     "name": "#%%\n"
    }
   }
  },
  {
   "cell_type": "code",
   "execution_count": 46,
   "outputs": [
    {
     "data": {
      "text/plain": "Responsibility\nEqual    0.014849\nFull     0.009962\nMajor    0.032601\nMinor    0.037358\nNo       0.017301\ndtype: float64"
     },
     "execution_count": 46,
     "metadata": {},
     "output_type": "execute_result"
    }
   ],
   "source": [
    "var1 = 'Responsibility'\n",
    "var2 = 'Injuries and deaths'\n",
    "df_crs = df2bn.loc[:, [var1, var2]].pivot_table(index=var2, columns=var1, aggfunc=len, fill_value=0)\n",
    "df_crs = df_crs / df_crs.sum(axis=0)\n",
    "df_crs.loc[['(4, 9]', '> 9'], :].sum()"
   ],
   "metadata": {
    "collapsed": false,
    "pycharm": {
     "name": "#%%\n"
    }
   }
  },
  {
   "cell_type": "code",
   "execution_count": 72,
   "outputs": [
    {
     "name": "stdout",
     "output_type": "stream",
     "text": [
      "Number of crashes/drivers to construct the Bayesian network: 235901\n"
     ]
    }
   ],
   "source": [
    "# Save it\n",
    "print(f'Number of crashes/drivers to construct the Bayesian network: {len(df2bn)}')\n",
    "df2bn.to_csv(os.path.join(data_path, 'data_s4.csv'), index=False)"
   ],
   "metadata": {
    "collapsed": false,
    "pycharm": {
     "name": "#%%\n"
    }
   }
  }
 ],
 "metadata": {
  "kernelspec": {
   "display_name": "Python 3",
   "language": "python",
   "name": "python3"
  },
  "language_info": {
   "codemirror_mode": {
    "name": "ipython",
    "version": 2
   },
   "file_extension": ".py",
   "mimetype": "text/x-python",
   "name": "python",
   "nbconvert_exporter": "python",
   "pygments_lexer": "ipython2",
   "version": "2.7.6"
  }
 },
 "nbformat": 4,
 "nbformat_minor": 0
}