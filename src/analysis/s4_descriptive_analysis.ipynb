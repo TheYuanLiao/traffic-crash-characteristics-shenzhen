{
 "cells": [
  {
   "cell_type": "markdown",
   "source": [
    "# Descriptive analysis"
   ],
   "metadata": {
    "collapsed": false
   }
  },
  {
   "cell_type": "code",
   "execution_count": 1,
   "outputs": [],
   "source": [
    "%load_ext autoreload\n",
    "%autoreload 2"
   ],
   "metadata": {
    "collapsed": false,
    "pycharm": {
     "name": "#%%\n"
    }
   }
  },
  {
   "cell_type": "code",
   "execution_count": 29,
   "outputs": [],
   "source": [
    "import pandas as pd\n",
    "import scipy.stats as stats\n",
    "import os\n",
    "from pathlib import Path\n",
    "import json\n",
    "import numpy as np\n",
    "\n",
    "figure_path = os.path.join(Path(os.getcwd()).parent.parent, 'figures/')\n",
    "data_path = os.path.join(Path(os.getcwd()).parent.parent, 'data/')\n",
    "with open(os.path.join(data_path, 'value_mapping.txt'), encoding='utf-8') as json_file:\n",
    "    value_dict = json.load(json_file)"
   ],
   "metadata": {
    "collapsed": false,
    "pycharm": {
     "name": "#%%\n"
    }
   }
  },
  {
   "cell_type": "code",
   "execution_count": 3,
   "outputs": [],
   "source": [
    "# Load data\n",
    "df = pd.read_csv(os.path.join(data_path, 'data_s3.csv'), low_memory=False)"
   ],
   "metadata": {
    "collapsed": false,
    "pycharm": {
     "name": "#%%\n"
    }
   }
  },
  {
   "cell_type": "markdown",
   "source": [
    "## 1 Data summary: variables and levels\n",
    "### 1.1 Summarize variables and its levels"
   ],
   "metadata": {
    "collapsed": false,
    "pycharm": {
     "name": "#%% md\n"
    }
   }
  },
  {
   "cell_type": "code",
   "execution_count": 4,
   "outputs": [],
   "source": [
    "# Rename columns\n",
    "var_mapping = {'weekday': 'Day of week',\n",
    "               'hour': 'Time of day',\n",
    "               'weather': 'Weather',\n",
    "               'cluster': 'Land-use cluster',\n",
    "               'type': 'Crash type',\n",
    "               'reason': 'Crash causation',\n",
    "               'road_type': 'Road type',\n",
    "               'veh_type': 'Vehicle type',\n",
    "               'injs': 'Injuries (bin)',\n",
    "               'deaths': 'Deaths (bin)',\n",
    "               'injs_num': 'Injuries',\n",
    "               'deaths_num': 'Deaths',\n",
    "               'age': 'Age',\n",
    "               'edu': 'Education level',\n",
    "               'gender': 'Gender',\n",
    "               'respon': 'Responsibility',\n",
    "               'travel_mode': 'Travel method'}\n",
    "\n",
    "df = df.rename(columns={k: v for k, v in var_mapping.items()})"
   ],
   "metadata": {
    "collapsed": false,
    "pycharm": {
     "name": "#%%\n"
    }
   }
  },
  {
   "cell_type": "code",
   "execution_count": 5,
   "outputs": [
    {
     "data": {
      "text/plain": "id                         1\nCrash type                11\nWeather                    1\nCrash causation         1094\nRoad type                 21\nGender                     1\nAge                 (45, 50]\nEducation level      Unknown\nResponsibility             0\nVehicle type               2\nTravel method              3\nInjuries (bin)           = 0\nDeaths (bin)             = 0\nDay of week                3\nTime of day                0\nInjuries                   0\nDeaths                     0\nLand-use cluster           2\nName: 0, dtype: object"
     },
     "execution_count": 5,
     "metadata": {},
     "output_type": "execute_result"
    }
   ],
   "source": [
    "# Extract levels\n",
    "col_list = list(df.columns)\n",
    "col_list.remove('id')\n",
    "level_df_list = []\n",
    "for var in col_list:\n",
    "    level_df_list.append(pd.DataFrame([(var, x) for x in df[var].unique()], columns=['var', 'level']))\n",
    "df_level = pd.concat(level_df_list)\n",
    "df_level.to_clipboard(index=False)\n",
    "df.iloc[0]"
   ],
   "metadata": {
    "collapsed": false,
    "pycharm": {
     "name": "#%%\n"
    }
   }
  },
  {
   "cell_type": "markdown",
   "source": [
    "### 1.2 Manually define the translate of levels for each variable\n",
    "The file is stored in bn_var_level_translate.xlsx.\n"
   ],
   "metadata": {
    "collapsed": false,
    "pycharm": {
     "name": "#%% md\n"
    }
   }
  },
  {
   "cell_type": "code",
   "execution_count": 6,
   "outputs": [],
   "source": [
    "## Prepare table for write-up\n",
    "df_var_list = []\n",
    "df_lvs = pd.read_excel(os.path.join(Path(os.getcwd()).parent.parent, 'docs/var_level_translate.xlsx'))\n",
    "\n",
    "for var, frame in df_lvs.groupby('var'):\n",
    "    ld = '; '.join([' '.join([str(row['level_index']) + ')', str(row['en'])]) for _, row in frame.sort_values(by='level_index').iterrows()])\n",
    "    df_var_list.append(pd.DataFrame([(var, str(len(frame)), ld)], columns=('Variable', 'Level number', 'Level description')))\n",
    "df_var_tb = pd.concat(df_var_list)\n",
    "df_var_tb.to_clipboard(index=False)"
   ],
   "metadata": {
    "collapsed": false,
    "pycharm": {
     "name": "#%%\n"
    }
   }
  },
  {
   "cell_type": "markdown",
   "source": [
    "## 2 Replace numerical levels with English abbreviations for easy description"
   ],
   "metadata": {
    "collapsed": false,
    "pycharm": {
     "name": "#%% md\n"
    }
   }
  },
  {
   "cell_type": "code",
   "execution_count": 7,
   "outputs": [],
   "source": [
    "df_lvs = df_lvs.astype(str)"
   ],
   "metadata": {
    "collapsed": false,
    "pycharm": {
     "name": "#%%\n"
    }
   }
  },
  {
   "cell_type": "code",
   "execution_count": 8,
   "outputs": [],
   "source": [
    "for var in df.columns:\n",
    "    if var not in ['id', 'Injuries', 'Deaths']:\n",
    "        df.loc[:, var] = df.loc[:, var].astype(str)\n",
    "        lvs_dict = {row['level']: row['abbr'] for _, row in df_lvs.loc[df_lvs['var'] == var, :].iterrows()}\n",
    "        df.loc[:, var] = df.loc[:, var].apply(lambda x: lvs_dict[x])"
   ],
   "metadata": {
    "collapsed": false,
    "pycharm": {
     "name": "#%%\n"
    }
   }
  },
  {
   "cell_type": "code",
   "execution_count": 9,
   "outputs": [
    {
     "name": "stdout",
     "output_type": "stream",
     "text": [
      "id [     1      2      3 ... 237253 237254 237255] \n",
      "\n",
      "Crash type ['CT3' 'CT1' 'CT6' 'Others' 'CT5' 'Unknown' 'CT7' 'CT4' 'CT12' 'CT2'\n",
      " 'CT11' 'CT10' 'CT9' 'CT8' 'CT13'] \n",
      "\n",
      "Weather ['Sunny' 'Cloudy' 'Light rain' 'Unknown' 'Heavy rain' 'Haze or fog'] \n",
      "\n",
      "Crash causation ['CC8' 'CC2' 'CC9' 'CC10' 'Others' 'Unknown' 'CC7' 'CC14' 'CC5' 'CC13'\n",
      " 'CC18' 'CC17' 'CC3' 'CC6' 'CC16' 'CC15' 'CC12' 'CC4' 'CC11' 'CC1'] \n",
      "\n",
      "Road type ['RT6' 'RT2' 'RT11' 'RT1' 'RT7' 'Unknown' 'RT10' 'RT8' 'RT3' 'RT9' 'RT5'\n",
      " 'RT4'] \n",
      "\n",
      "Gender ['Male' 'Female' 'Unknown'] \n",
      "\n",
      "Age ['(45, 50]' '(60, 65]' '(25, 30]' '(18, 25]' '(30, 35]' '(35, 40]'\n",
      " '(50, 55]' '(40, 45]' 'Unknown' '(55, 60]' '< 18' '> 70' '(65, 70]'] \n",
      "\n",
      "Education level ['Unknown' 'EL3' 'EL4' 'EL6' 'EL2' 'EL5' 'EL1' 'EL7'] \n",
      "\n",
      "Responsibility ['No' 'Full' 'Equal' 'Major' 'Minor' 'Unknown'] \n",
      "\n",
      "Vehicle type ['Bus' 'Motorcycle' 'Truck' 'Others' 'Car' 'Unknown' 'Non-motor vehicle'] \n",
      "\n",
      "Travel method ['Driving motor vehicle' 'Driving non-motor vehicle' 'Walking' 'Unknown'\n",
      " 'Others'] \n",
      "\n",
      "Injuries (bin) ['= 0' '(0, 4]' '(4, 9]' '> 9'] \n",
      "\n",
      "Deaths (bin) ['= 0' '(0, 4]' '(4, 9]'] \n",
      "\n",
      "Day of week ['Wed' 'Thu' 'Fri' 'Sat' 'Sun' 'Mon' 'Tue'] \n",
      "\n",
      "Time of day ['0' '1' '2' '3' '4' '5' '6' '7' '8' '9' '10' '11' '12' '13' '14' '15'\n",
      " '16' '17' '18' '19' '20' '21' '22' '23'] \n",
      "\n",
      "Injuries [ 0  2  4  1  8  6 10  3  5  7 12 98 20 18 14 16  9 13 48 11 28 52 22 32] \n",
      "\n",
      "Deaths [0 1 2 6 3 8] \n",
      "\n",
      "Land-use cluster ['LUC2' 'LUC5' 'LUC3' 'LUC6' 'LUC4' 'LUC1' 'Unknown'] \n",
      "\n"
     ]
    }
   ],
   "source": [
    "for var in df.columns:\n",
    "    print(var, df[var].unique(), '\\n')"
   ],
   "metadata": {
    "collapsed": false,
    "pycharm": {
     "name": "#%%\n"
    }
   }
  },
  {
   "cell_type": "code",
   "execution_count": 10,
   "outputs": [],
   "source": [
    "# Remove duplicated records to look at the crash attributes\n",
    "df_rec = df.drop_duplicates(subset=['id'])\n"
   ],
   "metadata": {
    "collapsed": false,
    "pycharm": {
     "name": "#%%\n"
    }
   }
  },
  {
   "cell_type": "markdown",
   "source": [
    "## 3 Statistics of different crash attributes\n",
    "This part of the results are summarised in docs/article_tables.xlsx."
   ],
   "metadata": {
    "collapsed": false,
    "pycharm": {
     "name": "#%% md\n"
    }
   }
  },
  {
   "cell_type": "code",
   "execution_count": 11,
   "outputs": [
    {
     "name": "stdout",
     "output_type": "stream",
     "text": [
      "Total number of crashes: 237255\n",
      "Total number of the involved traffic participants: 436412\n"
     ]
    }
   ],
   "source": [
    "print(f'Total number of crashes: {len(df_rec)}')\n",
    "print(f'Total number of the involved traffic participants: {len(df)}')"
   ],
   "metadata": {
    "collapsed": false,
    "pycharm": {
     "name": "#%%\n"
    }
   }
  },
  {
   "cell_type": "code",
   "execution_count": 12,
   "outputs": [],
   "source": [
    "def basic(data):\n",
    "    data = pd.merge(data, df_lvs.loc[df_lvs['var'] == var, ['en', 'abbr']],\n",
    "                    left_on=var, right_on='abbr')\n",
    "    num = len(data)\n",
    "    injs = data['Injuries'].sum()\n",
    "    deaths = data['Deaths'].sum()\n",
    "    return pd.Series({'Var en': data.iloc[0]['en'],\n",
    "                      'Crash number': num, 'Crash %': num / len(df_rec) * 100,\n",
    "                      'Deaths number': deaths, 'Deaths %': deaths / df_rec['Deaths'].sum() * 100,\n",
    "                      'Injuries number': injs, 'Injuries %': injs / df_rec['Injuries'].sum() * 100\n",
    "                      })"
   ],
   "metadata": {
    "collapsed": false,
    "pycharm": {
     "name": "#%%\n"
    }
   }
  },
  {
   "cell_type": "markdown",
   "source": [
    "### 3.1 Travel method (Travel method)\n",
    "Impact on: number of crashes, deaths, injuries."
   ],
   "metadata": {
    "collapsed": false,
    "pycharm": {
     "name": "#%% md\n"
    }
   }
  },
  {
   "cell_type": "code",
   "execution_count": 13,
   "outputs": [],
   "source": [
    "var = 'Travel method'\n",
    "df_rec.groupby(var).apply(basic).to_clipboard()"
   ],
   "metadata": {
    "collapsed": false,
    "pycharm": {
     "name": "#%%\n"
    }
   }
  },
  {
   "cell_type": "markdown",
   "source": [
    "### 3.2 Road type (Road type)\n",
    "Impact on: number of crashes, deaths, injuries."
   ],
   "metadata": {
    "collapsed": false,
    "pycharm": {
     "name": "#%% md\n"
    }
   }
  },
  {
   "cell_type": "code",
   "execution_count": 14,
   "outputs": [],
   "source": [
    "var = 'Road type'\n",
    "df_rec.groupby(var).apply(basic).to_clipboard()\n"
   ],
   "metadata": {
    "collapsed": false,
    "pycharm": {
     "name": "#%%\n"
    }
   }
  },
  {
   "cell_type": "markdown",
   "source": [
    "### 3.3 Crash type (Crash type)\n",
    "Impact on: number of crashes, deaths, injuries."
   ],
   "metadata": {
    "collapsed": false
   }
  },
  {
   "cell_type": "code",
   "execution_count": 15,
   "outputs": [],
   "source": [
    "var = 'Crash type'\n",
    "df_rec.groupby(var).apply(basic).to_clipboard()\n"
   ],
   "metadata": {
    "collapsed": false,
    "pycharm": {
     "name": "#%%\n"
    }
   }
  },
  {
   "cell_type": "markdown",
   "source": [
    "### 3.4 Weather (Weather)\n",
    "Impact on: number of crashes, deaths, injuries."
   ],
   "metadata": {
    "collapsed": false
   }
  },
  {
   "cell_type": "code",
   "execution_count": 16,
   "outputs": [],
   "source": [
    "var = 'Weather'\n",
    "df_rec.groupby(var).apply(basic).to_clipboard()"
   ],
   "metadata": {
    "collapsed": false,
    "pycharm": {
     "name": "#%%\n"
    }
   }
  },
  {
   "cell_type": "markdown",
   "source": [
    "#### 3.4.1 Compare with the overall weather\n",
    "Look at the weather records downloaded from OpenWeather."
   ],
   "metadata": {
    "collapsed": false,
    "pycharm": {
     "name": "#%% md\n"
    }
   }
  },
  {
   "cell_type": "code",
   "execution_count": 17,
   "outputs": [
    {
     "data": {
      "text/plain": "weather_main\nClear            3100\nClouds          16244\nHaze                5\nMist               22\nRain             6936\nThunderstorm        5\ndtype: int64"
     },
     "execution_count": 17,
     "metadata": {},
     "output_type": "execute_result"
    }
   ],
   "source": [
    "df_weather = pd.read_csv(os.path.join(data_path, 'weather_shenzhen_2014-2016.csv'),\n",
    "                         usecols=['dt_iso', 'weather_main'])\n",
    "df_weather.dt_iso = df_weather.dt_iso.apply(lambda x: x.split(' ')[0])\n",
    "df_weather.groupby('weather_main').size()"
   ],
   "metadata": {
    "collapsed": false,
    "pycharm": {
     "name": "#%%\n"
    }
   }
  },
  {
   "cell_type": "markdown",
   "source": [
    "### 3.5 Crash causation (Crash causation)\n",
    "Impact on: number of crashes, deaths, injuries."
   ],
   "metadata": {
    "collapsed": false,
    "pycharm": {
     "name": "#%% md\n"
    }
   }
  },
  {
   "cell_type": "code",
   "execution_count": 18,
   "outputs": [],
   "source": [
    "var = 'Crash causation'\n",
    "df_rec.groupby(var).apply(basic).to_clipboard()"
   ],
   "metadata": {
    "collapsed": false,
    "pycharm": {
     "name": "#%%\n"
    }
   }
  },
  {
   "cell_type": "markdown",
   "source": [
    "### 3.6 Impact of month of year, day of week, and time of day\n",
    "Impact on: number of crashes.\n",
    "\n",
    "Run scr/plot_crash_by_time.R will get the plots."
   ],
   "metadata": {
    "collapsed": false
   }
  },
  {
   "cell_type": "markdown",
   "source": [
    "### 3.7 Land-use cluster\n",
    "Impact on: number of crashes."
   ],
   "metadata": {
    "collapsed": false
   }
  },
  {
   "cell_type": "code",
   "execution_count": 19,
   "outputs": [],
   "source": [
    "var = 'Land-use cluster'\n",
    "df_rec.groupby(var).apply(basic).to_clipboard()"
   ],
   "metadata": {
    "collapsed": false,
    "pycharm": {
     "name": "#%%\n"
    }
   }
  },
  {
   "cell_type": "markdown",
   "source": [
    "### 3.8 Crash type x road type\n",
    "Impact on: number of crashes. How distribution of crash type differs between different road types."
   ],
   "metadata": {
    "collapsed": false
   }
  },
  {
   "cell_type": "code",
   "execution_count": 32,
   "outputs": [
    {
     "name": "stdout",
     "output_type": "stream",
     "text": [
      "19558.717114622104 0.0 120\n"
     ]
    },
    {
     "data": {
      "text/plain": "Crash type   CT1  CT10  CT11  CT12  CT13  CT2    CT3   CT4    CT5    CT6  CT7  \\\nRoad type                                                                       \nRT1         5559     2    12   222    92  476  32438    90     42     59   35   \nRT10         135     7     1    10     0    6   1222    11     11    103    0   \nRT11        2271    75    70    93    11   49  20285   330    386   2287    8   \nRT2          564    13    12    21     3   10   7901    39     94    280    2   \nRT3           25     0     0     0     0    1    185     2      1      1    0   \nRT4           15     0     1     2     0    0    174    11      2     32    0   \nRT5            0     0     0     1     0    0      6     0      0      0    0   \nRT6         1198     4    12    36    20   59   9869   101    676    268    3   \nRT7         8255   211   352   276   165  234  85171  1493  16314  12833   19   \nRT8           45     3     8     4     1    3    426    22    108    191    0   \nRT9           13     0     2     0     0    2     38     4     16     22    0   \n\nCrash type  CT8  CT9  \nRoad type             \nRT1           2   19  \nRT10          0    0  \nRT11          9    1  \nRT2           0    1  \nRT3           0    0  \nRT4           0    0  \nRT5           0    0  \nRT6           2    2  \nRT7          19   31  \nRT8           0    1  \nRT9           0    0  ",
      "text/html": "<div>\n<style scoped>\n    .dataframe tbody tr th:only-of-type {\n        vertical-align: middle;\n    }\n\n    .dataframe tbody tr th {\n        vertical-align: top;\n    }\n\n    .dataframe thead th {\n        text-align: right;\n    }\n</style>\n<table border=\"1\" class=\"dataframe\">\n  <thead>\n    <tr style=\"text-align: right;\">\n      <th>Crash type</th>\n      <th>CT1</th>\n      <th>CT10</th>\n      <th>CT11</th>\n      <th>CT12</th>\n      <th>CT13</th>\n      <th>CT2</th>\n      <th>CT3</th>\n      <th>CT4</th>\n      <th>CT5</th>\n      <th>CT6</th>\n      <th>CT7</th>\n      <th>CT8</th>\n      <th>CT9</th>\n    </tr>\n    <tr>\n      <th>Road type</th>\n      <th></th>\n      <th></th>\n      <th></th>\n      <th></th>\n      <th></th>\n      <th></th>\n      <th></th>\n      <th></th>\n      <th></th>\n      <th></th>\n      <th></th>\n      <th></th>\n      <th></th>\n    </tr>\n  </thead>\n  <tbody>\n    <tr>\n      <th>RT1</th>\n      <td>5559</td>\n      <td>2</td>\n      <td>12</td>\n      <td>222</td>\n      <td>92</td>\n      <td>476</td>\n      <td>32438</td>\n      <td>90</td>\n      <td>42</td>\n      <td>59</td>\n      <td>35</td>\n      <td>2</td>\n      <td>19</td>\n    </tr>\n    <tr>\n      <th>RT10</th>\n      <td>135</td>\n      <td>7</td>\n      <td>1</td>\n      <td>10</td>\n      <td>0</td>\n      <td>6</td>\n      <td>1222</td>\n      <td>11</td>\n      <td>11</td>\n      <td>103</td>\n      <td>0</td>\n      <td>0</td>\n      <td>0</td>\n    </tr>\n    <tr>\n      <th>RT11</th>\n      <td>2271</td>\n      <td>75</td>\n      <td>70</td>\n      <td>93</td>\n      <td>11</td>\n      <td>49</td>\n      <td>20285</td>\n      <td>330</td>\n      <td>386</td>\n      <td>2287</td>\n      <td>8</td>\n      <td>9</td>\n      <td>1</td>\n    </tr>\n    <tr>\n      <th>RT2</th>\n      <td>564</td>\n      <td>13</td>\n      <td>12</td>\n      <td>21</td>\n      <td>3</td>\n      <td>10</td>\n      <td>7901</td>\n      <td>39</td>\n      <td>94</td>\n      <td>280</td>\n      <td>2</td>\n      <td>0</td>\n      <td>1</td>\n    </tr>\n    <tr>\n      <th>RT3</th>\n      <td>25</td>\n      <td>0</td>\n      <td>0</td>\n      <td>0</td>\n      <td>0</td>\n      <td>1</td>\n      <td>185</td>\n      <td>2</td>\n      <td>1</td>\n      <td>1</td>\n      <td>0</td>\n      <td>0</td>\n      <td>0</td>\n    </tr>\n    <tr>\n      <th>RT4</th>\n      <td>15</td>\n      <td>0</td>\n      <td>1</td>\n      <td>2</td>\n      <td>0</td>\n      <td>0</td>\n      <td>174</td>\n      <td>11</td>\n      <td>2</td>\n      <td>32</td>\n      <td>0</td>\n      <td>0</td>\n      <td>0</td>\n    </tr>\n    <tr>\n      <th>RT5</th>\n      <td>0</td>\n      <td>0</td>\n      <td>0</td>\n      <td>1</td>\n      <td>0</td>\n      <td>0</td>\n      <td>6</td>\n      <td>0</td>\n      <td>0</td>\n      <td>0</td>\n      <td>0</td>\n      <td>0</td>\n      <td>0</td>\n    </tr>\n    <tr>\n      <th>RT6</th>\n      <td>1198</td>\n      <td>4</td>\n      <td>12</td>\n      <td>36</td>\n      <td>20</td>\n      <td>59</td>\n      <td>9869</td>\n      <td>101</td>\n      <td>676</td>\n      <td>268</td>\n      <td>3</td>\n      <td>2</td>\n      <td>2</td>\n    </tr>\n    <tr>\n      <th>RT7</th>\n      <td>8255</td>\n      <td>211</td>\n      <td>352</td>\n      <td>276</td>\n      <td>165</td>\n      <td>234</td>\n      <td>85171</td>\n      <td>1493</td>\n      <td>16314</td>\n      <td>12833</td>\n      <td>19</td>\n      <td>19</td>\n      <td>31</td>\n    </tr>\n    <tr>\n      <th>RT8</th>\n      <td>45</td>\n      <td>3</td>\n      <td>8</td>\n      <td>4</td>\n      <td>1</td>\n      <td>3</td>\n      <td>426</td>\n      <td>22</td>\n      <td>108</td>\n      <td>191</td>\n      <td>0</td>\n      <td>0</td>\n      <td>1</td>\n    </tr>\n    <tr>\n      <th>RT9</th>\n      <td>13</td>\n      <td>0</td>\n      <td>2</td>\n      <td>0</td>\n      <td>0</td>\n      <td>2</td>\n      <td>38</td>\n      <td>4</td>\n      <td>16</td>\n      <td>22</td>\n      <td>0</td>\n      <td>0</td>\n      <td>0</td>\n    </tr>\n  </tbody>\n</table>\n</div>"
     },
     "execution_count": 32,
     "metadata": {},
     "output_type": "execute_result"
    }
   ],
   "source": [
    "var1 = 'Crash type'\n",
    "var2 = 'Road type'\n",
    "df_crs = df_rec.loc[:, [var1, var2]].pivot_table(index=var2, columns=var1, aggfunc=len, fill_value=0)\n",
    "df_crs.drop(columns=['Others', 'Unknown'], index=['Unknown'], inplace=True)\n",
    "df_crs.to_csv(os.path.join(data_path, 'crash_x_road.csv'))\n",
    "\n",
    "g, p, dof, expctd = stats.chi2_contingency(df_crs)\n",
    "print(g, p, dof)\n",
    "df_crs"
   ],
   "metadata": {
    "collapsed": false,
    "pycharm": {
     "name": "#%%\n"
    }
   }
  },
  {
   "cell_type": "markdown",
   "source": [
    "## 4 Statistics of different crash attributes: traffic participants\n",
    "This part of the results are summarised in docs/article_tables.xlsx.\n",
    "This part only focuses on the traffic participants who were driving a motor vehicle."
   ],
   "metadata": {
    "collapsed": false,
    "pycharm": {
     "name": "#%% md\n"
    }
   }
  },
  {
   "cell_type": "code",
   "execution_count": 10,
   "outputs": [
    {
     "name": "stdout",
     "output_type": "stream",
     "text": [
      "Number of drivers involved in the crashes: 309194\n"
     ]
    }
   ],
   "source": [
    "# Select motor-vehicle drivers\n",
    "df = df.loc[df['Travel method'] == 'Driving motor vehicle', :]\n",
    "\n",
    "print(f'Number of drivers involved in the crashes: {len(df)}')"
   ],
   "metadata": {
    "collapsed": false,
    "pycharm": {
     "name": "#%%\n"
    }
   }
  },
  {
   "cell_type": "code",
   "execution_count": 11,
   "outputs": [],
   "source": [
    "tbl_head = ['Total', 'Full', 'Full%', 'Major', 'Major%', 'Equal', 'Equal%',\n",
    "            'Minor', 'Minor%', 'No', 'No%', 'Unknown', 'Unknown%']\n",
    "\n",
    "def res(data):\n",
    "    mn_get = df_lvs.loc[df_lvs['var'] == 'Responsibility', ['en', 'abbr']]\n",
    "    mn_get = mn_get.loc[mn_get['en'] != 'Unable to determine', :]\n",
    "    data = pd.merge(data, mn_get,\n",
    "                    left_on='Responsibility', right_on='abbr', how='left')\n",
    "    num = data.groupby('Responsibility')['id'].size().reset_index()\n",
    "    r = dict()\n",
    "    r['Total'] = len(data) / len(df) * 100\n",
    "    for _, row in num.iterrows():\n",
    "        r[row['Responsibility']] = row['id']\n",
    "        r[row['Responsibility']+ '%'] = row['id'] / len(data) * 100\n",
    "    respon = pd.Series(r)\n",
    "    for vr in tbl_head:\n",
    "        if vr not in respon.index:\n",
    "            respon[vr] = 0\n",
    "    respon = respon[tbl_head]\n",
    "    return respon"
   ],
   "metadata": {
    "collapsed": false,
    "pycharm": {
     "name": "#%%\n"
    }
   }
  },
  {
   "cell_type": "markdown",
   "source": [
    "### 4.1 Gender of involved traffic participants\n",
    "Impact on: responsibility."
   ],
   "metadata": {
    "collapsed": false
   }
  },
  {
   "cell_type": "code",
   "execution_count": 54,
   "outputs": [],
   "source": [
    "df.groupby('Gender').apply(res).to_clipboard()"
   ],
   "metadata": {
    "collapsed": false,
    "pycharm": {
     "name": "#%%\n"
    }
   }
  },
  {
   "cell_type": "markdown",
   "source": [
    "### 4.2 Age of involved traffic participants\n",
    "Impact on: responsibility."
   ],
   "metadata": {
    "collapsed": false,
    "pycharm": {
     "name": "#%% md\n"
    }
   }
  },
  {
   "cell_type": "code",
   "execution_count": 58,
   "outputs": [],
   "source": [
    "df.groupby('Age').apply(res).to_clipboard()"
   ],
   "metadata": {
    "collapsed": false,
    "pycharm": {
     "name": "#%%\n"
    }
   }
  },
  {
   "cell_type": "markdown",
   "source": [
    "### 4.3 Education level of involved traffic participants\n",
    "Impact on: responsibility."
   ],
   "metadata": {
    "collapsed": false
   }
  },
  {
   "cell_type": "code",
   "execution_count": 59,
   "outputs": [],
   "source": [
    "df.groupby('Education level').apply(res).to_clipboard()"
   ],
   "metadata": {
    "collapsed": false,
    "pycharm": {
     "name": "#%%\n"
    }
   }
  },
  {
   "cell_type": "markdown",
   "source": [
    "### 4.4 Vehicle type of involved traffic participants\n",
    "Impact on: responsibility."
   ],
   "metadata": {
    "collapsed": false
   }
  },
  {
   "cell_type": "code",
   "execution_count": 12,
   "outputs": [],
   "source": [
    "df.groupby('Vehicle type').apply(res).to_clipboard()"
   ],
   "metadata": {
    "collapsed": false,
    "pycharm": {
     "name": "#%%\n"
    }
   }
  },
  {
   "cell_type": "markdown",
   "source": [
    "## 5 Prepare data for Bayesian network modelling\n",
    "1 Focus on motor-vehicle drivers and their crashes like data used in the section 4 of this notebook.\n",
    "\n",
    "2 Drop Education level because of too many missing values.\n",
    "\n",
    "3 Merge injuries and deaths for the ease of interpretation.\n",
    "\n",
    "4 Keep the crash records with clear information, i.e., no unknown and others fields."
   ],
   "metadata": {
    "collapsed": false,
    "pycharm": {
     "name": "#%% md\n"
    }
   }
  },
  {
   "cell_type": "code",
   "execution_count": 69,
   "outputs": [],
   "source": [
    "# Drop Education level\n",
    "df2bn = df.drop(columns=['Education level'])"
   ],
   "metadata": {
    "collapsed": false,
    "pycharm": {
     "name": "#%%\n"
    }
   }
  },
  {
   "cell_type": "code",
   "execution_count": 70,
   "outputs": [],
   "source": [
    "# Merge injuries and deaths\n",
    "var = 'Injuries and deaths'\n",
    "df2bn.loc[:, var] = df2bn['Injuries'] + df2bn['Deaths']\n",
    "df2bn.loc[:, var] = pd.cut(df2bn[var], bins=[-1, 0, 4, 9, 1000])\n",
    "cat_dict = {'(-1, 0]': '= 0', '(9, 1000]': '> 9'}\n",
    "df2bn.loc[:, var] = df2bn.loc[:, var].apply(lambda x: cat_dict[str(x)] if str(x) in cat_dict else str(x))\n",
    "df2bn.loc[:, var].cat.add_categories(\"Unknown\", inplace=True)\n",
    "df2bn.loc[:, var].fillna(\"Unknown\", inplace=True)"
   ],
   "metadata": {
    "collapsed": false,
    "pycharm": {
     "name": "#%%\n"
    }
   }
  },
  {
   "cell_type": "code",
   "execution_count": 71,
   "outputs": [],
   "source": [
    "# Keep the crash records with complete information\n",
    "df2bn.replace(to_replace = ['Unknown', 'Others'], value = np.nan, inplace = True)\n",
    "df2bn.dropna(inplace=True)"
   ],
   "metadata": {
    "collapsed": false,
    "pycharm": {
     "name": "#%%\n"
    }
   }
  },
  {
   "cell_type": "code",
   "execution_count": 72,
   "outputs": [
    {
     "name": "stdout",
     "output_type": "stream",
     "text": [
      "Number of crashes/drivers to construct the Bayesian network: 235901\n"
     ]
    }
   ],
   "source": [
    "# Save it\n",
    "print(f'Number of crashes/drivers to construct the Bayesian network: {len(df2bn)}')\n",
    "df2bn.to_csv(os.path.join(data_path, 'data_s4.csv'), index=False)"
   ],
   "metadata": {
    "collapsed": false,
    "pycharm": {
     "name": "#%%\n"
    }
   }
  }
 ],
 "metadata": {
  "kernelspec": {
   "display_name": "Python 3",
   "language": "python",
   "name": "python3"
  },
  "language_info": {
   "codemirror_mode": {
    "name": "ipython",
    "version": 2
   },
   "file_extension": ".py",
   "mimetype": "text/x-python",
   "name": "python",
   "nbconvert_exporter": "python",
   "pygments_lexer": "ipython2",
   "version": "2.7.6"
  }
 },
 "nbformat": 4,
 "nbformat_minor": 0
}