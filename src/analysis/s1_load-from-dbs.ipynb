{
 "cells": [
  {
   "cell_type": "markdown",
   "metadata": {
    "collapsed": true,
    "pycharm": {
     "name": "#%% md\n"
    }
   },
   "source": [
    "# Load data from databases\n",
    "This notebook uses the below two prepared databases converted from the raw records.\n",
    "The output is a flat and de-normalised table.\n",
    "\n",
    "1 data/accidents_shenzhen.sqlite\n",
    "\n",
    "2 data/accidents_shenzhen_GIS.sqlite (accidents location by querying Google API)"
   ]
  },
  {
   "cell_type": "code",
   "execution_count": 1,
   "outputs": [],
   "source": [
    "%load_ext autoreload\n",
    "%autoreload 2"
   ],
   "metadata": {
    "collapsed": false,
    "pycharm": {
     "name": "#%%\n"
    }
   }
  },
  {
   "cell_type": "code",
   "execution_count": 2,
   "outputs": [],
   "source": [
    "import sqlite3\n",
    "import pandas as pd\n",
    "import numpy as np\n",
    "import os\n",
    "from pathlib import Path\n",
    "import json\n",
    "\n",
    "data_path = os.path.join(Path(os.getcwd()).parent.parent, 'data/')\n",
    "with open(os.path.join(data_path, 'value_mapping.txt'), encoding='utf-8') as json_file:\n",
    "    value_dict = json.load(json_file)"
   ],
   "metadata": {
    "collapsed": false,
    "pycharm": {
     "name": "#%%\n"
    }
   }
  },
  {
   "cell_type": "markdown",
   "source": [
    "## 1 Load data from database for merging and preprocessing"
   ],
   "metadata": {
    "collapsed": false,
    "pycharm": {
     "name": "#%% md\n"
    }
   }
  },
  {
   "cell_type": "code",
   "execution_count": 3,
   "outputs": [],
   "source": [
    "db = \"accidents_shenzhen.sqlite\"\n",
    "db_loc = \"accidents_shenzhen_GIS.sqlite\""
   ],
   "metadata": {
    "collapsed": false,
    "pycharm": {
     "name": "#%%\n"
    }
   }
  },
  {
   "cell_type": "markdown",
   "source": [
    "### 1.1 Accident records"
   ],
   "metadata": {
    "collapsed": false,
    "pycharm": {
     "name": "#%% md\n"
    }
   }
  },
  {
   "cell_type": "code",
   "execution_count": 4,
   "outputs": [
    {
     "name": "stderr",
     "output_type": "stream",
     "text": [
      "C:\\ProgramData\\Anaconda3\\lib\\site-packages\\ipykernel_launcher.py:9: FutureWarning: The pandas.np module is deprecated and will be removed from pandas in a future version. Import numpy directly instead\n",
      "  if __name__ == '__main__':\n"
     ]
    },
    {
     "data": {
      "text/plain": "   id           acc_id                 time  type  weather  reason\n0   1  440398201400141  2014-01-01 00:00:00    11        1    1094\n1   2  440309201400034  2014-01-01 00:00:00    11        1    1043\n2   3  440310201400029  2014-01-01 00:10:00    11        1    1225\n3   4  440391201400001  2014-01-01 00:27:00    11        1    1225\n4   5  440391201400051  2014-01-01 00:30:00    35        1    1225",
      "text/html": "<div>\n<style scoped>\n    .dataframe tbody tr th:only-of-type {\n        vertical-align: middle;\n    }\n\n    .dataframe tbody tr th {\n        vertical-align: top;\n    }\n\n    .dataframe thead th {\n        text-align: right;\n    }\n</style>\n<table border=\"1\" class=\"dataframe\">\n  <thead>\n    <tr style=\"text-align: right;\">\n      <th></th>\n      <th>id</th>\n      <th>acc_id</th>\n      <th>time</th>\n      <th>type</th>\n      <th>weather</th>\n      <th>reason</th>\n    </tr>\n  </thead>\n  <tbody>\n    <tr>\n      <th>0</th>\n      <td>1</td>\n      <td>440398201400141</td>\n      <td>2014-01-01 00:00:00</td>\n      <td>11</td>\n      <td>1</td>\n      <td>1094</td>\n    </tr>\n    <tr>\n      <th>1</th>\n      <td>2</td>\n      <td>440309201400034</td>\n      <td>2014-01-01 00:00:00</td>\n      <td>11</td>\n      <td>1</td>\n      <td>1043</td>\n    </tr>\n    <tr>\n      <th>2</th>\n      <td>3</td>\n      <td>440310201400029</td>\n      <td>2014-01-01 00:10:00</td>\n      <td>11</td>\n      <td>1</td>\n      <td>1225</td>\n    </tr>\n    <tr>\n      <th>3</th>\n      <td>4</td>\n      <td>440391201400001</td>\n      <td>2014-01-01 00:27:00</td>\n      <td>11</td>\n      <td>1</td>\n      <td>1225</td>\n    </tr>\n    <tr>\n      <th>4</th>\n      <td>5</td>\n      <td>440391201400051</td>\n      <td>2014-01-01 00:30:00</td>\n      <td>35</td>\n      <td>1</td>\n      <td>1225</td>\n    </tr>\n  </tbody>\n</table>\n</div>"
     },
     "execution_count": 4,
     "metadata": {},
     "output_type": "execute_result"
    }
   ],
   "source": [
    "## Load accident records\n",
    "conn = sqlite3.connect(os.path.join(data_path, db))\n",
    "query = 'SELECT id, acc_id, time, type, weather, reason FROM records'\n",
    "df_rec = pd.read_sql_query(query, conn)\n",
    "\n",
    "# Convert acc_id\n",
    "df_rec.acc_id = df_rec.acc_id.apply(lambda x: int.from_bytes(x, byteorder='little'))\n",
    "## Preprocess df_rec\n",
    "df_rec.fillna(value=pd.np.nan, inplace=True)\n",
    "value_dict_rev = {v: k for k, v in value_dict['acc_type'].items()}\n",
    "value_dict_rev[\"滚翻\"] = \"32\"\n",
    "df_rec.loc[:, 'type'] = df_rec.loc[:, 'type'].apply(lambda x: value_dict_rev[x] if x in value_dict_rev else x)\n",
    "convert_dict = {'id': pd.Int64Dtype(), 'type': pd.Int64Dtype(), 'reason': pd.Int64Dtype()}\n",
    "df_rec.loc[:, 'weather'] = df_rec.loc[:, 'weather'].apply(lambda x: int.from_bytes(x, byteorder='little'))\n",
    "df_rec.loc[:, 'type'] = df_rec.loc[:, 'type'].apply(lambda x: float(x))\n",
    "df_rec.loc[:, 'reason'] = df_rec.loc[:, 'reason'].apply(lambda x: float(x))\n",
    "df_rec = df_rec.astype(convert_dict)\n",
    "df_rec.head()"
   ],
   "metadata": {
    "collapsed": false,
    "pycharm": {
     "name": "#%%\n"
    }
   }
  },
  {
   "cell_type": "markdown",
   "source": [
    "### 1.2 Accident locations"
   ],
   "metadata": {
    "collapsed": false
   }
  },
  {
   "cell_type": "code",
   "execution_count": 5,
   "outputs": [
    {
     "data": {
      "text/plain": "   rec_id        lat        long\n0       1  22.593109  114.016152\n1       2  22.782450  113.839231\n2       3  22.746765  113.884162\n3       4  22.626389  113.856753\n4       5  22.689902  113.892722",
      "text/html": "<div>\n<style scoped>\n    .dataframe tbody tr th:only-of-type {\n        vertical-align: middle;\n    }\n\n    .dataframe tbody tr th {\n        vertical-align: top;\n    }\n\n    .dataframe thead th {\n        text-align: right;\n    }\n</style>\n<table border=\"1\" class=\"dataframe\">\n  <thead>\n    <tr style=\"text-align: right;\">\n      <th></th>\n      <th>rec_id</th>\n      <th>lat</th>\n      <th>long</th>\n    </tr>\n  </thead>\n  <tbody>\n    <tr>\n      <th>0</th>\n      <td>1</td>\n      <td>22.593109</td>\n      <td>114.016152</td>\n    </tr>\n    <tr>\n      <th>1</th>\n      <td>2</td>\n      <td>22.782450</td>\n      <td>113.839231</td>\n    </tr>\n    <tr>\n      <th>2</th>\n      <td>3</td>\n      <td>22.746765</td>\n      <td>113.884162</td>\n    </tr>\n    <tr>\n      <th>3</th>\n      <td>4</td>\n      <td>22.626389</td>\n      <td>113.856753</td>\n    </tr>\n    <tr>\n      <th>4</th>\n      <td>5</td>\n      <td>22.689902</td>\n      <td>113.892722</td>\n    </tr>\n  </tbody>\n</table>\n</div>"
     },
     "execution_count": 5,
     "metadata": {},
     "output_type": "execute_result"
    }
   ],
   "source": [
    "## Load accident locations\n",
    "conn = sqlite3.connect(os.path.join(data_path, db_loc))\n",
    "query = 'SELECT rec_id, lat, long FROM gis'\n",
    "df_loc= pd.read_sql_query(query, conn)\n",
    "convert_dict = {'rec_id': int, 'lat': float, 'long': float}\n",
    "df_loc = df_loc.astype(convert_dict)\n",
    "df_loc.loc[:, 'lat'] = df_loc.loc[:, 'lat'].apply(lambda x: np.nan if x == 999 else x)\n",
    "df_loc.loc[:, 'long'] = df_loc.loc[:, 'long'].apply(lambda x: np.nan if x == 999 else x)\n",
    "df_loc.head()"
   ],
   "metadata": {
    "collapsed": false,
    "pycharm": {
     "name": "#%%\n"
    }
   }
  },
  {
   "cell_type": "markdown",
   "source": [
    "### 1.3 Accident severity"
   ],
   "metadata": {
    "collapsed": false,
    "pycharm": {
     "name": "#%% md\n"
    }
   }
  },
  {
   "cell_type": "code",
   "execution_count": 6,
   "outputs": [
    {
     "data": {
      "text/plain": "   rec_id  death  death_s  miss  inj_b  inj_l  inj  loss\n0       1      0        0     0      0      0    0   500\n1       2      0        0     0      0      0    0  3000\n2       3      0        0     0      0      1    1  1000\n3       4      0        0     0      0      0    0  1200\n4       5      0        0     0      0      0    0  1200",
      "text/html": "<div>\n<style scoped>\n    .dataframe tbody tr th:only-of-type {\n        vertical-align: middle;\n    }\n\n    .dataframe tbody tr th {\n        vertical-align: top;\n    }\n\n    .dataframe thead th {\n        text-align: right;\n    }\n</style>\n<table border=\"1\" class=\"dataframe\">\n  <thead>\n    <tr style=\"text-align: right;\">\n      <th></th>\n      <th>rec_id</th>\n      <th>death</th>\n      <th>death_s</th>\n      <th>miss</th>\n      <th>inj_b</th>\n      <th>inj_l</th>\n      <th>inj</th>\n      <th>loss</th>\n    </tr>\n  </thead>\n  <tbody>\n    <tr>\n      <th>0</th>\n      <td>1</td>\n      <td>0</td>\n      <td>0</td>\n      <td>0</td>\n      <td>0</td>\n      <td>0</td>\n      <td>0</td>\n      <td>500</td>\n    </tr>\n    <tr>\n      <th>1</th>\n      <td>2</td>\n      <td>0</td>\n      <td>0</td>\n      <td>0</td>\n      <td>0</td>\n      <td>0</td>\n      <td>0</td>\n      <td>3000</td>\n    </tr>\n    <tr>\n      <th>2</th>\n      <td>3</td>\n      <td>0</td>\n      <td>0</td>\n      <td>0</td>\n      <td>0</td>\n      <td>1</td>\n      <td>1</td>\n      <td>1000</td>\n    </tr>\n    <tr>\n      <th>3</th>\n      <td>4</td>\n      <td>0</td>\n      <td>0</td>\n      <td>0</td>\n      <td>0</td>\n      <td>0</td>\n      <td>0</td>\n      <td>1200</td>\n    </tr>\n    <tr>\n      <th>4</th>\n      <td>5</td>\n      <td>0</td>\n      <td>0</td>\n      <td>0</td>\n      <td>0</td>\n      <td>0</td>\n      <td>0</td>\n      <td>1200</td>\n    </tr>\n  </tbody>\n</table>\n</div>"
     },
     "execution_count": 6,
     "metadata": {},
     "output_type": "execute_result"
    }
   ],
   "source": [
    "## Load accident severity\n",
    "conn = sqlite3.connect(os.path.join(data_path, db))\n",
    "query = 'SELECT rec_id, death, death_s, miss, inj_b, inj_l, inj, loss FROM severity'\n",
    "df_sev = pd.read_sql_query(query, conn)\n",
    "for var in ['death', 'death_s', 'miss', 'inj_b', 'inj_l', 'inj', 'loss']:\n",
    "    df_sev.loc[:, var] = df_sev.loc[:, var].apply(lambda x: int.from_bytes(x, byteorder='little'))\n",
    "df_sev = df_sev.astype({'rec_id': int})\n",
    "df_sev.head()"
   ],
   "metadata": {
    "collapsed": false,
    "pycharm": {
     "name": "#%%\n"
    }
   }
  },
  {
   "cell_type": "markdown",
   "source": [
    "### 1.4 geo"
   ],
   "metadata": {
    "collapsed": false,
    "pycharm": {
     "name": "#%% md\n"
    }
   }
  },
  {
   "cell_type": "code",
   "execution_count": 7,
   "outputs": [
    {
     "name": "stderr",
     "output_type": "stream",
     "text": [
      "C:\\ProgramData\\Anaconda3\\lib\\site-packages\\ipykernel_launcher.py:5: FutureWarning: The pandas.np module is deprecated and will be removed from pandas in a future version. Import numpy directly instead\n",
      "  \"\"\"\n"
     ]
    }
   ],
   "source": [
    "## Load geo\n",
    "conn = sqlite3.connect(os.path.join(data_path, db))\n",
    "query = 'SELECT rec_id, road_id FROM geo'\n",
    "df_geo= pd.read_sql_query(query, conn)\n",
    "df_geo.fillna(value=pd.np.nan, inplace=True)\n",
    "df_geo = df_geo.astype({'road_id': float})\n",
    "df_geo = df_geo.astype({'road_id': pd.Int64Dtype()})"
   ],
   "metadata": {
    "collapsed": false,
    "pycharm": {
     "name": "#%%\n"
    }
   }
  },
  {
   "cell_type": "markdown",
   "source": [
    "### 1.5 road"
   ],
   "metadata": {
    "collapsed": false
   }
  },
  {
   "cell_type": "code",
   "execution_count": 8,
   "outputs": [
    {
     "name": "stderr",
     "output_type": "stream",
     "text": [
      "C:\\ProgramData\\Anaconda3\\lib\\site-packages\\ipykernel_launcher.py:5: FutureWarning: The pandas.np module is deprecated and will be removed from pandas in a future version. Import numpy directly instead\n",
      "  \"\"\"\n"
     ]
    },
    {
     "data": {
      "text/plain": "   rec_id road_name  road_type      distr\n0       1     福龙快速路         21  440319001\n1      84     福龙快速路         21  440319001\n2     235     福龙快速路         21  440319001\n3     285     福龙快速路         21  440319001\n4     639     福龙快速路         21  440319001",
      "text/html": "<div>\n<style scoped>\n    .dataframe tbody tr th:only-of-type {\n        vertical-align: middle;\n    }\n\n    .dataframe tbody tr th {\n        vertical-align: top;\n    }\n\n    .dataframe thead th {\n        text-align: right;\n    }\n</style>\n<table border=\"1\" class=\"dataframe\">\n  <thead>\n    <tr style=\"text-align: right;\">\n      <th></th>\n      <th>rec_id</th>\n      <th>road_name</th>\n      <th>road_type</th>\n      <th>distr</th>\n    </tr>\n  </thead>\n  <tbody>\n    <tr>\n      <th>0</th>\n      <td>1</td>\n      <td>福龙快速路</td>\n      <td>21</td>\n      <td>440319001</td>\n    </tr>\n    <tr>\n      <th>1</th>\n      <td>84</td>\n      <td>福龙快速路</td>\n      <td>21</td>\n      <td>440319001</td>\n    </tr>\n    <tr>\n      <th>2</th>\n      <td>235</td>\n      <td>福龙快速路</td>\n      <td>21</td>\n      <td>440319001</td>\n    </tr>\n    <tr>\n      <th>3</th>\n      <td>285</td>\n      <td>福龙快速路</td>\n      <td>21</td>\n      <td>440319001</td>\n    </tr>\n    <tr>\n      <th>4</th>\n      <td>639</td>\n      <td>福龙快速路</td>\n      <td>21</td>\n      <td>440319001</td>\n    </tr>\n  </tbody>\n</table>\n</div>"
     },
     "execution_count": 8,
     "metadata": {},
     "output_type": "execute_result"
    }
   ],
   "source": [
    "## Load road\n",
    "conn = sqlite3.connect(os.path.join(data_path, db))\n",
    "query = 'SELECT id, name, type, distr FROM road'\n",
    "df_road= pd.read_sql_query(query, conn)\n",
    "df_road.fillna(value=pd.np.nan, inplace=True)\n",
    "value_dict_rev = {v: k for k, v in value_dict['road_type'].items()}\n",
    "df_road.loc[:, 'type'] = df_road.loc[:, 'type'].apply(lambda x: value_dict_rev[x] if x in value_dict_rev else x)\n",
    "convert_dict = {'id': pd.Int64Dtype(), 'type': pd.Int64Dtype(), 'distr': pd.Int64Dtype()}\n",
    "df_road.loc[:, 'type'] = df_road.loc[:, 'type'].apply(lambda x: float(x))\n",
    "df_road.loc[:, 'distr'] = df_road.loc[:, 'distr'].apply(lambda x: float(x))\n",
    "df_road = df_road.astype(convert_dict)\n",
    "\n",
    "## Join road info to record\n",
    "df_road = pd.merge(df_geo, df_road, left_on='road_id', right_on='id').drop(columns=['road_id', 'id'])\n",
    "df_road.rename(columns={'name': 'road_name', 'type': 'road_type'}, inplace=True)\n",
    "df_road.head()\n"
   ],
   "metadata": {
    "collapsed": false,
    "pycharm": {
     "name": "#%%\n"
    }
   }
  },
  {
   "cell_type": "markdown",
   "source": [
    "### 1.6 People involved in the accidents\n",
    "This step takes all the crash participants into consideration."
   ],
   "metadata": {
    "collapsed": false
   }
  },
  {
   "cell_type": "code",
   "execution_count": 9,
   "outputs": [
    {
     "data": {
      "text/plain": "            acc_id gender   age  edu respon veh_type travel_mode\n0  440301201400335    NaN   NaN  NaN     主要   小型普通客车      小型普通客车\n1  440301201400350      女  27.0  NaN     主要   小型普通客车      驾驶小型客车\n2  440301201400340      男  24.0  NaN     无责  乘其他非机动车     乘其他非机动车\n3  440301201400353      男  33.0  NaN     无责     小型轿车      驾驶小型客车\n4  440301201400360      男   6.0  NaN     无责       步行          步行",
      "text/html": "<div>\n<style scoped>\n    .dataframe tbody tr th:only-of-type {\n        vertical-align: middle;\n    }\n\n    .dataframe tbody tr th {\n        vertical-align: top;\n    }\n\n    .dataframe thead th {\n        text-align: right;\n    }\n</style>\n<table border=\"1\" class=\"dataframe\">\n  <thead>\n    <tr style=\"text-align: right;\">\n      <th></th>\n      <th>acc_id</th>\n      <th>gender</th>\n      <th>age</th>\n      <th>edu</th>\n      <th>respon</th>\n      <th>veh_type</th>\n      <th>travel_mode</th>\n    </tr>\n  </thead>\n  <tbody>\n    <tr>\n      <th>0</th>\n      <td>440301201400335</td>\n      <td>NaN</td>\n      <td>NaN</td>\n      <td>NaN</td>\n      <td>主要</td>\n      <td>小型普通客车</td>\n      <td>小型普通客车</td>\n    </tr>\n    <tr>\n      <th>1</th>\n      <td>440301201400350</td>\n      <td>女</td>\n      <td>27.0</td>\n      <td>NaN</td>\n      <td>主要</td>\n      <td>小型普通客车</td>\n      <td>驾驶小型客车</td>\n    </tr>\n    <tr>\n      <th>2</th>\n      <td>440301201400340</td>\n      <td>男</td>\n      <td>24.0</td>\n      <td>NaN</td>\n      <td>无责</td>\n      <td>乘其他非机动车</td>\n      <td>乘其他非机动车</td>\n    </tr>\n    <tr>\n      <th>3</th>\n      <td>440301201400353</td>\n      <td>男</td>\n      <td>33.0</td>\n      <td>NaN</td>\n      <td>无责</td>\n      <td>小型轿车</td>\n      <td>驾驶小型客车</td>\n    </tr>\n    <tr>\n      <th>4</th>\n      <td>440301201400360</td>\n      <td>男</td>\n      <td>6.0</td>\n      <td>NaN</td>\n      <td>无责</td>\n      <td>步行</td>\n      <td>步行</td>\n    </tr>\n  </tbody>\n</table>\n</div>"
     },
     "execution_count": 9,
     "metadata": {},
     "output_type": "execute_result"
    }
   ],
   "source": [
    "# Read this part of data directly from source files\n",
    "var_list = ['事故编号', '性别', '年龄', '文化程度', '事故责任', '车辆类型', '交通方式']\n",
    "df_ppl_list = []\n",
    "for year in [2014,2015,2016]: #,',2015,2016'\n",
    "    for selec in ['上半年','下半年']: #,'下半年'\n",
    "        basicName = '人员信息表'\n",
    "        xl = pd.ExcelFile(os.path.join(data_path, str(year)+'年'+basicName+'.xls'))\n",
    "        df_pl = xl.parse(selec)\n",
    "        df_pl = df_pl.loc[:, var_list]\n",
    "        df_pl.columns = ['acc_id', 'gender', 'age', 'edu', 'respon', 'veh_type', 'travel_mode']\n",
    "        df_pl = df_pl.loc[df_pl.acc_id.isin(df_rec.acc_id), :]\n",
    "        df_ppl_list.append(df_pl)\n",
    "df_ppl = pd.concat(df_ppl_list)\n",
    "\n",
    "# Complete veh_type and travel_mode with the other\n",
    "df_ppl['veh_type'].fillna(df_ppl['travel_mode'], inplace=True)\n",
    "df_ppl['travel_mode'].fillna(df_ppl['veh_type'], inplace=True)\n",
    "df_ppl.head()"
   ],
   "metadata": {
    "collapsed": false,
    "pycharm": {
     "name": "#%%\n"
    }
   }
  },
  {
   "cell_type": "markdown",
   "source": [
    "## 2 Combine data together for further modelling"
   ],
   "metadata": {
    "collapsed": false,
    "pycharm": {
     "name": "#%% md\n"
    }
   }
  },
  {
   "cell_type": "code",
   "execution_count": 10,
   "outputs": [
    {
     "name": "stdout",
     "output_type": "stream",
     "text": [
      "Merged records and locations: 237255\n",
      "Merged road info: 237255\n",
      "Merged severity info: 237255\n",
      "Merged people involved: 436412\n",
      "<class 'pandas.core.frame.DataFrame'>\n",
      "Int64Index: 436412 entries, 0 to 436411\n",
      "Data columns (total 23 columns):\n",
      " #   Column       Non-Null Count   Dtype  \n",
      "---  ------       --------------   -----  \n",
      " 0   id           436412 non-null  Int64  \n",
      " 1   acc_id       436412 non-null  int64  \n",
      " 2   time         436412 non-null  object \n",
      " 3   type         395731 non-null  Int64  \n",
      " 4   weather      436412 non-null  int64  \n",
      " 5   reason       432503 non-null  Int64  \n",
      " 6   lat          431092 non-null  float64\n",
      " 7   long         431092 non-null  float64\n",
      " 8   road_name    396124 non-null  object \n",
      " 9   road_type    396141 non-null  Int64  \n",
      " 10  distr        396141 non-null  Int64  \n",
      " 11  death        436412 non-null  int64  \n",
      " 12  death_s      436412 non-null  int64  \n",
      " 13  miss         436412 non-null  int64  \n",
      " 14  inj_b        436412 non-null  int64  \n",
      " 15  inj_l        436412 non-null  int64  \n",
      " 16  inj          436412 non-null  int64  \n",
      " 17  gender       352636 non-null  object \n",
      " 18  age          388715 non-null  float64\n",
      " 19  edu          87774 non-null   object \n",
      " 20  respon       358072 non-null  object \n",
      " 21  veh_type     392369 non-null  object \n",
      " 22  travel_mode  392369 non-null  object \n",
      "dtypes: Int64(5), float64(3), int64(8), object(7)\n",
      "memory usage: 82.0+ MB\n",
      "None\n"
     ]
    }
   ],
   "source": [
    "## Merge location\n",
    "df = pd.merge(df_rec, df_loc, left_on='id', right_on='rec_id', how=\"outer\").drop(columns=['rec_id'])\n",
    "print('Merged records and locations: %s' % len(df))\n",
    "\n",
    "df = pd.merge(df, df_road, left_on='id', right_on='rec_id', how=\"outer\").drop(columns=['rec_id'])\n",
    "print('Merged road info: %s' % len(df))\n",
    "\n",
    "df = pd.merge(df, df_sev, left_on='id', right_on='rec_id', how=\"outer\").drop(columns=['rec_id'])\n",
    "print('Merged severity info: %s' % len(df))\n",
    "\n",
    "df = pd.merge(df, df_ppl, left_on='acc_id', right_on='acc_id', how=\"left\")\n",
    "print('Merged people involved: %s' % len(df))\n",
    "\n",
    "df.drop(columns=['loss'], inplace=True)\n",
    "print(df.info())"
   ],
   "metadata": {
    "collapsed": false,
    "pycharm": {
     "name": "#%%\n"
    }
   }
  },
  {
   "cell_type": "code",
   "execution_count": 11,
   "outputs": [
    {
     "data": {
      "text/plain": "   id           acc_id                 time  type  weather  reason        lat  \\\n0   1  440398201400141  2014-01-01 00:00:00    11        1    1094  22.593109   \n1   1  440398201400141  2014-01-01 00:00:00    11        1    1094  22.593109   \n2   2  440309201400034  2014-01-01 00:00:00    11        1    1043  22.782450   \n3   2  440309201400034  2014-01-01 00:00:00    11        1    1043  22.782450   \n4   3  440310201400029  2014-01-01 00:10:00    11        1    1225  22.746765   \n\n         long road_name  road_type  ...  miss  inj_b  inj_l  inj  gender  \\\n0  114.016152     福龙快速路         21  ...     0      0      0    0       男   \n1  114.016152     福龙快速路         21  ...     0      0      0    0       女   \n2  113.839231     107国道         11  ...     0      0      0    0       男   \n3  113.839231     107国道         11  ...     0      0      0    0       男   \n4  113.884162       根玉路         29  ...     0      0      1    1       女   \n\n    age  edu respon  veh_type travel_mode  \n0  46.0  NaN     无责    驾驶小型客车      驾驶小型客车  \n1  47.0  NaN     全部    驾驶大型客车      驾驶大型客车  \n2  62.0   初中     无责  普通正三轮摩托车     驾驶普通摩托车  \n3  30.0   初中     全部    轻型厢式货车      驾驶轻型货车  \n4  24.0  NaN     同等     电动自行车       电动自行车  \n\n[5 rows x 23 columns]",
      "text/html": "<div>\n<style scoped>\n    .dataframe tbody tr th:only-of-type {\n        vertical-align: middle;\n    }\n\n    .dataframe tbody tr th {\n        vertical-align: top;\n    }\n\n    .dataframe thead th {\n        text-align: right;\n    }\n</style>\n<table border=\"1\" class=\"dataframe\">\n  <thead>\n    <tr style=\"text-align: right;\">\n      <th></th>\n      <th>id</th>\n      <th>acc_id</th>\n      <th>time</th>\n      <th>type</th>\n      <th>weather</th>\n      <th>reason</th>\n      <th>lat</th>\n      <th>long</th>\n      <th>road_name</th>\n      <th>road_type</th>\n      <th>...</th>\n      <th>miss</th>\n      <th>inj_b</th>\n      <th>inj_l</th>\n      <th>inj</th>\n      <th>gender</th>\n      <th>age</th>\n      <th>edu</th>\n      <th>respon</th>\n      <th>veh_type</th>\n      <th>travel_mode</th>\n    </tr>\n  </thead>\n  <tbody>\n    <tr>\n      <th>0</th>\n      <td>1</td>\n      <td>440398201400141</td>\n      <td>2014-01-01 00:00:00</td>\n      <td>11</td>\n      <td>1</td>\n      <td>1094</td>\n      <td>22.593109</td>\n      <td>114.016152</td>\n      <td>福龙快速路</td>\n      <td>21</td>\n      <td>...</td>\n      <td>0</td>\n      <td>0</td>\n      <td>0</td>\n      <td>0</td>\n      <td>男</td>\n      <td>46.0</td>\n      <td>NaN</td>\n      <td>无责</td>\n      <td>驾驶小型客车</td>\n      <td>驾驶小型客车</td>\n    </tr>\n    <tr>\n      <th>1</th>\n      <td>1</td>\n      <td>440398201400141</td>\n      <td>2014-01-01 00:00:00</td>\n      <td>11</td>\n      <td>1</td>\n      <td>1094</td>\n      <td>22.593109</td>\n      <td>114.016152</td>\n      <td>福龙快速路</td>\n      <td>21</td>\n      <td>...</td>\n      <td>0</td>\n      <td>0</td>\n      <td>0</td>\n      <td>0</td>\n      <td>女</td>\n      <td>47.0</td>\n      <td>NaN</td>\n      <td>全部</td>\n      <td>驾驶大型客车</td>\n      <td>驾驶大型客车</td>\n    </tr>\n    <tr>\n      <th>2</th>\n      <td>2</td>\n      <td>440309201400034</td>\n      <td>2014-01-01 00:00:00</td>\n      <td>11</td>\n      <td>1</td>\n      <td>1043</td>\n      <td>22.782450</td>\n      <td>113.839231</td>\n      <td>107国道</td>\n      <td>11</td>\n      <td>...</td>\n      <td>0</td>\n      <td>0</td>\n      <td>0</td>\n      <td>0</td>\n      <td>男</td>\n      <td>62.0</td>\n      <td>初中</td>\n      <td>无责</td>\n      <td>普通正三轮摩托车</td>\n      <td>驾驶普通摩托车</td>\n    </tr>\n    <tr>\n      <th>3</th>\n      <td>2</td>\n      <td>440309201400034</td>\n      <td>2014-01-01 00:00:00</td>\n      <td>11</td>\n      <td>1</td>\n      <td>1043</td>\n      <td>22.782450</td>\n      <td>113.839231</td>\n      <td>107国道</td>\n      <td>11</td>\n      <td>...</td>\n      <td>0</td>\n      <td>0</td>\n      <td>0</td>\n      <td>0</td>\n      <td>男</td>\n      <td>30.0</td>\n      <td>初中</td>\n      <td>全部</td>\n      <td>轻型厢式货车</td>\n      <td>驾驶轻型货车</td>\n    </tr>\n    <tr>\n      <th>4</th>\n      <td>3</td>\n      <td>440310201400029</td>\n      <td>2014-01-01 00:10:00</td>\n      <td>11</td>\n      <td>1</td>\n      <td>1225</td>\n      <td>22.746765</td>\n      <td>113.884162</td>\n      <td>根玉路</td>\n      <td>29</td>\n      <td>...</td>\n      <td>0</td>\n      <td>0</td>\n      <td>1</td>\n      <td>1</td>\n      <td>女</td>\n      <td>24.0</td>\n      <td>NaN</td>\n      <td>同等</td>\n      <td>电动自行车</td>\n      <td>电动自行车</td>\n    </tr>\n  </tbody>\n</table>\n<p>5 rows × 23 columns</p>\n</div>"
     },
     "execution_count": 11,
     "metadata": {},
     "output_type": "execute_result"
    }
   ],
   "source": [
    "df.head()"
   ],
   "metadata": {
    "collapsed": false,
    "pycharm": {
     "name": "#%%\n"
    }
   }
  },
  {
   "cell_type": "code",
   "execution_count": 12,
   "outputs": [],
   "source": [
    "df.to_csv(os.path.join(data_path, \"data_s1.csv\"), index=False)"
   ],
   "metadata": {
    "collapsed": false,
    "pycharm": {
     "name": "#%%\n"
    }
   }
  }
 ],
 "metadata": {
  "kernelspec": {
   "display_name": "Python 3",
   "language": "python",
   "name": "python3"
  },
  "language_info": {
   "codemirror_mode": {
    "name": "ipython",
    "version": 2
   },
   "file_extension": ".py",
   "mimetype": "text/x-python",
   "name": "python",
   "nbconvert_exporter": "python",
   "pygments_lexer": "ipython2",
   "version": "2.7.6"
  }
 },
 "nbformat": 4,
 "nbformat_minor": 0
}